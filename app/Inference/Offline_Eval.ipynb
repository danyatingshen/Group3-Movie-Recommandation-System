{
  "cells": [
    {
      "cell_type": "code",
      "source": [
        "!pip install surprise"
      ],
      "metadata": {
        "colab": {
          "base_uri": "https://localhost:8080/"
        },
        "id": "AzGF9WqwIm-K",
        "outputId": "6b9a22a6-fa02-4e15-a943-dee49f83220b"
      },
      "execution_count": 2,
      "outputs": [
        {
          "output_type": "stream",
          "name": "stdout",
          "text": [
            "Looking in indexes: https://pypi.org/simple, https://us-python.pkg.dev/colab-wheels/public/simple/\n",
            "Collecting surprise\n",
            "  Downloading surprise-0.1-py2.py3-none-any.whl (1.8 kB)\n",
            "Collecting scikit-surprise\n",
            "  Downloading scikit-surprise-1.1.3.tar.gz (771 kB)\n",
            "\u001b[2K     \u001b[90m━━━━━━━━━━━━━━━━━━━━━━━━━━━━━━━━━━━━━━\u001b[0m \u001b[32m772.0/772.0 KB\u001b[0m \u001b[31m11.6 MB/s\u001b[0m eta \u001b[36m0:00:00\u001b[0m\n",
            "\u001b[?25h  Preparing metadata (setup.py) ... \u001b[?25l\u001b[?25hdone\n",
            "Requirement already satisfied: joblib>=1.0.0 in /usr/local/lib/python3.9/dist-packages (from scikit-surprise->surprise) (1.1.1)\n",
            "Requirement already satisfied: numpy>=1.17.3 in /usr/local/lib/python3.9/dist-packages (from scikit-surprise->surprise) (1.22.4)\n",
            "Requirement already satisfied: scipy>=1.3.2 in /usr/local/lib/python3.9/dist-packages (from scikit-surprise->surprise) (1.10.1)\n",
            "Building wheels for collected packages: scikit-surprise\n",
            "  Building wheel for scikit-surprise (setup.py) ... \u001b[?25l\u001b[?25hdone\n",
            "  Created wheel for scikit-surprise: filename=scikit_surprise-1.1.3-cp39-cp39-linux_x86_64.whl size=3193668 sha256=f49969bad4958eab4ee5ab0f0540e117912b0b044b781e32fe58c753bd225af1\n",
            "  Stored in directory: /root/.cache/pip/wheels/c6/3a/46/9b17b3512bdf283c6cb84f59929cdd5199d4e754d596d22784\n",
            "Successfully built scikit-surprise\n",
            "Installing collected packages: scikit-surprise, surprise\n",
            "Successfully installed scikit-surprise-1.1.3 surprise-0.1\n"
          ]
        }
      ]
    },
    {
      "cell_type": "code",
      "source": [
        "from surprise import Dataset, NormalPredictor, Reader,SVDpp,KNNBasic,accuracy,CoClustering\n",
        "from surprise.model_selection import cross_validate\n",
        "from surprise.model_selection import train_test_split\n",
        "import random\n",
        "import pandas as pd"
      ],
      "metadata": {
        "id": "nni3buURHone"
      },
      "execution_count": 3,
      "outputs": []
    },
    {
      "cell_type": "markdown",
      "source": [
        "Importing offline data"
      ],
      "metadata": {
        "id": "wyB2SbifHyoQ"
      }
    },
    {
      "cell_type": "code",
      "source": [
        "cols=['NaN','index','timestamp','userID','data_str','movieID','rating'] \n",
        "df = pd.read_csv('cleaned_data.csv',names = cols,header=None)"
      ],
      "metadata": {
        "id": "isFHVLkCHses"
      },
      "execution_count": 4,
      "outputs": []
    },
    {
      "cell_type": "markdown",
      "source": [
        "Importing into Readable dataset"
      ],
      "metadata": {
        "id": "WFknwEXyH2Ha"
      }
    },
    {
      "cell_type": "code",
      "source": [
        "df = df.tail(-1)\n",
        "\n",
        "reader = Reader(rating_scale=(1, 5))\n",
        "\n",
        "# The columns must correspond to user id, item id and ratings (in that order).\n",
        "dataset = Dataset.load_from_df(df[[\"userID\", \"movieID\", \"rating\"]], reader)\n",
        "\n",
        "train, test = train_test_split(dataset, test_size=0.25)"
      ],
      "metadata": {
        "id": "eqHpecOAHujl"
      },
      "execution_count": 5,
      "outputs": []
    },
    {
      "cell_type": "markdown",
      "source": [
        "SVD predictions"
      ],
      "metadata": {
        "id": "6Ny6XZgxICAI"
      }
    },
    {
      "cell_type": "code",
      "source": [
        "algo =  SVDpp()\n",
        "\n",
        "# Train the algorithm on the trainset, and predict ratings for the testset\n",
        "algo.fit(train)\n",
        "predictions = algo.test(test)\n",
        "\n",
        "# Then compute RMSE\n",
        "accuracy.rmse(predictions)"
      ],
      "metadata": {
        "colab": {
          "base_uri": "https://localhost:8080/"
        },
        "id": "ZkdfkuZyH5UW",
        "outputId": "2a8ad38e-241e-4ff2-be5b-188d375b0988"
      },
      "execution_count": 6,
      "outputs": [
        {
          "output_type": "stream",
          "name": "stdout",
          "text": [
            "RMSE: 0.7187\n"
          ]
        },
        {
          "output_type": "execute_result",
          "data": {
            "text/plain": [
              "0.718713327754466"
            ]
          },
          "metadata": {},
          "execution_count": 6
        }
      ]
    },
    {
      "cell_type": "markdown",
      "source": [
        "Extra User Details rendered offline"
      ],
      "metadata": {
        "id": "1_0hQ3DiIEMA"
      }
    },
    {
      "cell_type": "code",
      "source": [
        "test_user_details = pd.read_csv('user_details.csv')"
      ],
      "metadata": {
        "id": "7aG4-vOWIQTA"
      },
      "execution_count": 7,
      "outputs": []
    },
    {
      "cell_type": "markdown",
      "source": [
        "Segregating the test data into buckets of different age groups:\n",
        "1. Below 25\n",
        "2. Between 25 to 45\n",
        "3. Above 45"
      ],
      "metadata": {
        "id": "d_jg-ruIIUIM"
      }
    },
    {
      "cell_type": "code",
      "source": [
        "bucket1 = (test_user_details['age']<=25)\n",
        "bucket2 = ((test_user_details['age']>25) & (test_user_details['age']<=45))\n",
        "bucket3 = (test_user_details['age']>45)"
      ],
      "metadata": {
        "id": "pkIyWt-JITiW"
      },
      "execution_count": 33,
      "outputs": []
    },
    {
      "cell_type": "code",
      "source": [
        "under_25 = list(test_user_details[bucket1]['user_id'])\n",
        "from25_to_45 = list(test_user_details[bucket2]['user_id'])\n",
        "after_45 = list(test_user_details[bucket3]['user_id'])"
      ],
      "metadata": {
        "id": "zivGUXG8JpV4"
      },
      "execution_count": 37,
      "outputs": []
    },
    {
      "cell_type": "code",
      "source": [
        "print(len(under_25),len(from25_to_45),len(after_45))"
      ],
      "metadata": {
        "colab": {
          "base_uri": "https://localhost:8080/"
        },
        "id": "kUNwlKpFRU-w",
        "outputId": "b9c0b78b-2581-4bad-a126-c0b3f3bea6de"
      },
      "execution_count": 65,
      "outputs": [
        {
          "output_type": "stream",
          "name": "stdout",
          "text": [
            "66616 300024 12754\n"
          ]
        }
      ]
    },
    {
      "cell_type": "markdown",
      "source": [
        "Randomly sampling 2000"
      ],
      "metadata": {
        "id": "iQWO12njOA_f"
      }
    },
    {
      "cell_type": "code",
      "source": [
        "testsample = random.sample(test,2000)"
      ],
      "metadata": {
        "id": "4W3EEDiPJOHS"
      },
      "execution_count": 50,
      "outputs": []
    },
    {
      "cell_type": "markdown",
      "source": [
        "Taking a subsection of each of the buckets of the age"
      ],
      "metadata": {
        "id": "gBGBOKGjOG0w"
      }
    },
    {
      "cell_type": "code",
      "source": [
        "test_under_25 = [row for row in test if int(row[0]) in under_25]"
      ],
      "metadata": {
        "id": "MNxyNzFgNzii"
      },
      "execution_count": 57,
      "outputs": []
    },
    {
      "cell_type": "code",
      "source": [
        "test_25_to_45 = [row for row in test if int(row[0]) in from25_to_45]"
      ],
      "metadata": {
        "id": "oh0XHOtKNz8d"
      },
      "execution_count": 58,
      "outputs": []
    },
    {
      "cell_type": "code",
      "source": [
        "test_after45 = [row for row in test if int(row[0]) in after_45]"
      ],
      "metadata": {
        "id": "DMOWA66KN7xv"
      },
      "execution_count": 59,
      "outputs": []
    },
    {
      "cell_type": "markdown",
      "source": [
        "Predictions for first age bucket"
      ],
      "metadata": {
        "id": "cpntBY3QOKVA"
      }
    },
    {
      "cell_type": "code",
      "source": [
        "predictions_1 = algo.test(test_under_25)\n",
        "accuracy.rmse(predictions_1)"
      ],
      "metadata": {
        "colab": {
          "base_uri": "https://localhost:8080/"
        },
        "id": "hVnhnKkjOT3s",
        "outputId": "9a9bd420-547a-4607-af02-1789163185b9"
      },
      "execution_count": 60,
      "outputs": [
        {
          "output_type": "stream",
          "name": "stdout",
          "text": [
            "RMSE: 0.7473\n"
          ]
        },
        {
          "output_type": "execute_result",
          "data": {
            "text/plain": [
              "0.7473418391040447"
            ]
          },
          "metadata": {},
          "execution_count": 60
        }
      ]
    },
    {
      "cell_type": "markdown",
      "source": [
        "Second"
      ],
      "metadata": {
        "id": "YlHvy4UYOYhJ"
      }
    },
    {
      "cell_type": "code",
      "source": [
        "predictions_2 = algo.test(test_25_to_45)\n",
        "accuracy.rmse(predictions_2)"
      ],
      "metadata": {
        "colab": {
          "base_uri": "https://localhost:8080/"
        },
        "id": "3I8vQ4OsOaEh",
        "outputId": "b1b15a55-d968-499f-ad88-c31f78ba800a"
      },
      "execution_count": 61,
      "outputs": [
        {
          "output_type": "stream",
          "name": "stdout",
          "text": [
            "RMSE: 0.7134\n"
          ]
        },
        {
          "output_type": "execute_result",
          "data": {
            "text/plain": [
              "0.7134302521867458"
            ]
          },
          "metadata": {},
          "execution_count": 61
        }
      ]
    },
    {
      "cell_type": "markdown",
      "source": [
        "Third"
      ],
      "metadata": {
        "id": "ROLUOePBOew4"
      }
    },
    {
      "cell_type": "code",
      "source": [
        "predictions_3 = algo.test(test_after45)\n",
        "accuracy.rmse(predictions_3)"
      ],
      "metadata": {
        "colab": {
          "base_uri": "https://localhost:8080/"
        },
        "id": "yt48pjCkOfgT",
        "outputId": "2d93fb65-6fd4-40fb-9e59-2359fd736c95"
      },
      "execution_count": 62,
      "outputs": [
        {
          "output_type": "stream",
          "name": "stdout",
          "text": [
            "RMSE: 0.6657\n"
          ]
        },
        {
          "output_type": "execute_result",
          "data": {
            "text/plain": [
              "0.665703982175832"
            ]
          },
          "metadata": {},
          "execution_count": 62
        }
      ]
    },
    {
      "cell_type": "markdown",
      "source": [
        "## K-Fold Cross Validation"
      ],
      "metadata": {
        "id": "HG_4nM1ZP68M"
      }
    },
    {
      "cell_type": "code",
      "source": [
        "from surprise.model_selection import cross_validate\n",
        "\n",
        "cross_validate(algo,dataset,measures=['RMSE'],cv=5, verbose=True, n_jobs=-1)"
      ],
      "metadata": {
        "colab": {
          "base_uri": "https://localhost:8080/"
        },
        "id": "Ya_sQ_C3P9Lq",
        "outputId": "06991fb9-a526-467a-8442-aeace01e26ce"
      },
      "execution_count": 63,
      "outputs": [
        {
          "output_type": "stream",
          "name": "stdout",
          "text": [
            "Evaluating RMSE of algorithm SVDpp on 5 split(s).\n",
            "\n",
            "                  Fold 1  Fold 2  Fold 3  Fold 4  Fold 5  Mean    Std     \n",
            "RMSE (testset)    0.7002  0.7175  0.7278  0.7410  0.7162  0.7205  0.0135  \n",
            "Fit time          0.37    0.41    0.83    0.81    0.57    0.60    0.19    \n",
            "Test time         0.07    0.12    0.06    0.05    0.04    0.07    0.03    \n"
          ]
        },
        {
          "output_type": "execute_result",
          "data": {
            "text/plain": [
              "{'test_rmse': array([0.70017728, 0.71751575, 0.72775333, 0.74104199, 0.71618765]),\n",
              " 'fit_time': (0.3690822124481201,\n",
              "  0.40718770027160645,\n",
              "  0.8257157802581787,\n",
              "  0.8123235702514648,\n",
              "  0.5745441913604736),\n",
              " 'test_time': (0.06761336326599121,\n",
              "  0.12447166442871094,\n",
              "  0.06334519386291504,\n",
              "  0.05435371398925781,\n",
              "  0.03987598419189453)}"
            ]
          },
          "metadata": {},
          "execution_count": 63
        }
      ]
    }
  ],
  "metadata": {
    "colab": {
      "name": "Welcome to Colaboratory",
      "provenance": []
    },
    "kernelspec": {
      "display_name": "Python 3",
      "name": "python3"
    }
  },
  "nbformat": 4,
  "nbformat_minor": 0
}