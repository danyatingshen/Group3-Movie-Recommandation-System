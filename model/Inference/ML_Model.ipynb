{
  "nbformat": 4,
  "nbformat_minor": 0,
  "metadata": {
    "colab": {
      "provenance": []
    },
    "kernelspec": {
      "name": "python3",
      "display_name": "Python 3"
    },
    "language_info": {
      "name": "python"
    }
  },
  "cells": [
    {
      "cell_type": "markdown",
      "source": [
        "# KNN and SVD based Movie Recommendation System"
      ],
      "metadata": {
        "id": "FQT7LCbbsiAf"
      }
    },
    {
      "cell_type": "code",
      "source": [
        "import pandas as pd\n",
        "import numpy as np\n",
        "import os\n",
        "import regex as re\n",
        "\n",
        "#! pip install surprise\n",
        "from surprise import Reader\n",
        "from surprise import KNNWithMeans, get_dataset_dir"
      ],
      "metadata": {
        "id": "LWTdGdQgTY-f"
      },
      "execution_count": 50,
      "outputs": []
    },
    {
      "cell_type": "code",
      "source": [
        "from surprise import Dataset"
      ],
      "metadata": {
        "id": "ByM_fgUpugck"
      },
      "execution_count": 51,
      "outputs": []
    },
    {
      "cell_type": "code",
      "source": [
        "df = pd.read_csv('data1.csv',names = ['timestamp','userID','data_str'])\n",
        "df.shape"
      ],
      "metadata": {
        "colab": {
          "base_uri": "https://localhost:8080/"
        },
        "id": "SR3YSI3GTaFd",
        "outputId": "3017b8cc-aaf9-4854-f3b5-5d260e8e25d5"
      },
      "execution_count": 52,
      "outputs": [
        {
          "output_type": "execute_result",
          "data": {
            "text/plain": [
              "(303671, 3)"
            ]
          },
          "metadata": {},
          "execution_count": 52
        }
      ]
    },
    {
      "cell_type": "code",
      "source": [
        "df.columns"
      ],
      "metadata": {
        "colab": {
          "base_uri": "https://localhost:8080/"
        },
        "id": "7XTqICf0TaIn",
        "outputId": "9e479432-d1c4-4773-a5af-21b1c1f09ec6"
      },
      "execution_count": 53,
      "outputs": [
        {
          "output_type": "execute_result",
          "data": {
            "text/plain": [
              "Index(['timestamp', 'userID', 'data_str'], dtype='object')"
            ]
          },
          "metadata": {},
          "execution_count": 53
        }
      ]
    },
    {
      "cell_type": "code",
      "source": [
        "df1 = df.loc[ df['data_str'].str.contains('=')]\n",
        "df1.reset_index(inplace=True)"
      ],
      "metadata": {
        "id": "ehZKQTO9TaTb"
      },
      "execution_count": 54,
      "outputs": []
    },
    {
      "cell_type": "code",
      "source": [
        "df1['rating'] = df1['data_str'].apply(lambda x : x.split('=')[-1] ) "
      ],
      "metadata": {
        "colab": {
          "base_uri": "https://localhost:8080/"
        },
        "id": "9YL90OX0TaM8",
        "outputId": "0329a9f3-dea3-42c0-9942-c342bcfd35e9"
      },
      "execution_count": 55,
      "outputs": [
        {
          "output_type": "stream",
          "name": "stderr",
          "text": [
            "<ipython-input-55-65276f827919>:1: SettingWithCopyWarning: \n",
            "A value is trying to be set on a copy of a slice from a DataFrame.\n",
            "Try using .loc[row_indexer,col_indexer] = value instead\n",
            "\n",
            "See the caveats in the documentation: https://pandas.pydata.org/pandas-docs/stable/user_guide/indexing.html#returning-a-view-versus-a-copy\n",
            "  df1['rating'] = df1['data_str'].apply(lambda x : x.split('=')[-1] )\n"
          ]
        }
      ]
    },
    {
      "cell_type": "code",
      "source": [
        "df1['movieID'] = df1['data_str'].apply(lambda x : re.findall( 'rate/' + \"(.*)\" + '=', x)[0] ) "
      ],
      "metadata": {
        "colab": {
          "base_uri": "https://localhost:8080/"
        },
        "id": "hJHIpI7ppoqW",
        "outputId": "52de221e-ed8c-444b-f735-a38fd3aa8aaa"
      },
      "execution_count": 56,
      "outputs": [
        {
          "output_type": "stream",
          "name": "stderr",
          "text": [
            "<ipython-input-56-bcdf16f0ea6d>:1: SettingWithCopyWarning: \n",
            "A value is trying to be set on a copy of a slice from a DataFrame.\n",
            "Try using .loc[row_indexer,col_indexer] = value instead\n",
            "\n",
            "See the caveats in the documentation: https://pandas.pydata.org/pandas-docs/stable/user_guide/indexing.html#returning-a-view-versus-a-copy\n",
            "  df1['movieID'] = df1['data_str'].apply(lambda x : re.findall( 'rate/' + \"(.*)\" + '=', x)[0] )\n"
          ]
        }
      ]
    },
    {
      "cell_type": "code",
      "source": [
        "df1.head()"
      ],
      "metadata": {
        "colab": {
          "base_uri": "https://localhost:8080/",
          "height": 206
        },
        "id": "_dmgU71aTaaC",
        "outputId": "b1ba8b71-0c3c-4f71-d3e3-cae059847019"
      },
      "execution_count": 57,
      "outputs": [
        {
          "output_type": "execute_result",
          "data": {
            "text/plain": [
              "   index            timestamp  userID  \\\n",
              "0     83  2023-02-08T02:22:51  684782   \n",
              "1    187  2023-02-08T02:22:51  242281   \n",
              "2    255  2023-02-08T02:22:51  708816   \n",
              "3    280  2023-02-08T02:22:52  165725   \n",
              "4   1201  2023-02-08T02:22:53  327968   \n",
              "\n",
              "                                   data_str rating  \\\n",
              "0               GET /rate/big+hero+6+2014=4      4   \n",
              "1       GET /rate/the+exploding+girl+2009=4      4   \n",
              "2             GET /rate/jodhaa+akbar+2008=4      4   \n",
              "3      GET /rate/the+sweet+hereafter+1997=5      5   \n",
              "4  GET /rate/guardians+of+the+galaxy+2014=3      3   \n",
              "\n",
              "                        movieID  \n",
              "0               big+hero+6+2014  \n",
              "1       the+exploding+girl+2009  \n",
              "2             jodhaa+akbar+2008  \n",
              "3      the+sweet+hereafter+1997  \n",
              "4  guardians+of+the+galaxy+2014  "
            ],
            "text/html": [
              "\n",
              "  <div id=\"df-ce5198c1-54cc-4359-929a-5ee2c97cc099\">\n",
              "    <div class=\"colab-df-container\">\n",
              "      <div>\n",
              "<style scoped>\n",
              "    .dataframe tbody tr th:only-of-type {\n",
              "        vertical-align: middle;\n",
              "    }\n",
              "\n",
              "    .dataframe tbody tr th {\n",
              "        vertical-align: top;\n",
              "    }\n",
              "\n",
              "    .dataframe thead th {\n",
              "        text-align: right;\n",
              "    }\n",
              "</style>\n",
              "<table border=\"1\" class=\"dataframe\">\n",
              "  <thead>\n",
              "    <tr style=\"text-align: right;\">\n",
              "      <th></th>\n",
              "      <th>index</th>\n",
              "      <th>timestamp</th>\n",
              "      <th>userID</th>\n",
              "      <th>data_str</th>\n",
              "      <th>rating</th>\n",
              "      <th>movieID</th>\n",
              "    </tr>\n",
              "  </thead>\n",
              "  <tbody>\n",
              "    <tr>\n",
              "      <th>0</th>\n",
              "      <td>83</td>\n",
              "      <td>2023-02-08T02:22:51</td>\n",
              "      <td>684782</td>\n",
              "      <td>GET /rate/big+hero+6+2014=4</td>\n",
              "      <td>4</td>\n",
              "      <td>big+hero+6+2014</td>\n",
              "    </tr>\n",
              "    <tr>\n",
              "      <th>1</th>\n",
              "      <td>187</td>\n",
              "      <td>2023-02-08T02:22:51</td>\n",
              "      <td>242281</td>\n",
              "      <td>GET /rate/the+exploding+girl+2009=4</td>\n",
              "      <td>4</td>\n",
              "      <td>the+exploding+girl+2009</td>\n",
              "    </tr>\n",
              "    <tr>\n",
              "      <th>2</th>\n",
              "      <td>255</td>\n",
              "      <td>2023-02-08T02:22:51</td>\n",
              "      <td>708816</td>\n",
              "      <td>GET /rate/jodhaa+akbar+2008=4</td>\n",
              "      <td>4</td>\n",
              "      <td>jodhaa+akbar+2008</td>\n",
              "    </tr>\n",
              "    <tr>\n",
              "      <th>3</th>\n",
              "      <td>280</td>\n",
              "      <td>2023-02-08T02:22:52</td>\n",
              "      <td>165725</td>\n",
              "      <td>GET /rate/the+sweet+hereafter+1997=5</td>\n",
              "      <td>5</td>\n",
              "      <td>the+sweet+hereafter+1997</td>\n",
              "    </tr>\n",
              "    <tr>\n",
              "      <th>4</th>\n",
              "      <td>1201</td>\n",
              "      <td>2023-02-08T02:22:53</td>\n",
              "      <td>327968</td>\n",
              "      <td>GET /rate/guardians+of+the+galaxy+2014=3</td>\n",
              "      <td>3</td>\n",
              "      <td>guardians+of+the+galaxy+2014</td>\n",
              "    </tr>\n",
              "  </tbody>\n",
              "</table>\n",
              "</div>\n",
              "      <button class=\"colab-df-convert\" onclick=\"convertToInteractive('df-ce5198c1-54cc-4359-929a-5ee2c97cc099')\"\n",
              "              title=\"Convert this dataframe to an interactive table.\"\n",
              "              style=\"display:none;\">\n",
              "        \n",
              "  <svg xmlns=\"http://www.w3.org/2000/svg\" height=\"24px\"viewBox=\"0 0 24 24\"\n",
              "       width=\"24px\">\n",
              "    <path d=\"M0 0h24v24H0V0z\" fill=\"none\"/>\n",
              "    <path d=\"M18.56 5.44l.94 2.06.94-2.06 2.06-.94-2.06-.94-.94-2.06-.94 2.06-2.06.94zm-11 1L8.5 8.5l.94-2.06 2.06-.94-2.06-.94L8.5 2.5l-.94 2.06-2.06.94zm10 10l.94 2.06.94-2.06 2.06-.94-2.06-.94-.94-2.06-.94 2.06-2.06.94z\"/><path d=\"M17.41 7.96l-1.37-1.37c-.4-.4-.92-.59-1.43-.59-.52 0-1.04.2-1.43.59L10.3 9.45l-7.72 7.72c-.78.78-.78 2.05 0 2.83L4 21.41c.39.39.9.59 1.41.59.51 0 1.02-.2 1.41-.59l7.78-7.78 2.81-2.81c.8-.78.8-2.07 0-2.86zM5.41 20L4 18.59l7.72-7.72 1.47 1.35L5.41 20z\"/>\n",
              "  </svg>\n",
              "      </button>\n",
              "      \n",
              "  <style>\n",
              "    .colab-df-container {\n",
              "      display:flex;\n",
              "      flex-wrap:wrap;\n",
              "      gap: 12px;\n",
              "    }\n",
              "\n",
              "    .colab-df-convert {\n",
              "      background-color: #E8F0FE;\n",
              "      border: none;\n",
              "      border-radius: 50%;\n",
              "      cursor: pointer;\n",
              "      display: none;\n",
              "      fill: #1967D2;\n",
              "      height: 32px;\n",
              "      padding: 0 0 0 0;\n",
              "      width: 32px;\n",
              "    }\n",
              "\n",
              "    .colab-df-convert:hover {\n",
              "      background-color: #E2EBFA;\n",
              "      box-shadow: 0px 1px 2px rgba(60, 64, 67, 0.3), 0px 1px 3px 1px rgba(60, 64, 67, 0.15);\n",
              "      fill: #174EA6;\n",
              "    }\n",
              "\n",
              "    [theme=dark] .colab-df-convert {\n",
              "      background-color: #3B4455;\n",
              "      fill: #D2E3FC;\n",
              "    }\n",
              "\n",
              "    [theme=dark] .colab-df-convert:hover {\n",
              "      background-color: #434B5C;\n",
              "      box-shadow: 0px 1px 3px 1px rgba(0, 0, 0, 0.15);\n",
              "      filter: drop-shadow(0px 1px 2px rgba(0, 0, 0, 0.3));\n",
              "      fill: #FFFFFF;\n",
              "    }\n",
              "  </style>\n",
              "\n",
              "      <script>\n",
              "        const buttonEl =\n",
              "          document.querySelector('#df-ce5198c1-54cc-4359-929a-5ee2c97cc099 button.colab-df-convert');\n",
              "        buttonEl.style.display =\n",
              "          google.colab.kernel.accessAllowed ? 'block' : 'none';\n",
              "\n",
              "        async function convertToInteractive(key) {\n",
              "          const element = document.querySelector('#df-ce5198c1-54cc-4359-929a-5ee2c97cc099');\n",
              "          const dataTable =\n",
              "            await google.colab.kernel.invokeFunction('convertToInteractive',\n",
              "                                                     [key], {});\n",
              "          if (!dataTable) return;\n",
              "\n",
              "          const docLinkHtml = 'Like what you see? Visit the ' +\n",
              "            '<a target=\"_blank\" href=https://colab.research.google.com/notebooks/data_table.ipynb>data table notebook</a>'\n",
              "            + ' to learn more about interactive tables.';\n",
              "          element.innerHTML = '';\n",
              "          dataTable['output_type'] = 'display_data';\n",
              "          await google.colab.output.renderOutput(dataTable, element);\n",
              "          const docLink = document.createElement('div');\n",
              "          docLink.innerHTML = docLinkHtml;\n",
              "          element.appendChild(docLink);\n",
              "        }\n",
              "      </script>\n",
              "    </div>\n",
              "  </div>\n",
              "  "
            ]
          },
          "metadata": {},
          "execution_count": 57
        }
      ]
    },
    {
      "cell_type": "code",
      "source": [
        "reader = Reader()"
      ],
      "metadata": {
        "id": "OP8XRM9-tpdm"
      },
      "execution_count": 58,
      "outputs": []
    },
    {
      "cell_type": "code",
      "source": [
        "data = Dataset.load_from_df(df1[[\"userID\", \"movieID\", \"rating\"]], reader)"
      ],
      "metadata": {
        "id": "Lv0R-ybkTaiX"
      },
      "execution_count": 59,
      "outputs": []
    },
    {
      "cell_type": "code",
      "source": [
        "from surprise import SVD\n",
        "from surprise.model_selection import cross_validate\n",
        "import time"
      ],
      "metadata": {
        "id": "IfsYbx3gFiL_"
      },
      "execution_count": 60,
      "outputs": []
    },
    {
      "cell_type": "code",
      "source": [
        "# To use user-based cosine similarity\n",
        "sim_options = {\n",
        "    \"name\": \"cosine\",\n",
        "    \"user_based\": True,\n",
        "}\n",
        "\n",
        "algo1 = KNNWithMeans(sim_options=sim_options)\n",
        "algo2 = SVD()\n"
      ],
      "metadata": {
        "id": "7Z8OafgYTak0"
      },
      "execution_count": 61,
      "outputs": []
    },
    {
      "cell_type": "code",
      "source": [
        "start_time=time.time()\n",
        "cross_validate(algo = algo1, data = data, measures=['RMSE','MAE'], return_train_measures=True)\n",
        "end_time=time.time()-start_time\n",
        "print(end_time)"
      ],
      "metadata": {
        "colab": {
          "base_uri": "https://localhost:8080/"
        },
        "id": "NKYqIOycveg_",
        "outputId": "47f23374-aba2-4293-eb77-944b2dbbceb7"
      },
      "execution_count": 62,
      "outputs": [
        {
          "output_type": "stream",
          "name": "stdout",
          "text": [
            "Computing the cosine similarity matrix...\n",
            "Done computing similarity matrix.\n",
            "Computing the cosine similarity matrix...\n",
            "Done computing similarity matrix.\n",
            "Computing the cosine similarity matrix...\n",
            "Done computing similarity matrix.\n",
            "Computing the cosine similarity matrix...\n",
            "Done computing similarity matrix.\n",
            "Computing the cosine similarity matrix...\n",
            "Done computing similarity matrix.\n",
            "0.46486616134643555\n"
          ]
        }
      ]
    },
    {
      "cell_type": "code",
      "source": [
        "start_time=time.time()\n",
        "cross_validate(algo2, data, measures=['RMSE','MAE'], cv=5, verbose=True)\n",
        "end_time=time.time()-start_time\n",
        "print(end_time)"
      ],
      "metadata": {
        "colab": {
          "base_uri": "https://localhost:8080/"
        },
        "id": "VS1G4VGet6b5",
        "outputId": "c13e8938-ff13-4a5c-a42e-c5e032f1ced5"
      },
      "execution_count": 63,
      "outputs": [
        {
          "output_type": "stream",
          "name": "stdout",
          "text": [
            "Evaluating RMSE, MAE of algorithm SVD on 5 split(s).\n",
            "\n",
            "                  Fold 1  Fold 2  Fold 3  Fold 4  Fold 5  Mean    Std     \n",
            "RMSE (testset)    0.7482  0.7055  0.7649  0.7270  0.7316  0.7354  0.0201  \n",
            "MAE (testset)     0.6200  0.5877  0.6234  0.5987  0.6030  0.6066  0.0134  \n",
            "Fit time          0.03    0.03    0.03    0.04    0.03    0.03    0.00    \n",
            "Test time         0.10    0.00    0.00    0.00    0.00    0.02    0.04    \n",
            "0.30176806449890137\n"
          ]
        }
      ]
    },
    {
      "cell_type": "code",
      "source": [
        "#print(type(algo1))\n",
        "#print(type(algo2))\n",
        "from surprise import accuracy\n",
        "# from suprise import evaluate"
      ],
      "metadata": {
        "id": "pi0LHwu2t6yK"
      },
      "execution_count": 64,
      "outputs": []
    },
    {
      "cell_type": "code",
      "source": [
        "from surprise.model_selection import train_test_split\n",
        "trainset, testset = train_test_split(data, test_size=0.25)\n",
        "start_time_one=time.time()\n",
        "algo1.fit(trainset)\n",
        "end_time_one=time.time()-start_time\n",
        "start_time_two=time.time()\n",
        "algo2.fit(trainset)\n",
        "end_time_two=time.time()-start_time\n",
        "print(start_time_one)\n",
        "print(start_time_two)"
      ],
      "metadata": {
        "colab": {
          "base_uri": "https://localhost:8080/"
        },
        "id": "0LGgha8mt6oh",
        "outputId": "3e90fbb3-e0c9-4f2e-b222-4c70136ce2f9"
      },
      "execution_count": 65,
      "outputs": [
        {
          "output_type": "stream",
          "name": "stdout",
          "text": [
            "Computing the cosine similarity matrix...\n",
            "Done computing similarity matrix.\n",
            "1676858561.137407\n",
            "1676858561.189383\n"
          ]
        }
      ]
    },
    {
      "cell_type": "code",
      "source": [
        "start_time_one=time.time()\n",
        "predictions1 = algo1.test(testset)\n",
        "end_time_one=time.time()-start_time\n",
        "start_time_two=time.time()\n",
        "predictions2 = algo2.test(testset)\n",
        "end_time_two=time.time()-start_time\n",
        "print(start_time_one)\n",
        "print(start_time_two)"
      ],
      "metadata": {
        "colab": {
          "base_uri": "https://localhost:8080/"
        },
        "id": "iPolrxy1LWEj",
        "outputId": "ce34eefc-645e-4798-837c-9bb690da2fb7"
      },
      "execution_count": 66,
      "outputs": [
        {
          "output_type": "stream",
          "name": "stdout",
          "text": [
            "1676858561.233613\n",
            "1676858561.2395673\n"
          ]
        }
      ]
    },
    {
      "cell_type": "code",
      "source": [
        "algo2.predict(uid=708816, iid='jodhaa+akbar+2008')"
      ],
      "metadata": {
        "colab": {
          "base_uri": "https://localhost:8080/"
        },
        "id": "yIpu3ZNPuo47",
        "outputId": "d80081b8-033b-4707-8adb-78e2301fbbee"
      },
      "execution_count": 67,
      "outputs": [
        {
          "output_type": "execute_result",
          "data": {
            "text/plain": [
              "Prediction(uid=708816, iid='jodhaa+akbar+2008', r_ui=None, est=3.7613558221008274, details={'was_impossible': False})"
            ]
          },
          "metadata": {},
          "execution_count": 67
        }
      ]
    },
    {
      "cell_type": "code",
      "source": [
        "print(predictions1)\n",
        "print(predictions2)"
      ],
      "metadata": {
        "colab": {
          "base_uri": "https://localhost:8080/"
        },
        "id": "AVYGTPAuLW5M",
        "outputId": "35d63658-8ba2-4887-839d-066b26e1a0f5"
      },
      "execution_count": 73,
      "outputs": [
        {
          "output_type": "stream",
          "name": "stdout",
          "text": [
            "[Prediction(uid=797121, iid='all+tomorrows+parties+2009', r_ui=4.0, est=3.722112211221122, details={'was_impossible': True, 'reason': 'User and/or item is unknown.'}), Prediction(uid=869238, iid='the+wild+child+1970', r_ui=3.0, est=3.722112211221122, details={'was_impossible': True, 'reason': 'User and/or item is unknown.'}), Prediction(uid=291814, iid='the+terminator+1984', r_ui=4.0, est=3.722112211221122, details={'was_impossible': True, 'reason': 'User and/or item is unknown.'}), Prediction(uid=534170, iid='a+chinese+ghost+story+1987', r_ui=4.0, est=3.722112211221122, details={'was_impossible': True, 'reason': 'User and/or item is unknown.'}), Prediction(uid=518367, iid='exit+2006', r_ui=3.0, est=3.722112211221122, details={'was_impossible': True, 'reason': 'User and/or item is unknown.'}), Prediction(uid=607924, iid='about+last+night+2014', r_ui=3.0, est=3.722112211221122, details={'was_impossible': True, 'reason': 'User and/or item is unknown.'}), Prediction(uid=642296, iid='the+secret+garden+1993', r_ui=3.0, est=3.722112211221122, details={'was_impossible': True, 'reason': 'User and/or item is unknown.'}), Prediction(uid=464932, iid='padre+padrone+1977', r_ui=4.0, est=3.722112211221122, details={'was_impossible': True, 'reason': 'User and/or item is unknown.'}), Prediction(uid=315175, iid='quatermass+and+the+pit+1967', r_ui=4.0, est=3.722112211221122, details={'was_impossible': True, 'reason': 'User and/or item is unknown.'}), Prediction(uid=498156, iid='futurama+benders+big+score+2007', r_ui=4.0, est=3.722112211221122, details={'was_impossible': True, 'reason': 'User and/or item is unknown.'}), Prediction(uid=411708, iid='the+eighth+day+1996', r_ui=4.0, est=3.722112211221122, details={'was_impossible': True, 'reason': 'User and/or item is unknown.'}), Prediction(uid=302803, iid='barton+fink+1991', r_ui=4.0, est=3.722112211221122, details={'was_impossible': True, 'reason': 'User and/or item is unknown.'}), Prediction(uid=253833, iid='the+equalizer+2014', r_ui=4.0, est=3.722112211221122, details={'was_impossible': True, 'reason': 'User and/or item is unknown.'}), Prediction(uid=793782, iid='leon+the+professional+1994', r_ui=4.0, est=3.722112211221122, details={'was_impossible': True, 'reason': 'User and/or item is unknown.'}), Prediction(uid=938748, iid='anna+christie+1930', r_ui=3.0, est=3.722112211221122, details={'was_impossible': True, 'reason': 'User and/or item is unknown.'}), Prediction(uid=717193, iid='harry+potter+and+the+goblet+of+fire+2005', r_ui=4.0, est=3.722112211221122, details={'was_impossible': True, 'reason': 'User and/or item is unknown.'}), Prediction(uid=110936, iid='the+land+before+time+iv+journey+through+the+mists+1996', r_ui=3.0, est=3.722112211221122, details={'was_impossible': True, 'reason': 'User and/or item is unknown.'}), Prediction(uid=452602, iid='the+constant+nymph+1943', r_ui=4.0, est=3.722112211221122, details={'was_impossible': True, 'reason': 'User and/or item is unknown.'}), Prediction(uid=874685, iid='hard+boiled+1992', r_ui=4.0, est=3.722112211221122, details={'was_impossible': True, 'reason': 'User and/or item is unknown.'}), Prediction(uid=853842, iid='tainted+1998', r_ui=3.0, est=3.722112211221122, details={'was_impossible': True, 'reason': 'User and/or item is unknown.'}), Prediction(uid=520683, iid='unbreakable+2000', r_ui=3.0, est=3.722112211221122, details={'was_impossible': True, 'reason': 'User and/or item is unknown.'}), Prediction(uid=863277, iid='the+contract+2006', r_ui=3.0, est=3.722112211221122, details={'was_impossible': True, 'reason': 'User and/or item is unknown.'}), Prediction(uid=199397, iid='all+the+presidents+men+1976', r_ui=4.0, est=3.722112211221122, details={'was_impossible': True, 'reason': 'User and/or item is unknown.'}), Prediction(uid=425863, iid='you+are+so+beautiful+2005', r_ui=4.0, est=3.722112211221122, details={'was_impossible': True, 'reason': 'User and/or item is unknown.'}), Prediction(uid=664697, iid='death+line+1972', r_ui=3.0, est=3.722112211221122, details={'was_impossible': True, 'reason': 'User and/or item is unknown.'}), Prediction(uid=613880, iid='the+maid+2009', r_ui=4.0, est=3.722112211221122, details={'was_impossible': True, 'reason': 'User and/or item is unknown.'}), Prediction(uid=195816, iid='saving+private+ryan+1998', r_ui=3.0, est=3.722112211221122, details={'was_impossible': True, 'reason': 'User and/or item is unknown.'}), Prediction(uid=677440, iid='hawaiian+vacation+2011', r_ui=3.0, est=3.722112211221122, details={'was_impossible': True, 'reason': 'User and/or item is unknown.'}), Prediction(uid=105049, iid='inception+2010', r_ui=4.0, est=3.722112211221122, details={'was_impossible': True, 'reason': 'User and/or item is unknown.'}), Prediction(uid=358569, iid='interstellar+2014', r_ui=5.0, est=3.722112211221122, details={'was_impossible': True, 'reason': 'User and/or item is unknown.'}), Prediction(uid=839900, iid='the+world+of+apu+1959', r_ui=4.0, est=3.722112211221122, details={'was_impossible': True, 'reason': 'User and/or item is unknown.'}), Prediction(uid=210793, iid='interstellar+2014', r_ui=5.0, est=3.722112211221122, details={'was_impossible': True, 'reason': 'User and/or item is unknown.'}), Prediction(uid=334264, iid='castle+in+the+sky+1986', r_ui=4.0, est=3.722112211221122, details={'was_impossible': True, 'reason': 'User and/or item is unknown.'}), Prediction(uid=676240, iid='fight+club+1999', r_ui=4.0, est=3.722112211221122, details={'was_impossible': True, 'reason': 'User and/or item is unknown.'}), Prediction(uid=571333, iid='i_+robot+2004', r_ui=3.0, est=3.722112211221122, details={'was_impossible': True, 'reason': 'User and/or item is unknown.'}), Prediction(uid=235913, iid='the+omega+man+1971', r_ui=2.0, est=3.722112211221122, details={'was_impossible': True, 'reason': 'User and/or item is unknown.'}), Prediction(uid=741902, iid='the+blue+umbrella+2013', r_ui=4.0, est=3.722112211221122, details={'was_impossible': True, 'reason': 'User and/or item is unknown.'}), Prediction(uid=353154, iid='louis+c.k.+shameless+2007', r_ui=4.0, est=3.722112211221122, details={'was_impossible': True, 'reason': 'User and/or item is unknown.'}), Prediction(uid=67957, iid='harry+potter+and+the+deathly+hallows+part+1+2010', r_ui=5.0, est=3.722112211221122, details={'was_impossible': True, 'reason': 'User and/or item is unknown.'}), Prediction(uid=423602, iid='walle+2008', r_ui=4.0, est=3.722112211221122, details={'was_impossible': True, 'reason': 'User and/or item is unknown.'}), Prediction(uid=362907, iid='still+walking+2008', r_ui=4.0, est=3.722112211221122, details={'was_impossible': True, 'reason': 'User and/or item is unknown.'}), Prediction(uid=31013, iid='the+lord+of+the+rings+the+two+towers+2002', r_ui=5.0, est=3.722112211221122, details={'was_impossible': True, 'reason': 'User and/or item is unknown.'}), Prediction(uid=692618, iid='the+omen+1976', r_ui=4.0, est=3.722112211221122, details={'was_impossible': True, 'reason': 'User and/or item is unknown.'}), Prediction(uid=746035, iid='the+chatterley+affair+2006', r_ui=3.0, est=3.722112211221122, details={'was_impossible': True, 'reason': 'User and/or item is unknown.'}), Prediction(uid=422266, iid='the+orphanage+2007', r_ui=5.0, est=3.722112211221122, details={'was_impossible': True, 'reason': 'User and/or item is unknown.'}), Prediction(uid=428099, iid='the+matrix+1999', r_ui=4.0, est=3.722112211221122, details={'was_impossible': True, 'reason': 'User and/or item is unknown.'}), Prediction(uid=828287, iid='suing+the+devil+2011', r_ui=4.0, est=3.722112211221122, details={'was_impossible': True, 'reason': 'User and/or item is unknown.'}), Prediction(uid=282433, iid='harry+potter+and+the+chamber+of+secrets+2002', r_ui=3.0, est=3.722112211221122, details={'was_impossible': True, 'reason': 'User and/or item is unknown.'}), Prediction(uid=257487, iid='youth+of+the+son+1952', r_ui=4.0, est=3.722112211221122, details={'was_impossible': True, 'reason': 'User and/or item is unknown.'}), Prediction(uid=88647, iid='my+neighbor+totoro+1988', r_ui=3.0, est=3.722112211221122, details={'was_impossible': True, 'reason': 'User and/or item is unknown.'}), Prediction(uid=859776, iid='reservoir+dogs+1992', r_ui=5.0, est=3.722112211221122, details={'was_impossible': True, 'reason': 'User and/or item is unknown.'}), Prediction(uid=321171, iid='ju-on+black+ghost+2009', r_ui=5.0, est=3.722112211221122, details={'was_impossible': True, 'reason': 'User and/or item is unknown.'}), Prediction(uid=739067, iid='gone+girl+2014', r_ui=4.0, est=3.722112211221122, details={'was_impossible': True, 'reason': 'User and/or item is unknown.'}), Prediction(uid=242281, iid='the+exploding+girl+2009', r_ui=4.0, est=3.722112211221122, details={'was_impossible': True, 'reason': 'User and/or item is unknown.'}), Prediction(uid=690838, iid='coraline+2009', r_ui=3.0, est=3.722112211221122, details={'was_impossible': True, 'reason': 'User and/or item is unknown.'}), Prediction(uid=305242, iid='the+thin+man+1934', r_ui=4.0, est=3.722112211221122, details={'was_impossible': True, 'reason': 'User and/or item is unknown.'}), Prediction(uid=753470, iid='toy+story+1995', r_ui=4.0, est=3.722112211221122, details={'was_impossible': True, 'reason': 'User and/or item is unknown.'}), Prediction(uid=926960, iid='robot+stories+2003', r_ui=3.0, est=3.722112211221122, details={'was_impossible': True, 'reason': 'User and/or item is unknown.'}), Prediction(uid=81261, iid='harry+potter+and+the+goblet+of+fire+2005', r_ui=4.0, est=3.722112211221122, details={'was_impossible': True, 'reason': 'User and/or item is unknown.'}), Prediction(uid=848769, iid='fog+over+frisco+1934', r_ui=3.0, est=3.722112211221122, details={'was_impossible': True, 'reason': 'User and/or item is unknown.'}), Prediction(uid=659832, iid='hamlet+2000', r_ui=3.0, est=3.722112211221122, details={'was_impossible': True, 'reason': 'User and/or item is unknown.'}), Prediction(uid=43174, iid='the+cat+returns+2002', r_ui=4.0, est=3.722112211221122, details={'was_impossible': True, 'reason': 'User and/or item is unknown.'}), Prediction(uid=504712, iid='pussy+riot+a+punk+prayer+2013', r_ui=4.0, est=3.722112211221122, details={'was_impossible': True, 'reason': 'User and/or item is unknown.'}), Prediction(uid=784653, iid='darling+2007', r_ui=4.0, est=3.722112211221122, details={'was_impossible': True, 'reason': 'User and/or item is unknown.'}), Prediction(uid=11769, iid='mutant+chronicles+2008', r_ui=3.0, est=3.722112211221122, details={'was_impossible': True, 'reason': 'User and/or item is unknown.'}), Prediction(uid=238936, iid='seven+brides+for+seven+brothers+1954', r_ui=4.0, est=3.722112211221122, details={'was_impossible': True, 'reason': 'User and/or item is unknown.'}), Prediction(uid=259660, iid='our+hospitality+1923', r_ui=5.0, est=3.722112211221122, details={'was_impossible': True, 'reason': 'User and/or item is unknown.'}), Prediction(uid=509381, iid='a+lot+like+love+2005', r_ui=4.0, est=3.722112211221122, details={'was_impossible': True, 'reason': 'User and/or item is unknown.'}), Prediction(uid=687879, iid='bad+day+at+black+rock+1955', r_ui=5.0, est=3.722112211221122, details={'was_impossible': True, 'reason': 'User and/or item is unknown.'}), Prediction(uid=873166, iid='addams+family+values+1993', r_ui=3.0, est=3.722112211221122, details={'was_impossible': True, 'reason': 'User and/or item is unknown.'}), Prediction(uid=892478, iid='dial+m+for+murder+1954', r_ui=4.0, est=3.722112211221122, details={'was_impossible': True, 'reason': 'User and/or item is unknown.'}), Prediction(uid=859780, iid='a+handful+of+dust+1988', r_ui=3.0, est=3.722112211221122, details={'was_impossible': True, 'reason': 'User and/or item is unknown.'}), Prediction(uid=934716, iid='the+home+of+dark+butterflies+2008', r_ui=3.0, est=3.722112211221122, details={'was_impossible': True, 'reason': 'User and/or item is unknown.'}), Prediction(uid=592420, iid='le+jeu+de+la+mort+2010', r_ui=5.0, est=3.722112211221122, details={'was_impossible': True, 'reason': 'User and/or item is unknown.'}), Prediction(uid=533869, iid='constantine+2005', r_ui=2.0, est=3.722112211221122, details={'was_impossible': True, 'reason': 'User and/or item is unknown.'}), Prediction(uid=257505, iid='vertigo+1958', r_ui=4.0, est=3.722112211221122, details={'was_impossible': True, 'reason': 'User and/or item is unknown.'}), Prediction(uid=67931, iid='la+jete+1962', r_ui=3.0, est=3.722112211221122, details={'was_impossible': True, 'reason': 'User and/or item is unknown.'}), Prediction(uid=205767, iid='walter+defends+sarajevo+1972', r_ui=4.0, est=3.722112211221122, details={'was_impossible': True, 'reason': 'User and/or item is unknown.'}), Prediction(uid=525060, iid='titanic+1997', r_ui=3.0, est=3.722112211221122, details={'was_impossible': True, 'reason': 'User and/or item is unknown.'}), Prediction(uid=14470, iid='rambo+iii+1988', r_ui=3.0, est=3.722112211221122, details={'was_impossible': True, 'reason': 'User and/or item is unknown.'}), Prediction(uid=671054, iid='night+patrol+1984', r_ui=3.0, est=3.722112211221122, details={'was_impossible': True, 'reason': 'User and/or item is unknown.'}), Prediction(uid=279662, iid='battleship+potemkin+1925', r_ui=5.0, est=3.722112211221122, details={'was_impossible': True, 'reason': 'User and/or item is unknown.'}), Prediction(uid=440587, iid='shutter+island+2010', r_ui=4.0, est=3.722112211221122, details={'was_impossible': True, 'reason': 'User and/or item is unknown.'}), Prediction(uid=333218, iid='battleship+potemkin+1925', r_ui=4.0, est=3.722112211221122, details={'was_impossible': True, 'reason': 'User and/or item is unknown.'}), Prediction(uid=507891, iid='the+special+relationship+2010', r_ui=3.0, est=3.722112211221122, details={'was_impossible': True, 'reason': 'User and/or item is unknown.'}), Prediction(uid=769232, iid='fist+of+legend+1994', r_ui=4.0, est=3.722112211221122, details={'was_impossible': True, 'reason': 'User and/or item is unknown.'}), Prediction(uid=196413, iid='the+burrowers+2008', r_ui=3.0, est=3.722112211221122, details={'was_impossible': True, 'reason': 'User and/or item is unknown.'}), Prediction(uid=455973, iid='before+the+fall+2004', r_ui=4.0, est=3.722112211221122, details={'was_impossible': True, 'reason': 'User and/or item is unknown.'}), Prediction(uid=927971, iid='melody+time+1948', r_ui=4.0, est=3.722112211221122, details={'was_impossible': True, 'reason': 'User and/or item is unknown.'}), Prediction(uid=887587, iid='lady+and+the+tramp+1955', r_ui=2.0, est=3.722112211221122, details={'was_impossible': True, 'reason': 'User and/or item is unknown.'}), Prediction(uid=208413, iid='and+now+my+love+1974', r_ui=4.0, est=3.722112211221122, details={'was_impossible': True, 'reason': 'User and/or item is unknown.'}), Prediction(uid=124977, iid='alice+in+wonderland+2010', r_ui=3.0, est=3.722112211221122, details={'was_impossible': True, 'reason': 'User and/or item is unknown.'}), Prediction(uid=872073, iid='cars+2006', r_ui=4.0, est=3.722112211221122, details={'was_impossible': True, 'reason': 'User and/or item is unknown.'}), Prediction(uid=384633, iid='gattaca+1997', r_ui=4.0, est=3.722112211221122, details={'was_impossible': True, 'reason': 'User and/or item is unknown.'}), Prediction(uid=525073, iid='the+gift+2000', r_ui=4.0, est=3.722112211221122, details={'was_impossible': True, 'reason': 'User and/or item is unknown.'}), Prediction(uid=215927, iid='monsters_+inc.+2001', r_ui=4.0, est=3.722112211221122, details={'was_impossible': True, 'reason': 'User and/or item is unknown.'}), Prediction(uid=687444, iid='final+fantasy+vii+advent+children+2005', r_ui=3.0, est=3.722112211221122, details={'was_impossible': True, 'reason': 'User and/or item is unknown.'}), Prediction(uid=452004, iid='kill+bill+vol.+1+2003', r_ui=5.0, est=3.722112211221122, details={'was_impossible': True, 'reason': 'User and/or item is unknown.'}), Prediction(uid=283551, iid='a+star+is+born+1976', r_ui=3.0, est=3.722112211221122, details={'was_impossible': True, 'reason': 'User and/or item is unknown.'}), Prediction(uid=135124, iid='delitto+a+porta+romana+1980', r_ui=3.0, est=3.722112211221122, details={'was_impossible': True, 'reason': 'User and/or item is unknown.'}), Prediction(uid=795473, iid='deep+blue+sea+1999', r_ui=2.0, est=3.722112211221122, details={'was_impossible': True, 'reason': 'User and/or item is unknown.'}), Prediction(uid=794481, iid='tarzan+the+ape+man+1932', r_ui=3.0, est=3.722112211221122, details={'was_impossible': True, 'reason': 'User and/or item is unknown.'}), Prediction(uid=153732, iid='fireproof+2008', r_ui=3.0, est=3.722112211221122, details={'was_impossible': True, 'reason': 'User and/or item is unknown.'}), Prediction(uid=513170, iid='mulan+1998', r_ui=5.0, est=3.722112211221122, details={'was_impossible': True, 'reason': 'User and/or item is unknown.'}), Prediction(uid=715888, iid='harry+potter+and+the+half-blood+prince+2009', r_ui=4.0, est=3.722112211221122, details={'was_impossible': True, 'reason': 'User and/or item is unknown.'}), Prediction(uid=476802, iid='allegheny+uprising+1939', r_ui=4.0, est=3.722112211221122, details={'was_impossible': True, 'reason': 'User and/or item is unknown.'}), Prediction(uid=246623, iid='the+play+house+1921', r_ui=3.0, est=3.722112211221122, details={'was_impossible': True, 'reason': 'User and/or item is unknown.'}), Prediction(uid=114868, iid='runaway+brain+1995', r_ui=3.0, est=3.722112211221122, details={'was_impossible': True, 'reason': 'User and/or item is unknown.'}), Prediction(uid=503147, iid='the+shawshank+redemption+1994', r_ui=5.0, est=3.722112211221122, details={'was_impossible': True, 'reason': 'User and/or item is unknown.'}), Prediction(uid=127883, iid='hells+kitchen+1998', r_ui=3.0, est=3.722112211221122, details={'was_impossible': True, 'reason': 'User and/or item is unknown.'}), Prediction(uid=839431, iid='i+killed+my+mother+2009', r_ui=4.0, est=3.722112211221122, details={'was_impossible': True, 'reason': 'User and/or item is unknown.'}), Prediction(uid=173305, iid='nightcrawler+2014', r_ui=4.0, est=3.722112211221122, details={'was_impossible': True, 'reason': 'User and/or item is unknown.'}), Prediction(uid=435910, iid='the+hobbit+an+unexpected+journey+2012', r_ui=4.0, est=3.722112211221122, details={'was_impossible': True, 'reason': 'User and/or item is unknown.'}), Prediction(uid=455257, iid='the+hobbit+the+desolation+of+smaug+2013', r_ui=3.0, est=3.722112211221122, details={'was_impossible': True, 'reason': 'User and/or item is unknown.'}), Prediction(uid=601700, iid='kings+of+pastry+2009', r_ui=4.0, est=3.722112211221122, details={'was_impossible': True, 'reason': 'User and/or item is unknown.'}), Prediction(uid=814267, iid='end+of+watch+2012', r_ui=4.0, est=3.722112211221122, details={'was_impossible': True, 'reason': 'User and/or item is unknown.'}), Prediction(uid=237590, iid='from+dusk+till+dawn+1996', r_ui=3.0, est=3.722112211221122, details={'was_impossible': True, 'reason': 'User and/or item is unknown.'}), Prediction(uid=896670, iid='the+green+mile+1999', r_ui=3.0, est=3.722112211221122, details={'was_impossible': True, 'reason': 'User and/or item is unknown.'}), Prediction(uid=72253, iid='day++night+2010', r_ui=4.0, est=3.722112211221122, details={'was_impossible': True, 'reason': 'User and/or item is unknown.'}), Prediction(uid=229985, iid='harry+potter+and+the+philosophers+stone+2001', r_ui=3.0, est=3.722112211221122, details={'was_impossible': True, 'reason': 'User and/or item is unknown.'}), Prediction(uid=605690, iid='the+in-laws+2003', r_ui=3.0, est=3.722112211221122, details={'was_impossible': True, 'reason': 'User and/or item is unknown.'}), Prediction(uid=541342, iid='z+1969', r_ui=5.0, est=3.722112211221122, details={'was_impossible': True, 'reason': 'User and/or item is unknown.'}), Prediction(uid=234997, iid='star+wars+1977', r_ui=4.0, est=3.722112211221122, details={'was_impossible': True, 'reason': 'User and/or item is unknown.'}), Prediction(uid=335953, iid='ju-on+the+grudge+2002', r_ui=5.0, est=3.722112211221122, details={'was_impossible': True, 'reason': 'User and/or item is unknown.'}), Prediction(uid=684610, iid='u+pana+boga+za+piecem+1998', r_ui=4.0, est=3.722112211221122, details={'was_impossible': True, 'reason': 'User and/or item is unknown.'}), Prediction(uid=911867, iid='something+in+the+wind+1947', r_ui=3.0, est=3.722112211221122, details={'was_impossible': True, 'reason': 'User and/or item is unknown.'}), Prediction(uid=937467, iid='goliath+awaits+1981', r_ui=4.0, est=3.722112211221122, details={'was_impossible': True, 'reason': 'User and/or item is unknown.'}), Prediction(uid=570056, iid='pure+luck+1991', r_ui=3.0, est=3.722112211221122, details={'was_impossible': True, 'reason': 'User and/or item is unknown.'}), Prediction(uid=474349, iid='frozen+2013', r_ui=4.0, est=3.722112211221122, details={'was_impossible': True, 'reason': 'User and/or item is unknown.'}), Prediction(uid=224631, iid='100+ways+to+murder+your+wife+1986', r_ui=3.0, est=3.722112211221122, details={'was_impossible': True, 'reason': 'User and/or item is unknown.'}), Prediction(uid=731457, iid='terminator+2+judgment+day+1991', r_ui=4.0, est=3.722112211221122, details={'was_impossible': True, 'reason': 'User and/or item is unknown.'}), Prediction(uid=933333, iid='starlet+2012', r_ui=3.0, est=3.722112211221122, details={'was_impossible': True, 'reason': 'User and/or item is unknown.'}), Prediction(uid=824000, iid='from+the+life+of+the+marionettes+1980', r_ui=3.0, est=3.722112211221122, details={'was_impossible': True, 'reason': 'User and/or item is unknown.'}), Prediction(uid=284288, iid='my+neighbor+totoro+1988', r_ui=3.0, est=3.722112211221122, details={'was_impossible': True, 'reason': 'User and/or item is unknown.'}), Prediction(uid=301122, iid='my+neighbor+totoro+1988', r_ui=4.0, est=3.722112211221122, details={'was_impossible': True, 'reason': 'User and/or item is unknown.'}), Prediction(uid=456550, iid='charlie+and+the+chocolate+factory+2005', r_ui=4.0, est=3.722112211221122, details={'was_impossible': True, 'reason': 'User and/or item is unknown.'}), Prediction(uid=61103, iid='tales+from+the+golden+age+2009', r_ui=4.0, est=3.722112211221122, details={'was_impossible': True, 'reason': 'User and/or item is unknown.'}), Prediction(uid=407596, iid='paradise+lost+3+purgatory+2011', r_ui=5.0, est=3.722112211221122, details={'was_impossible': True, 'reason': 'User and/or item is unknown.'}), Prediction(uid=684278, iid='willy+wonka++the+chocolate+factory+1971', r_ui=3.0, est=3.722112211221122, details={'was_impossible': True, 'reason': 'User and/or item is unknown.'}), Prediction(uid=264150, iid='young+black+stallion+2003', r_ui=3.0, est=3.722112211221122, details={'was_impossible': True, 'reason': 'User and/or item is unknown.'}), Prediction(uid=56086, iid='wieners+2008', r_ui=4.0, est=3.722112211221122, details={'was_impossible': True, 'reason': 'User and/or item is unknown.'}), Prediction(uid=820954, iid='between+heaven+and+hell+1956', r_ui=3.0, est=3.722112211221122, details={'was_impossible': True, 'reason': 'User and/or item is unknown.'}), Prediction(uid=897697, iid='guest+of+cindy+sherman+2008', r_ui=2.0, est=3.722112211221122, details={'was_impossible': True, 'reason': 'User and/or item is unknown.'}), Prediction(uid=836641, iid='the+avengers+2012', r_ui=4.0, est=3.722112211221122, details={'was_impossible': True, 'reason': 'User and/or item is unknown.'}), Prediction(uid=780206, iid='the+gospel+according+to+matthew+1964', r_ui=4.0, est=3.722112211221122, details={'was_impossible': True, 'reason': 'User and/or item is unknown.'}), Prediction(uid=422115, iid='saving+private+ryan+1998', r_ui=4.0, est=3.722112211221122, details={'was_impossible': True, 'reason': 'User and/or item is unknown.'}), Prediction(uid=174491, iid='how+to+train+your+dragon+2010', r_ui=2.0, est=3.722112211221122, details={'was_impossible': True, 'reason': 'User and/or item is unknown.'}), Prediction(uid=927317, iid='trapped+2002', r_ui=3.0, est=3.722112211221122, details={'was_impossible': True, 'reason': 'User and/or item is unknown.'}), Prediction(uid=225258, iid='the+beguiled+1971', r_ui=4.0, est=3.722112211221122, details={'was_impossible': True, 'reason': 'User and/or item is unknown.'}), Prediction(uid=199692, iid='pirates+of+silicon+valley+1999', r_ui=4.0, est=3.722112211221122, details={'was_impossible': True, 'reason': 'User and/or item is unknown.'}), Prediction(uid=251492, iid='mr.+hollands+opus+1995', r_ui=2.0, est=3.722112211221122, details={'was_impossible': True, 'reason': 'User and/or item is unknown.'}), Prediction(uid=674698, iid='star+trek+the+motion+picture+1979', r_ui=3.0, est=3.722112211221122, details={'was_impossible': True, 'reason': 'User and/or item is unknown.'}), Prediction(uid=703768, iid='the+green+mile+1999', r_ui=5.0, est=3.722112211221122, details={'was_impossible': True, 'reason': 'User and/or item is unknown.'}), Prediction(uid=832403, iid='the+strange+case+of+dr.+jekyll+and+mr.+hyde+1968', r_ui=4.0, est=3.722112211221122, details={'was_impossible': True, 'reason': 'User and/or item is unknown.'}), Prediction(uid=217145, iid='the+seventh+seal+1957', r_ui=4.0, est=3.722112211221122, details={'was_impossible': True, 'reason': 'User and/or item is unknown.'}), Prediction(uid=293992, iid='the+godfather+1972', r_ui=4.0, est=3.722112211221122, details={'was_impossible': True, 'reason': 'User and/or item is unknown.'}), Prediction(uid=36642, iid='river+queen+2005', r_ui=4.0, est=3.722112211221122, details={'was_impossible': True, 'reason': 'User and/or item is unknown.'}), Prediction(uid=25432, iid='crazy+safari+1991', r_ui=4.0, est=3.722112211221122, details={'was_impossible': True, 'reason': 'User and/or item is unknown.'}), Prediction(uid=222416, iid='raiders+of+the+lost+ark+1981', r_ui=5.0, est=3.722112211221122, details={'was_impossible': True, 'reason': 'User and/or item is unknown.'}), Prediction(uid=115953, iid='the+incredibles+2004', r_ui=4.0, est=3.722112211221122, details={'was_impossible': True, 'reason': 'User and/or item is unknown.'}), Prediction(uid=2082, iid='bambi+1942', r_ui=3.0, est=3.722112211221122, details={'was_impossible': True, 'reason': 'User and/or item is unknown.'}), Prediction(uid=258175, iid='snowpiercer+2013', r_ui=4.0, est=3.722112211221122, details={'was_impossible': True, 'reason': 'User and/or item is unknown.'}), Prediction(uid=828914, iid='ward+13+2003', r_ui=4.0, est=3.722112211221122, details={'was_impossible': True, 'reason': 'User and/or item is unknown.'}), Prediction(uid=325301, iid='soylent+green+1973', r_ui=5.0, est=3.722112211221122, details={'was_impossible': True, 'reason': 'User and/or item is unknown.'}), Prediction(uid=247598, iid='morituri+1965', r_ui=4.0, est=3.722112211221122, details={'was_impossible': True, 'reason': 'User and/or item is unknown.'}), Prediction(uid=718405, iid='harry+potter+and+the+philosophers+stone+2001', r_ui=4.0, est=3.722112211221122, details={'was_impossible': True, 'reason': 'User and/or item is unknown.'}), Prediction(uid=97276, iid='the+barretts+of+wimpole+street+1934', r_ui=4.0, est=3.722112211221122, details={'was_impossible': True, 'reason': 'User and/or item is unknown.'}), Prediction(uid=920450, iid='stranger+than+fiction+2006', r_ui=4.0, est=3.722112211221122, details={'was_impossible': True, 'reason': 'User and/or item is unknown.'}), Prediction(uid=18531, iid='mister+lonely+2008', r_ui=4.0, est=3.722112211221122, details={'was_impossible': True, 'reason': 'User and/or item is unknown.'}), Prediction(uid=639838, iid='class+of+1999+1990', r_ui=4.0, est=3.722112211221122, details={'was_impossible': True, 'reason': 'User and/or item is unknown.'}), Prediction(uid=99868, iid='siegfried+2005', r_ui=3.0, est=3.722112211221122, details={'was_impossible': True, 'reason': 'User and/or item is unknown.'}), Prediction(uid=746555, iid='walle+2008', r_ui=4.0, est=3.722112211221122, details={'was_impossible': True, 'reason': 'User and/or item is unknown.'}), Prediction(uid=481861, iid='go+west+1925', r_ui=5.0, est=3.722112211221122, details={'was_impossible': True, 'reason': 'User and/or item is unknown.'}), Prediction(uid=800699, iid='the+lord+of+the+rings+the+two+towers+2002', r_ui=5.0, est=3.722112211221122, details={'was_impossible': True, 'reason': 'User and/or item is unknown.'}), Prediction(uid=758475, iid='comet+in+moominland+1992', r_ui=5.0, est=3.722112211221122, details={'was_impossible': True, 'reason': 'User and/or item is unknown.'}), Prediction(uid=911230, iid='dial+m+for+murder+1954', r_ui=5.0, est=3.722112211221122, details={'was_impossible': True, 'reason': 'User and/or item is unknown.'}), Prediction(uid=101909, iid='that+naughty+girl+1956', r_ui=4.0, est=3.722112211221122, details={'was_impossible': True, 'reason': 'User and/or item is unknown.'}), Prediction(uid=467114, iid='stop+making+sense+1984', r_ui=4.0, est=3.722112211221122, details={'was_impossible': True, 'reason': 'User and/or item is unknown.'}), Prediction(uid=549145, iid='ruby+sparks+2012', r_ui=3.0, est=3.722112211221122, details={'was_impossible': True, 'reason': 'User and/or item is unknown.'}), Prediction(uid=848988, iid='enemy+2013', r_ui=3.0, est=3.722112211221122, details={'was_impossible': True, 'reason': 'User and/or item is unknown.'}), Prediction(uid=383775, iid='my+architect+2003', r_ui=5.0, est=3.722112211221122, details={'was_impossible': True, 'reason': 'User and/or item is unknown.'}), Prediction(uid=731946, iid='maleficent+2014', r_ui=4.0, est=3.722112211221122, details={'was_impossible': True, 'reason': 'User and/or item is unknown.'}), Prediction(uid=669673, iid='zeitgeist+addendum+2008', r_ui=4.0, est=3.722112211221122, details={'was_impossible': True, 'reason': 'User and/or item is unknown.'}), Prediction(uid=42768, iid='beetlejuice+1988', r_ui=4.0, est=3.722112211221122, details={'was_impossible': True, 'reason': 'User and/or item is unknown.'}), Prediction(uid=209242, iid='terrorstorm+a+history+of+government-sponsored+terrorism+2006', r_ui=4.0, est=3.722112211221122, details={'was_impossible': True, 'reason': 'User and/or item is unknown.'}), Prediction(uid=932340, iid='500+days+of+summer+2009', r_ui=4.0, est=3.722112211221122, details={'was_impossible': True, 'reason': 'User and/or item is unknown.'}), Prediction(uid=938518, iid='a+nightmare+on+elm+street+1984', r_ui=4.0, est=3.722112211221122, details={'was_impossible': True, 'reason': 'User and/or item is unknown.'}), Prediction(uid=299902, iid='new+york+in+the+50s+2001', r_ui=4.0, est=3.722112211221122, details={'was_impossible': True, 'reason': 'User and/or item is unknown.'}), Prediction(uid=221989, iid='the+music+room+1958', r_ui=3.0, est=3.722112211221122, details={'was_impossible': True, 'reason': 'User and/or item is unknown.'}), Prediction(uid=542395, iid='play+misty+for+me+1971', r_ui=5.0, est=3.722112211221122, details={'was_impossible': True, 'reason': 'User and/or item is unknown.'}), Prediction(uid=542893, iid='aftermath+1994', r_ui=4.0, est=3.722112211221122, details={'was_impossible': True, 'reason': 'User and/or item is unknown.'}), Prediction(uid=106537, iid='the+power+of+nightmares+2004', r_ui=3.0, est=3.722112211221122, details={'was_impossible': True, 'reason': 'User and/or item is unknown.'}), Prediction(uid=802097, iid='exhibition+2013', r_ui=3.0, est=3.722112211221122, details={'was_impossible': True, 'reason': 'User and/or item is unknown.'}), Prediction(uid=816342, iid='maurice+1987', r_ui=3.0, est=3.722112211221122, details={'was_impossible': True, 'reason': 'User and/or item is unknown.'}), Prediction(uid=937533, iid='sanshiro+sugata+part+two+1945', r_ui=4.0, est=3.722112211221122, details={'was_impossible': True, 'reason': 'User and/or item is unknown.'}), Prediction(uid=918890, iid='grajcy+z+talerza+1995', r_ui=4.0, est=3.722112211221122, details={'was_impossible': True, 'reason': 'User and/or item is unknown.'}), Prediction(uid=76002, iid='the+island+president+2012', r_ui=3.0, est=3.722112211221122, details={'was_impossible': True, 'reason': 'User and/or item is unknown.'}), Prediction(uid=553158, iid='my+cousin+vinny+1992', r_ui=4.0, est=3.722112211221122, details={'was_impossible': True, 'reason': 'User and/or item is unknown.'}), Prediction(uid=405897, iid='monsters_+inc.+2001', r_ui=4.0, est=3.722112211221122, details={'was_impossible': True, 'reason': 'User and/or item is unknown.'}), Prediction(uid=332206, iid='three+coins+in+the+fountain+1954', r_ui=4.0, est=3.722112211221122, details={'was_impossible': True, 'reason': 'User and/or item is unknown.'}), Prediction(uid=127590, iid='seven+up+1964', r_ui=5.0, est=3.722112211221122, details={'was_impossible': True, 'reason': 'User and/or item is unknown.'}), Prediction(uid=156794, iid='amateur+1994', r_ui=4.0, est=3.722112211221122, details={'was_impossible': True, 'reason': 'User and/or item is unknown.'}), Prediction(uid=392507, iid='amber+alert+2012', r_ui=3.0, est=3.722112211221122, details={'was_impossible': True, 'reason': 'User and/or item is unknown.'}), Prediction(uid=244751, iid='princess+yang+kwei+fei+1955', r_ui=4.0, est=3.722112211221122, details={'was_impossible': True, 'reason': 'User and/or item is unknown.'}), Prediction(uid=126959, iid='hotel+transylvania+2012', r_ui=5.0, est=3.722112211221122, details={'was_impossible': True, 'reason': 'User and/or item is unknown.'}), Prediction(uid=293712, iid='moonlight+mile+2002', r_ui=3.0, est=3.722112211221122, details={'was_impossible': True, 'reason': 'User and/or item is unknown.'}), Prediction(uid=870191, iid='batman+the+dark+knight+returns_+part+1+2012', r_ui=5.0, est=3.722112211221122, details={'was_impossible': True, 'reason': 'User and/or item is unknown.'}), Prediction(uid=931995, iid='harry+potter+and+the+deathly+hallows+part+2+2011', r_ui=3.0, est=3.722112211221122, details={'was_impossible': True, 'reason': 'User and/or item is unknown.'}), Prediction(uid=493764, iid='boys+life+2+1997', r_ui=3.0, est=3.722112211221122, details={'was_impossible': True, 'reason': 'User and/or item is unknown.'}), Prediction(uid=571008, iid='them+2006', r_ui=4.0, est=3.722112211221122, details={'was_impossible': True, 'reason': 'User and/or item is unknown.'}), Prediction(uid=884563, iid='rome_+open+city+1945', r_ui=4.0, est=3.722112211221122, details={'was_impossible': True, 'reason': 'User and/or item is unknown.'}), Prediction(uid=936831, iid='the+equalizer+2014', r_ui=4.0, est=3.722112211221122, details={'was_impossible': True, 'reason': 'User and/or item is unknown.'}), Prediction(uid=255528, iid='creation+2009', r_ui=3.0, est=3.722112211221122, details={'was_impossible': True, 'reason': 'User and/or item is unknown.'}), Prediction(uid=580501, iid='the+life+of+oharu+1952', r_ui=4.0, est=3.722112211221122, details={'was_impossible': True, 'reason': 'User and/or item is unknown.'}), Prediction(uid=353809, iid='se7en+1995', r_ui=5.0, est=3.722112211221122, details={'was_impossible': True, 'reason': 'User and/or item is unknown.'}), Prediction(uid=587444, iid='good+bye_+lenin+2003', r_ui=5.0, est=3.722112211221122, details={'was_impossible': True, 'reason': 'User and/or item is unknown.'}), Prediction(uid=497255, iid='geronimo+an+american+legend+1993', r_ui=3.0, est=3.722112211221122, details={'was_impossible': True, 'reason': 'User and/or item is unknown.'}), Prediction(uid=814987, iid='despicable+me+2+2013', r_ui=4.0, est=3.722112211221122, details={'was_impossible': True, 'reason': 'User and/or item is unknown.'}), Prediction(uid=576131, iid='iron+man+3+2013', r_ui=4.0, est=3.722112211221122, details={'was_impossible': True, 'reason': 'User and/or item is unknown.'}), Prediction(uid=776984, iid='the+golden+coach+1952', r_ui=4.0, est=3.722112211221122, details={'was_impossible': True, 'reason': 'User and/or item is unknown.'}), Prediction(uid=421248, iid='the+matrix+1999', r_ui=4.0, est=3.722112211221122, details={'was_impossible': True, 'reason': 'User and/or item is unknown.'}), Prediction(uid=90524, iid='bio+slime+2010', r_ui=3.0, est=3.722112211221122, details={'was_impossible': True, 'reason': 'User and/or item is unknown.'}), Prediction(uid=109232, iid='the+prime+of+miss+jean+brodie+1969', r_ui=5.0, est=3.722112211221122, details={'was_impossible': True, 'reason': 'User and/or item is unknown.'}), Prediction(uid=343756, iid='fantastic+mr.+fox+2009', r_ui=4.0, est=3.722112211221122, details={'was_impossible': True, 'reason': 'User and/or item is unknown.'}), Prediction(uid=232434, iid='the+leopard+1963', r_ui=4.0, est=3.722112211221122, details={'was_impossible': True, 'reason': 'User and/or item is unknown.'}), Prediction(uid=278852, iid='the+dark+horse+2014', r_ui=4.0, est=3.722112211221122, details={'was_impossible': True, 'reason': 'User and/or item is unknown.'}), Prediction(uid=168051, iid='the+whip+and+the+body+1963', r_ui=3.0, est=3.722112211221122, details={'was_impossible': True, 'reason': 'User and/or item is unknown.'}), Prediction(uid=844785, iid='the+blank+generation+1976', r_ui=4.0, est=3.722112211221122, details={'was_impossible': True, 'reason': 'User and/or item is unknown.'}), Prediction(uid=414709, iid='good+will+hunting+1997', r_ui=4.0, est=3.722112211221122, details={'was_impossible': True, 'reason': 'User and/or item is unknown.'}), Prediction(uid=397224, iid='the+night+they+raided+minskys+1968', r_ui=3.0, est=3.722112211221122, details={'was_impossible': True, 'reason': 'User and/or item is unknown.'}), Prediction(uid=55942, iid='tangled+2010', r_ui=4.0, est=3.722112211221122, details={'was_impossible': True, 'reason': 'User and/or item is unknown.'}), Prediction(uid=550992, iid='confidentially+yours+1983', r_ui=4.0, est=3.722112211221122, details={'was_impossible': True, 'reason': 'User and/or item is unknown.'}), Prediction(uid=636673, iid='chicken+run+2000', r_ui=5.0, est=3.722112211221122, details={'was_impossible': True, 'reason': 'User and/or item is unknown.'}), Prediction(uid=596691, iid='the+foul+king+2000', r_ui=4.0, est=3.722112211221122, details={'was_impossible': True, 'reason': 'User and/or item is unknown.'}), Prediction(uid=162322, iid='ratatouille+2007', r_ui=4.0, est=3.722112211221122, details={'was_impossible': True, 'reason': 'User and/or item is unknown.'}), Prediction(uid=720147, iid='fat+guy+goes+nutzoid+1986', r_ui=4.0, est=3.722112211221122, details={'was_impossible': True, 'reason': 'User and/or item is unknown.'}), Prediction(uid=598852, iid='a+few+good+men+1992', r_ui=4.0, est=3.722112211221122, details={'was_impossible': True, 'reason': 'User and/or item is unknown.'}), Prediction(uid=547041, iid='the+incredible+hulk+2008', r_ui=4.0, est=3.722112211221122, details={'was_impossible': True, 'reason': 'User and/or item is unknown.'}), Prediction(uid=892647, iid='kingsman+the+secret+service+2015', r_ui=4.0, est=3.722112211221122, details={'was_impossible': True, 'reason': 'User and/or item is unknown.'}), Prediction(uid=135247, iid='trial+on+the+road+1971', r_ui=4.0, est=3.722112211221122, details={'was_impossible': True, 'reason': 'User and/or item is unknown.'}), Prediction(uid=847767, iid='death+by+china+2012', r_ui=3.0, est=3.722112211221122, details={'was_impossible': True, 'reason': 'User and/or item is unknown.'}), Prediction(uid=37159, iid='red+dog+2011', r_ui=4.0, est=3.722112211221122, details={'was_impossible': True, 'reason': 'User and/or item is unknown.'}), Prediction(uid=370573, iid='brain+damage+1988', r_ui=3.0, est=3.722112211221122, details={'was_impossible': True, 'reason': 'User and/or item is unknown.'}), Prediction(uid=599239, iid='the+devil+wears+prada+2006', r_ui=4.0, est=3.722112211221122, details={'was_impossible': True, 'reason': 'User and/or item is unknown.'}), Prediction(uid=780775, iid='paris+is+burning+1990', r_ui=4.0, est=3.722112211221122, details={'was_impossible': True, 'reason': 'User and/or item is unknown.'}), Prediction(uid=44239, iid='pulp+fiction+1994', r_ui=4.0, est=3.722112211221122, details={'was_impossible': True, 'reason': 'User and/or item is unknown.'}), Prediction(uid=73043, iid='toy+story+3+2010', r_ui=4.0, est=3.722112211221122, details={'was_impossible': True, 'reason': 'User and/or item is unknown.'}), Prediction(uid=495406, iid='the+boy+in+the+striped+pyjamas+2008', r_ui=4.0, est=3.722112211221122, details={'was_impossible': True, 'reason': 'User and/or item is unknown.'}), Prediction(uid=470237, iid='days+of+glory+2006', r_ui=4.0, est=3.722112211221122, details={'was_impossible': True, 'reason': 'User and/or item is unknown.'}), Prediction(uid=853008, iid='the+lord+of+the+rings+the+return+of+the+king+2003', r_ui=5.0, est=3.722112211221122, details={'was_impossible': True, 'reason': 'User and/or item is unknown.'}), Prediction(uid=21358, iid='whiplash+2014', r_ui=5.0, est=3.722112211221122, details={'was_impossible': True, 'reason': 'User and/or item is unknown.'}), Prediction(uid=780968, iid='battle+of+the+bulge+1965', r_ui=4.0, est=3.722112211221122, details={'was_impossible': True, 'reason': 'User and/or item is unknown.'}), Prediction(uid=461930, iid='this+is+spinal+tap+1984', r_ui=5.0, est=3.722112211221122, details={'was_impossible': True, 'reason': 'User and/or item is unknown.'}), Prediction(uid=52313, iid='the+tiger+from+tjampa+1953', r_ui=4.0, est=3.722112211221122, details={'was_impossible': True, 'reason': 'User and/or item is unknown.'}), Prediction(uid=131817, iid='forrest+gump+1994', r_ui=4.0, est=3.722112211221122, details={'was_impossible': True, 'reason': 'User and/or item is unknown.'}), Prediction(uid=668771, iid='the+lost+thing+2010', r_ui=3.0, est=3.722112211221122, details={'was_impossible': True, 'reason': 'User and/or item is unknown.'}), Prediction(uid=587427, iid='close-up+1990', r_ui=4.0, est=3.722112211221122, details={'was_impossible': True, 'reason': 'User and/or item is unknown.'}), Prediction(uid=755056, iid='a+man+for+all+seasons+1966', r_ui=4.0, est=3.722112211221122, details={'was_impossible': True, 'reason': 'User and/or item is unknown.'}), Prediction(uid=107154, iid='harry+potter+and+the+philosophers+stone+2001', r_ui=3.0, est=3.722112211221122, details={'was_impossible': True, 'reason': 'User and/or item is unknown.'}), Prediction(uid=669918, iid='bang+bang+1971', r_ui=3.0, est=3.722112211221122, details={'was_impossible': True, 'reason': 'User and/or item is unknown.'}), Prediction(uid=161759, iid='inglourious+basterds+2009', r_ui=5.0, est=3.722112211221122, details={'was_impossible': True, 'reason': 'User and/or item is unknown.'}), Prediction(uid=225795, iid='the+flying+deuces+1939', r_ui=3.0, est=3.722112211221122, details={'was_impossible': True, 'reason': 'User and/or item is unknown.'}), Prediction(uid=884535, iid='cold+prey+2006', r_ui=3.0, est=3.722112211221122, details={'was_impossible': True, 'reason': 'User and/or item is unknown.'}), Prediction(uid=717515, iid='the+sand+pebbles+1966', r_ui=4.0, est=3.722112211221122, details={'was_impossible': True, 'reason': 'User and/or item is unknown.'}), Prediction(uid=522329, iid='the+beach+boys+an+american+family+2000', r_ui=2.0, est=3.722112211221122, details={'was_impossible': True, 'reason': 'User and/or item is unknown.'}), Prediction(uid=804174, iid='small+faces+1996', r_ui=4.0, est=3.722112211221122, details={'was_impossible': True, 'reason': 'User and/or item is unknown.'}), Prediction(uid=234572, iid='sebastian+maniscalco+whats+wrong+with+people+2012', r_ui=4.0, est=3.722112211221122, details={'was_impossible': True, 'reason': 'User and/or item is unknown.'}), Prediction(uid=839935, iid='kidnapping_+caucasian+style+1967', r_ui=4.0, est=3.722112211221122, details={'was_impossible': True, 'reason': 'User and/or item is unknown.'}), Prediction(uid=345595, iid='3+godfathers+1948', r_ui=3.0, est=3.722112211221122, details={'was_impossible': True, 'reason': 'User and/or item is unknown.'}), Prediction(uid=424577, iid='tentao+1997', r_ui=4.0, est=3.722112211221122, details={'was_impossible': True, 'reason': 'User and/or item is unknown.'}), Prediction(uid=553027, iid='food_+inc.+2008', r_ui=5.0, est=3.722112211221122, details={'was_impossible': True, 'reason': 'User and/or item is unknown.'}), Prediction(uid=265599, iid='pulp+fiction+1994', r_ui=5.0, est=3.722112211221122, details={'was_impossible': True, 'reason': 'User and/or item is unknown.'}), Prediction(uid=892668, iid='die+weihnachtsklempner+1986', r_ui=4.0, est=3.722112211221122, details={'was_impossible': True, 'reason': 'User and/or item is unknown.'}), Prediction(uid=128776, iid='purple+noon+1960', r_ui=4.0, est=3.722112211221122, details={'was_impossible': True, 'reason': 'User and/or item is unknown.'}), Prediction(uid=317215, iid='the+marquise+of+o+1976', r_ui=4.0, est=3.722112211221122, details={'was_impossible': True, 'reason': 'User and/or item is unknown.'}), Prediction(uid=62986, iid='dead+calm+1989', r_ui=2.0, est=3.722112211221122, details={'was_impossible': True, 'reason': 'User and/or item is unknown.'}), Prediction(uid=918832, iid='up+2009', r_ui=5.0, est=3.722112211221122, details={'was_impossible': True, 'reason': 'User and/or item is unknown.'}), Prediction(uid=673258, iid='daddys+dyin...+whos+got+the+will+1990', r_ui=2.0, est=3.722112211221122, details={'was_impossible': True, 'reason': 'User and/or item is unknown.'}), Prediction(uid=355298, iid='the+dogs+of+war+1980', r_ui=3.0, est=3.722112211221122, details={'was_impossible': True, 'reason': 'User and/or item is unknown.'}), Prediction(uid=644807, iid='steel+toes+2006', r_ui=4.0, est=3.722112211221122, details={'was_impossible': True, 'reason': 'User and/or item is unknown.'}), Prediction(uid=395116, iid='the+given+word+1962', r_ui=4.0, est=3.722112211221122, details={'was_impossible': True, 'reason': 'User and/or item is unknown.'}), Prediction(uid=615532, iid='corto+maltese+in+siberia+2002', r_ui=5.0, est=3.722112211221122, details={'was_impossible': True, 'reason': 'User and/or item is unknown.'}), Prediction(uid=342246, iid='la+strada+1954', r_ui=4.0, est=3.722112211221122, details={'was_impossible': True, 'reason': 'User and/or item is unknown.'}), Prediction(uid=906843, iid='the+presidents+last+bang+2005', r_ui=3.0, est=3.722112211221122, details={'was_impossible': True, 'reason': 'User and/or item is unknown.'}), Prediction(uid=451153, iid='batman+year+one+2011', r_ui=4.0, est=3.722112211221122, details={'was_impossible': True, 'reason': 'User and/or item is unknown.'}), Prediction(uid=860869, iid='game+of+death+2010', r_ui=3.0, est=3.722112211221122, details={'was_impossible': True, 'reason': 'User and/or item is unknown.'}), Prediction(uid=152628, iid='the+man+of+my+life+2006', r_ui=3.0, est=3.722112211221122, details={'was_impossible': True, 'reason': 'User and/or item is unknown.'}), Prediction(uid=334566, iid='the+forsyte+saga+1967', r_ui=4.0, est=3.722112211221122, details={'was_impossible': True, 'reason': 'User and/or item is unknown.'}), Prediction(uid=54377, iid='marie+antoinette+1938', r_ui=4.0, est=3.722112211221122, details={'was_impossible': True, 'reason': 'User and/or item is unknown.'}), Prediction(uid=317422, iid='unforgiven+1992', r_ui=4.0, est=3.722112211221122, details={'was_impossible': True, 'reason': 'User and/or item is unknown.'}), Prediction(uid=685469, iid='the+fifth+element+1997', r_ui=4.0, est=3.722112211221122, details={'was_impossible': True, 'reason': 'User and/or item is unknown.'}), Prediction(uid=516838, iid='city+of+god+2002', r_ui=4.0, est=3.722112211221122, details={'was_impossible': True, 'reason': 'User and/or item is unknown.'}), Prediction(uid=342279, iid='legal+eagles+1986', r_ui=3.0, est=3.722112211221122, details={'was_impossible': True, 'reason': 'User and/or item is unknown.'}), Prediction(uid=935056, iid='ice+age+dawn+of+the+dinosaurs+2009', r_ui=3.0, est=3.722112211221122, details={'was_impossible': True, 'reason': 'User and/or item is unknown.'}), Prediction(uid=132743, iid='young++beautiful+2013', r_ui=4.0, est=3.722112211221122, details={'was_impossible': True, 'reason': 'User and/or item is unknown.'}), Prediction(uid=752322, iid='vision+quest+1985', r_ui=3.0, est=3.722112211221122, details={'was_impossible': True, 'reason': 'User and/or item is unknown.'}), Prediction(uid=461714, iid='higher+learning+1995', r_ui=3.0, est=3.722112211221122, details={'was_impossible': True, 'reason': 'User and/or item is unknown.'}), Prediction(uid=275643, iid='the+man+with+one+red+shoe+1985', r_ui=3.0, est=3.722112211221122, details={'was_impossible': True, 'reason': 'User and/or item is unknown.'}), Prediction(uid=902774, iid='brave+2012', r_ui=3.0, est=3.722112211221122, details={'was_impossible': True, 'reason': 'User and/or item is unknown.'}), Prediction(uid=793534, iid='the+prowler+1951', r_ui=3.0, est=3.722112211221122, details={'was_impossible': True, 'reason': 'User and/or item is unknown.'}), Prediction(uid=64308, iid='once+upon+a+warrior+2011', r_ui=3.0, est=3.722112211221122, details={'was_impossible': True, 'reason': 'User and/or item is unknown.'}), Prediction(uid=394392, iid='the+hobbit+the+desolation+of+smaug+2013', r_ui=4.0, est=3.722112211221122, details={'was_impossible': True, 'reason': 'User and/or item is unknown.'}), Prediction(uid=572198, iid='barrier+1966', r_ui=4.0, est=3.722112211221122, details={'was_impossible': True, 'reason': 'User and/or item is unknown.'}), Prediction(uid=351182, iid='harry+potter+and+the+prisoner+of+azkaban+2004', r_ui=4.0, est=3.722112211221122, details={'was_impossible': True, 'reason': 'User and/or item is unknown.'}), Prediction(uid=55108, iid='the+wrecking+crew+2008', r_ui=3.0, est=3.722112211221122, details={'was_impossible': True, 'reason': 'User and/or item is unknown.'}), Prediction(uid=517946, iid='decoy+1946', r_ui=4.0, est=3.722112211221122, details={'was_impossible': True, 'reason': 'User and/or item is unknown.'}), Prediction(uid=520965, iid='patton+1970', r_ui=5.0, est=3.722112211221122, details={'was_impossible': True, 'reason': 'User and/or item is unknown.'}), Prediction(uid=562451, iid='p.s.+i+love+you+2007', r_ui=5.0, est=3.722112211221122, details={'was_impossible': True, 'reason': 'User and/or item is unknown.'}), Prediction(uid=874196, iid='the+housekeeper+2002', r_ui=4.0, est=3.722112211221122, details={'was_impossible': True, 'reason': 'User and/or item is unknown.'}), Prediction(uid=683432, iid='i_+the+jury+1982', r_ui=3.0, est=3.722112211221122, details={'was_impossible': True, 'reason': 'User and/or item is unknown.'}), Prediction(uid=870958, iid='regarding+henry+1991', r_ui=3.0, est=3.722112211221122, details={'was_impossible': True, 'reason': 'User and/or item is unknown.'}), Prediction(uid=609771, iid='princess+mononoke+1997', r_ui=3.0, est=3.722112211221122, details={'was_impossible': True, 'reason': 'User and/or item is unknown.'}), Prediction(uid=694278, iid='the+hunger+games+mockingjay+-+part+1+2014', r_ui=4.0, est=3.722112211221122, details={'was_impossible': True, 'reason': 'User and/or item is unknown.'}), Prediction(uid=708552, iid='harry+potter+and+the+deathly+hallows+part+2+2011', r_ui=4.0, est=3.722112211221122, details={'was_impossible': True, 'reason': 'User and/or item is unknown.'}), Prediction(uid=692785, iid='ratatouille+2007', r_ui=5.0, est=3.722112211221122, details={'was_impossible': True, 'reason': 'User and/or item is unknown.'}), Prediction(uid=529941, iid='dial+m+for+murder+1954', r_ui=4.0, est=3.722112211221122, details={'was_impossible': True, 'reason': 'User and/or item is unknown.'}), Prediction(uid=795269, iid='runaway+jury+2003', r_ui=3.0, est=3.722112211221122, details={'was_impossible': True, 'reason': 'User and/or item is unknown.'}), Prediction(uid=797774, iid='i_+robot+2004', r_ui=5.0, est=3.722112211221122, details={'was_impossible': True, 'reason': 'User and/or item is unknown.'}), Prediction(uid=598206, iid='connections+', r_ui=4.0, est=3.722112211221122, details={'was_impossible': True, 'reason': 'User and/or item is unknown.'}), Prediction(uid=225892, iid='guardians+of+the+galaxy+2014', r_ui=5.0, est=3.722112211221122, details={'was_impossible': True, 'reason': 'User and/or item is unknown.'}), Prediction(uid=317811, iid='carnage+2011', r_ui=3.0, est=3.722112211221122, details={'was_impossible': True, 'reason': 'User and/or item is unknown.'}), Prediction(uid=228280, iid='berkeley+in+the+sixties+1990', r_ui=3.0, est=3.722112211221122, details={'was_impossible': True, 'reason': 'User and/or item is unknown.'}), Prediction(uid=859274, iid='up+2009', r_ui=4.0, est=3.722112211221122, details={'was_impossible': True, 'reason': 'User and/or item is unknown.'}), Prediction(uid=242605, iid='harry+and+tonto+1974', r_ui=4.0, est=3.722112211221122, details={'was_impossible': True, 'reason': 'User and/or item is unknown.'}), Prediction(uid=516775, iid='the+monster+club+1981', r_ui=3.0, est=3.722112211221122, details={'was_impossible': True, 'reason': 'User and/or item is unknown.'}), Prediction(uid=637843, iid='inception+2010', r_ui=4.0, est=3.722112211221122, details={'was_impossible': True, 'reason': 'User and/or item is unknown.'}), Prediction(uid=334562, iid='gardens+of+the+night+2008', r_ui=3.0, est=3.722112211221122, details={'was_impossible': True, 'reason': 'User and/or item is unknown.'}), Prediction(uid=455493, iid='blonde+ambition+2007', r_ui=3.0, est=3.722112211221122, details={'was_impossible': True, 'reason': 'User and/or item is unknown.'}), Prediction(uid=494958, iid='away+we+go+2009', r_ui=3.0, est=3.722112211221122, details={'was_impossible': True, 'reason': 'User and/or item is unknown.'}), Prediction(uid=871787, iid='gorilla+at+large+1954', r_ui=3.0, est=3.722112211221122, details={'was_impossible': True, 'reason': 'User and/or item is unknown.'}), Prediction(uid=467314, iid='predator+1987', r_ui=4.0, est=3.722112211221122, details={'was_impossible': True, 'reason': 'User and/or item is unknown.'}), Prediction(uid=143209, iid='a+get2gether+2005', r_ui=3.0, est=3.722112211221122, details={'was_impossible': True, 'reason': 'User and/or item is unknown.'}), Prediction(uid=749617, iid='sixteen+candles+1984', r_ui=3.0, est=3.722112211221122, details={'was_impossible': True, 'reason': 'User and/or item is unknown.'}), Prediction(uid=490536, iid='naked+ambition+an+r+rated+look+at+an+x+rated+industry+2009', r_ui=3.0, est=3.722112211221122, details={'was_impossible': True, 'reason': 'User and/or item is unknown.'}), Prediction(uid=215760, iid='a+perfect+murder+1998', r_ui=4.0, est=3.722112211221122, details={'was_impossible': True, 'reason': 'User and/or item is unknown.'}), Prediction(uid=618615, iid='lugares+comunes+2002', r_ui=2.0, est=3.722112211221122, details={'was_impossible': True, 'reason': 'User and/or item is unknown.'}), Prediction(uid=885573, iid='silent+souls+2010', r_ui=4.0, est=3.722112211221122, details={'was_impossible': True, 'reason': 'User and/or item is unknown.'}), Prediction(uid=609872, iid='who+framed+roger+rabbit+1988', r_ui=5.0, est=3.722112211221122, details={'was_impossible': True, 'reason': 'User and/or item is unknown.'}), Prediction(uid=25234, iid='eurotrip+2004', r_ui=3.0, est=3.722112211221122, details={'was_impossible': True, 'reason': 'User and/or item is unknown.'}), Prediction(uid=327435, iid='the+rains+came+1939', r_ui=4.0, est=3.722112211221122, details={'was_impossible': True, 'reason': 'User and/or item is unknown.'}), Prediction(uid=865068, iid='revenge+1990', r_ui=2.0, est=3.722112211221122, details={'was_impossible': True, 'reason': 'User and/or item is unknown.'}), Prediction(uid=104235, iid='oss+117+cairo_+nest+of+spies+2006', r_ui=4.0, est=3.722112211221122, details={'was_impossible': True, 'reason': 'User and/or item is unknown.'}), Prediction(uid=285253, iid='the+seven+year+itch+1955', r_ui=4.0, est=3.722112211221122, details={'was_impossible': True, 'reason': 'User and/or item is unknown.'}), Prediction(uid=14708, iid='saludos+amigos+1942', r_ui=3.0, est=3.722112211221122, details={'was_impossible': True, 'reason': 'User and/or item is unknown.'}), Prediction(uid=124005, iid='local+hero+1983', r_ui=4.0, est=3.722112211221122, details={'was_impossible': True, 'reason': 'User and/or item is unknown.'}), Prediction(uid=629422, iid='happiness+is+in+the+field+1995', r_ui=3.0, est=3.722112211221122, details={'was_impossible': True, 'reason': 'User and/or item is unknown.'}), Prediction(uid=798129, iid='bruce+almighty+2003', r_ui=3.0, est=3.722112211221122, details={'was_impossible': True, 'reason': 'User and/or item is unknown.'}), Prediction(uid=617627, iid='the+incredibles+2004', r_ui=4.0, est=3.722112211221122, details={'was_impossible': True, 'reason': 'User and/or item is unknown.'}), Prediction(uid=705910, iid='dragon+ball+z+broly+-+second+coming+1994', r_ui=3.0, est=3.722112211221122, details={'was_impossible': True, 'reason': 'User and/or item is unknown.'}), Prediction(uid=573559, iid='paper+heart+2009', r_ui=3.0, est=3.722112211221122, details={'was_impossible': True, 'reason': 'User and/or item is unknown.'}), Prediction(uid=647211, iid='despicable+me+2010', r_ui=5.0, est=3.722112211221122, details={'was_impossible': True, 'reason': 'User and/or item is unknown.'}), Prediction(uid=346474, iid='the+art+of+flight+2011', r_ui=4.0, est=3.722112211221122, details={'was_impossible': True, 'reason': 'User and/or item is unknown.'}), Prediction(uid=575997, iid='close+encounters+of+the+third+kind+1977', r_ui=4.0, est=3.722112211221122, details={'was_impossible': True, 'reason': 'User and/or item is unknown.'}), Prediction(uid=452626, iid='the+lord+of+the+rings+the+two+towers+2002', r_ui=3.0, est=3.722112211221122, details={'was_impossible': True, 'reason': 'User and/or item is unknown.'}), Prediction(uid=543107, iid='days+of+wine+and+roses+1962', r_ui=4.0, est=3.722112211221122, details={'was_impossible': True, 'reason': 'User and/or item is unknown.'}), Prediction(uid=634845, iid='big+trouble+in+little+china+1986', r_ui=4.0, est=3.722112211221122, details={'was_impossible': True, 'reason': 'User and/or item is unknown.'}), Prediction(uid=422495, iid='nine+queens+2000', r_ui=3.0, est=3.722112211221122, details={'was_impossible': True, 'reason': 'User and/or item is unknown.'}), Prediction(uid=694564, iid='the+life+of+oharu+1952', r_ui=4.0, est=3.722112211221122, details={'was_impossible': True, 'reason': 'User and/or item is unknown.'}), Prediction(uid=748586, iid='east+is+east+1999', r_ui=3.0, est=3.722112211221122, details={'was_impossible': True, 'reason': 'User and/or item is unknown.'}), Prediction(uid=666716, iid='ditirambo+1969', r_ui=3.0, est=3.722112211221122, details={'was_impossible': True, 'reason': 'User and/or item is unknown.'}), Prediction(uid=253620, iid='the+handcuff+king+2002', r_ui=3.0, est=3.722112211221122, details={'was_impossible': True, 'reason': 'User and/or item is unknown.'}), Prediction(uid=583615, iid='red+river+1948', r_ui=3.0, est=3.722112211221122, details={'was_impossible': True, 'reason': 'User and/or item is unknown.'}), Prediction(uid=858521, iid='dinosaur+13+2014', r_ui=2.0, est=3.722112211221122, details={'was_impossible': True, 'reason': 'User and/or item is unknown.'}), Prediction(uid=449885, iid='my+darling+clementine+1946', r_ui=2.0, est=3.722112211221122, details={'was_impossible': True, 'reason': 'User and/or item is unknown.'}), Prediction(uid=335099, iid='eastern+promises+2007', r_ui=3.0, est=3.722112211221122, details={'was_impossible': True, 'reason': 'User and/or item is unknown.'}), Prediction(uid=706853, iid='aragami+2003', r_ui=4.0, est=3.722112211221122, details={'was_impossible': True, 'reason': 'User and/or item is unknown.'}), Prediction(uid=359076, iid='ratatouille+2007', r_ui=5.0, est=3.722112211221122, details={'was_impossible': True, 'reason': 'User and/or item is unknown.'}), Prediction(uid=44170, iid='ice+age+2002', r_ui=4.0, est=3.722112211221122, details={'was_impossible': True, 'reason': 'User and/or item is unknown.'}), Prediction(uid=571970, iid='nine+lives+1957', r_ui=5.0, est=3.722112211221122, details={'was_impossible': True, 'reason': 'User and/or item is unknown.'}), Prediction(uid=347376, iid='pontypool+2009', r_ui=4.0, est=3.722112211221122, details={'was_impossible': True, 'reason': 'User and/or item is unknown.'}), Prediction(uid=866459, iid='a+better+tomorrow+1986', r_ui=2.0, est=3.722112211221122, details={'was_impossible': True, 'reason': 'User and/or item is unknown.'}), Prediction(uid=673537, iid='the+sword+in+the+stone+1963', r_ui=2.0, est=3.722112211221122, details={'was_impossible': True, 'reason': 'User and/or item is unknown.'}), Prediction(uid=922011, iid='queen+to+play+2009', r_ui=3.0, est=3.722112211221122, details={'was_impossible': True, 'reason': 'User and/or item is unknown.'}), Prediction(uid=125675, iid='who+killed+the+electric+car+2006', r_ui=3.0, est=3.722112211221122, details={'was_impossible': True, 'reason': 'User and/or item is unknown.'}), Prediction(uid=112388, iid='the+godfather+1972', r_ui=5.0, est=3.722112211221122, details={'was_impossible': True, 'reason': 'User and/or item is unknown.'}), Prediction(uid=8114, iid='the+goonies+1985', r_ui=4.0, est=3.722112211221122, details={'was_impossible': True, 'reason': 'User and/or item is unknown.'}), Prediction(uid=316642, iid='an+inconvenient+tax+2011', r_ui=4.0, est=3.722112211221122, details={'was_impossible': True, 'reason': 'User and/or item is unknown.'}), Prediction(uid=511413, iid='el+cid+1961', r_ui=4.0, est=3.722112211221122, details={'was_impossible': True, 'reason': 'User and/or item is unknown.'}), Prediction(uid=567173, iid='batman+mystery+of+the+batwoman+2003', r_ui=4.0, est=3.722112211221122, details={'was_impossible': True, 'reason': 'User and/or item is unknown.'}), Prediction(uid=250960, iid='murder+on+the+orient+express+1974', r_ui=3.0, est=3.722112211221122, details={'was_impossible': True, 'reason': 'User and/or item is unknown.'}), Prediction(uid=556180, iid='master+and+commander+the+far+side+of+the+world+2003', r_ui=4.0, est=3.722112211221122, details={'was_impossible': True, 'reason': 'User and/or item is unknown.'}), Prediction(uid=675256, iid='500+days+of+summer+2009', r_ui=4.0, est=3.722112211221122, details={'was_impossible': True, 'reason': 'User and/or item is unknown.'}), Prediction(uid=180504, iid='how+i+ended+this+summer+2010', r_ui=5.0, est=3.722112211221122, details={'was_impossible': True, 'reason': 'User and/or item is unknown.'}), Prediction(uid=731933, iid='something+to+talk+about+1995', r_ui=3.0, est=3.722112211221122, details={'was_impossible': True, 'reason': 'User and/or item is unknown.'}), Prediction(uid=870041, iid='iron+man+2+2010', r_ui=5.0, est=3.722112211221122, details={'was_impossible': True, 'reason': 'User and/or item is unknown.'}), Prediction(uid=231195, iid='amen.+2002', r_ui=4.0, est=3.722112211221122, details={'was_impossible': True, 'reason': 'User and/or item is unknown.'}), Prediction(uid=468516, iid='missing+1982', r_ui=5.0, est=3.722112211221122, details={'was_impossible': True, 'reason': 'User and/or item is unknown.'}), Prediction(uid=715910, iid='devils+due+2014', r_ui=4.0, est=3.722112211221122, details={'was_impossible': True, 'reason': 'User and/or item is unknown.'}), Prediction(uid=29891, iid='my+boy+jack+2007', r_ui=2.0, est=3.722112211221122, details={'was_impossible': True, 'reason': 'User and/or item is unknown.'}), Prediction(uid=661580, iid='total+recall+1990', r_ui=4.0, est=3.722112211221122, details={'was_impossible': True, 'reason': 'User and/or item is unknown.'}), Prediction(uid=524253, iid='zero+for+conduct+1933', r_ui=4.0, est=3.722112211221122, details={'was_impossible': True, 'reason': 'User and/or item is unknown.'}), Prediction(uid=542812, iid='the+lavender+hill+mob+1951', r_ui=4.0, est=3.722112211221122, details={'was_impossible': True, 'reason': 'User and/or item is unknown.'}), Prediction(uid=527373, iid='pontypool+2009', r_ui=3.0, est=3.722112211221122, details={'was_impossible': True, 'reason': 'User and/or item is unknown.'}), Prediction(uid=603469, iid='the+sacrifice+1986', r_ui=4.0, est=3.722112211221122, details={'was_impossible': True, 'reason': 'User and/or item is unknown.'}), Prediction(uid=789017, iid='kill+the+messenger+2014', r_ui=4.0, est=3.722112211221122, details={'was_impossible': True, 'reason': 'User and/or item is unknown.'}), Prediction(uid=164729, iid='kiss+of+the+spider+woman+1985', r_ui=4.0, est=3.722112211221122, details={'was_impossible': True, 'reason': 'User and/or item is unknown.'}), Prediction(uid=90083, iid='the+man+who+knew+too+much+1956', r_ui=4.0, est=3.722112211221122, details={'was_impossible': True, 'reason': 'User and/or item is unknown.'}), Prediction(uid=711669, iid='the+day+the+earth+stood+still+1951', r_ui=4.0, est=3.722112211221122, details={'was_impossible': True, 'reason': 'User and/or item is unknown.'}), Prediction(uid=482273, iid='the+twilight+samurai+2002', r_ui=4.0, est=3.722112211221122, details={'was_impossible': True, 'reason': 'User and/or item is unknown.'}), Prediction(uid=31896, iid='labor+day+2013', r_ui=3.0, est=3.722112211221122, details={'was_impossible': True, 'reason': 'User and/or item is unknown.'}), Prediction(uid=63944, iid='mujhse+dosti+karoge+2002', r_ui=3.0, est=3.722112211221122, details={'was_impossible': True, 'reason': 'User and/or item is unknown.'}), Prediction(uid=232798, iid='shutter+2004', r_ui=3.0, est=3.722112211221122, details={'was_impossible': True, 'reason': 'User and/or item is unknown.'}), Prediction(uid=783426, iid='empire+of+dreams+the+story+of+the+star+wars+trilogy+2004', r_ui=4.0, est=3.722112211221122, details={'was_impossible': True, 'reason': 'User and/or item is unknown.'}), Prediction(uid=431908, iid='an+amazing+couple+2002', r_ui=4.0, est=3.722112211221122, details={'was_impossible': True, 'reason': 'User and/or item is unknown.'}), Prediction(uid=108994, iid='velvet+goldmine+1998', r_ui=4.0, est=3.722112211221122, details={'was_impossible': True, 'reason': 'User and/or item is unknown.'}), Prediction(uid=155457, iid='black+venus+2010', r_ui=4.0, est=3.722112211221122, details={'was_impossible': True, 'reason': 'User and/or item is unknown.'}), Prediction(uid=66558, iid='the+raven+1963', r_ui=3.0, est=3.722112211221122, details={'was_impossible': True, 'reason': 'User and/or item is unknown.'}), Prediction(uid=338655, iid='dantes+inferno+an+animated+epic+2010', r_ui=3.0, est=3.722112211221122, details={'was_impossible': True, 'reason': 'User and/or item is unknown.'}), Prediction(uid=91024, iid='fight+club+1999', r_ui=5.0, est=3.722112211221122, details={'was_impossible': True, 'reason': 'User and/or item is unknown.'}), Prediction(uid=845356, iid='my+neighbor+totoro+1988', r_ui=4.0, est=3.722112211221122, details={'was_impossible': True, 'reason': 'User and/or item is unknown.'}), Prediction(uid=745172, iid='swoon+1992', r_ui=4.0, est=3.722112211221122, details={'was_impossible': True, 'reason': 'User and/or item is unknown.'}), Prediction(uid=802093, iid='the+lion+king+1994', r_ui=3.0, est=3.722112211221122, details={'was_impossible': True, 'reason': 'User and/or item is unknown.'}), Prediction(uid=64277, iid='the+screaming+skull+1958', r_ui=4.0, est=3.722112211221122, details={'was_impossible': True, 'reason': 'User and/or item is unknown.'}), Prediction(uid=871401, iid='the+third+half+2012', r_ui=3.0, est=3.722112211221122, details={'was_impossible': True, 'reason': 'User and/or item is unknown.'}), Prediction(uid=390951, iid='lady+jane+1986', r_ui=4.0, est=3.722112211221122, details={'was_impossible': True, 'reason': 'User and/or item is unknown.'}), Prediction(uid=402429, iid='dial+m+for+murder+1954', r_ui=4.0, est=3.722112211221122, details={'was_impossible': True, 'reason': 'User and/or item is unknown.'}), Prediction(uid=560074, iid='comedian+harmonists+1997', r_ui=4.0, est=3.722112211221122, details={'was_impossible': True, 'reason': 'User and/or item is unknown.'}), Prediction(uid=942817, iid='mood+indigo+2013', r_ui=3.0, est=3.722112211221122, details={'was_impossible': True, 'reason': 'User and/or item is unknown.'}), Prediction(uid=925388, iid='ten+tall+men+1951', r_ui=3.0, est=3.722112211221122, details={'was_impossible': True, 'reason': 'User and/or item is unknown.'}), Prediction(uid=848115, iid='harry+potter+and+the+goblet+of+fire+2005', r_ui=4.0, est=3.722112211221122, details={'was_impossible': True, 'reason': 'User and/or item is unknown.'}), Prediction(uid=486863, iid='the+lorax+2012', r_ui=3.0, est=3.722112211221122, details={'was_impossible': True, 'reason': 'User and/or item is unknown.'}), Prediction(uid=611295, iid='the+pledge+2001', r_ui=4.0, est=3.722112211221122, details={'was_impossible': True, 'reason': 'User and/or item is unknown.'}), Prediction(uid=554045, iid='the+avengers+2012', r_ui=4.0, est=3.722112211221122, details={'was_impossible': True, 'reason': 'User and/or item is unknown.'}), Prediction(uid=290392, iid='predator+1987', r_ui=3.0, est=3.722112211221122, details={'was_impossible': True, 'reason': 'User and/or item is unknown.'}), Prediction(uid=832983, iid='unleashed+2005', r_ui=3.0, est=3.722112211221122, details={'was_impossible': True, 'reason': 'User and/or item is unknown.'}), Prediction(uid=530462, iid='exit+through+the+gift+shop+2010', r_ui=3.0, est=3.722112211221122, details={'was_impossible': True, 'reason': 'User and/or item is unknown.'}), Prediction(uid=234970, iid='fresh+guacamole+2012', r_ui=4.0, est=3.722112211221122, details={'was_impossible': True, 'reason': 'User and/or item is unknown.'}), Prediction(uid=546285, iid='big+hero+6+2014', r_ui=3.0, est=3.722112211221122, details={'was_impossible': True, 'reason': 'User and/or item is unknown.'}), Prediction(uid=557506, iid='pinocchio+1940', r_ui=4.0, est=3.722112211221122, details={'was_impossible': True, 'reason': 'User and/or item is unknown.'}), Prediction(uid=674096, iid='die+hard+1988', r_ui=3.0, est=3.722112211221122, details={'was_impossible': True, 'reason': 'User and/or item is unknown.'}), Prediction(uid=812779, iid='the+thorn+in+the+heart+2009', r_ui=3.0, est=3.722112211221122, details={'was_impossible': True, 'reason': 'User and/or item is unknown.'}), Prediction(uid=19350, iid='frankenstein+1931', r_ui=4.0, est=3.722112211221122, details={'was_impossible': True, 'reason': 'User and/or item is unknown.'}), Prediction(uid=540728, iid='geronimo+an+american+legend+1993', r_ui=4.0, est=3.722112211221122, details={'was_impossible': True, 'reason': 'User and/or item is unknown.'}), Prediction(uid=813050, iid='we+all+loved+each+other+so+much+1974', r_ui=3.0, est=3.722112211221122, details={'was_impossible': True, 'reason': 'User and/or item is unknown.'}), Prediction(uid=884109, iid='robin+hood+1973', r_ui=3.0, est=3.722112211221122, details={'was_impossible': True, 'reason': 'User and/or item is unknown.'}), Prediction(uid=234139, iid='winners++sinners+1983', r_ui=4.0, est=3.722112211221122, details={'was_impossible': True, 'reason': 'User and/or item is unknown.'}), Prediction(uid=335772, iid='traitor+2008', r_ui=4.0, est=3.722112211221122, details={'was_impossible': True, 'reason': 'User and/or item is unknown.'}), Prediction(uid=190506, iid='novo+2002', r_ui=2.0, est=3.722112211221122, details={'was_impossible': True, 'reason': 'User and/or item is unknown.'}), Prediction(uid=826371, iid='band+baaja+baaraat+2010', r_ui=4.0, est=3.722112211221122, details={'was_impossible': True, 'reason': 'User and/or item is unknown.'}), Prediction(uid=95965, iid='harry+potter+and+the+half-blood+prince+2009', r_ui=5.0, est=3.722112211221122, details={'was_impossible': True, 'reason': 'User and/or item is unknown.'}), Prediction(uid=663646, iid='life+of+pi+2012', r_ui=5.0, est=3.722112211221122, details={'was_impossible': True, 'reason': 'User and/or item is unknown.'}), Prediction(uid=720275, iid='restless+2011', r_ui=3.0, est=3.722112211221122, details={'was_impossible': True, 'reason': 'User and/or item is unknown.'}), Prediction(uid=345365, iid='tell+no+one+2006', r_ui=4.0, est=3.722112211221122, details={'was_impossible': True, 'reason': 'User and/or item is unknown.'}), Prediction(uid=799819, iid='twice+upon+a+yesterday+1998', r_ui=3.0, est=3.722112211221122, details={'was_impossible': True, 'reason': 'User and/or item is unknown.'}), Prediction(uid=364985, iid='gattaca+1997', r_ui=5.0, est=3.722112211221122, details={'was_impossible': True, 'reason': 'User and/or item is unknown.'}), Prediction(uid=871342, iid='personal+effects+2009', r_ui=3.0, est=3.722112211221122, details={'was_impossible': True, 'reason': 'User and/or item is unknown.'}), Prediction(uid=160489, iid='good+people+2014', r_ui=4.0, est=3.722112211221122, details={'was_impossible': True, 'reason': 'User and/or item is unknown.'}), Prediction(uid=464806, iid='akira+1988', r_ui=4.0, est=3.722112211221122, details={'was_impossible': True, 'reason': 'User and/or item is unknown.'}), Prediction(uid=755195, iid='like+crazy+2011', r_ui=3.0, est=3.722112211221122, details={'was_impossible': True, 'reason': 'User and/or item is unknown.'}), Prediction(uid=157317, iid='dumb+and+dumber+1994', r_ui=3.0, est=3.722112211221122, details={'was_impossible': True, 'reason': 'User and/or item is unknown.'}), Prediction(uid=445470, iid='the+spanish+apartment+2002', r_ui=4.0, est=3.722112211221122, details={'was_impossible': True, 'reason': 'User and/or item is unknown.'}), Prediction(uid=479431, iid='the+goonies+1985', r_ui=4.0, est=3.722112211221122, details={'was_impossible': True, 'reason': 'User and/or item is unknown.'}), Prediction(uid=909684, iid='life+as+a+fatal+sexually+transmitted+disease+2000', r_ui=4.0, est=3.722112211221122, details={'was_impossible': True, 'reason': 'User and/or item is unknown.'}), Prediction(uid=297599, iid='admission+2013', r_ui=2.0, est=3.722112211221122, details={'was_impossible': True, 'reason': 'User and/or item is unknown.'}), Prediction(uid=762601, iid='muxmuschenstill+2004', r_ui=4.0, est=3.722112211221122, details={'was_impossible': True, 'reason': 'User and/or item is unknown.'}), Prediction(uid=434187, iid='the+impossible+2012', r_ui=4.0, est=3.722112211221122, details={'was_impossible': True, 'reason': 'User and/or item is unknown.'}), Prediction(uid=790168, iid='love+letter+1995', r_ui=3.0, est=3.722112211221122, details={'was_impossible': True, 'reason': 'User and/or item is unknown.'}), Prediction(uid=706362, iid='leon+the+professional+1994', r_ui=5.0, est=3.722112211221122, details={'was_impossible': True, 'reason': 'User and/or item is unknown.'}), Prediction(uid=873283, iid='leon+the+professional+1994', r_ui=3.0, est=3.722112211221122, details={'was_impossible': True, 'reason': 'User and/or item is unknown.'}), Prediction(uid=527896, iid='my+best+friend+2006', r_ui=4.0, est=3.722112211221122, details={'was_impossible': True, 'reason': 'User and/or item is unknown.'}), Prediction(uid=44553, iid='cinderella+2015', r_ui=4.0, est=3.722112211221122, details={'was_impossible': True, 'reason': 'User and/or item is unknown.'}), Prediction(uid=409360, iid='jules+and+jim+1962', r_ui=4.0, est=3.722112211221122, details={'was_impossible': True, 'reason': 'User and/or item is unknown.'}), Prediction(uid=63797, iid='hero+2002', r_ui=5.0, est=3.722112211221122, details={'was_impossible': True, 'reason': 'User and/or item is unknown.'}), Prediction(uid=625026, iid='the+first+time+2012', r_ui=4.0, est=3.722112211221122, details={'was_impossible': True, 'reason': 'User and/or item is unknown.'}), Prediction(uid=907187, iid='running+scared+1986', r_ui=4.0, est=3.722112211221122, details={'was_impossible': True, 'reason': 'User and/or item is unknown.'}), Prediction(uid=70657, iid='the+man+who+would+be+king+1975', r_ui=5.0, est=3.722112211221122, details={'was_impossible': True, 'reason': 'User and/or item is unknown.'}), Prediction(uid=42949, iid='nick+offerman+american+ham+2014', r_ui=4.0, est=3.722112211221122, details={'was_impossible': True, 'reason': 'User and/or item is unknown.'}), Prediction(uid=384973, iid='the+hobbit+the+desolation+of+smaug+2013', r_ui=3.0, est=3.722112211221122, details={'was_impossible': True, 'reason': 'User and/or item is unknown.'}), Prediction(uid=171447, iid='menace+ii+society+1993', r_ui=4.0, est=3.722112211221122, details={'was_impossible': True, 'reason': 'User and/or item is unknown.'}), Prediction(uid=642688, iid='abel+1986', r_ui=3.0, est=3.722112211221122, details={'was_impossible': True, 'reason': 'User and/or item is unknown.'}), Prediction(uid=82890, iid='wild+at+heart+1990', r_ui=3.0, est=3.722112211221122, details={'was_impossible': True, 'reason': 'User and/or item is unknown.'}), Prediction(uid=376894, iid='ted+bundy+2002', r_ui=4.0, est=3.722112211221122, details={'was_impossible': True, 'reason': 'User and/or item is unknown.'}), Prediction(uid=792535, iid='bears+2014', r_ui=4.0, est=3.722112211221122, details={'was_impossible': True, 'reason': 'User and/or item is unknown.'}), Prediction(uid=697267, iid='aspen+1991', r_ui=3.0, est=3.722112211221122, details={'was_impossible': True, 'reason': 'User and/or item is unknown.'}), Prediction(uid=317915, iid='the+secret+world+of+arrietty+2010', r_ui=4.0, est=3.722112211221122, details={'was_impossible': True, 'reason': 'User and/or item is unknown.'}), Prediction(uid=608605, iid='the+shawshank+redemption+1994', r_ui=5.0, est=3.722112211221122, details={'was_impossible': True, 'reason': 'User and/or item is unknown.'}), Prediction(uid=575799, iid='the+studio+murder+mystery+1932', r_ui=2.0, est=3.722112211221122, details={'was_impossible': True, 'reason': 'User and/or item is unknown.'}), Prediction(uid=380550, iid='big+ass+spider+2013', r_ui=3.0, est=3.722112211221122, details={'was_impossible': True, 'reason': 'User and/or item is unknown.'}), Prediction(uid=830512, iid='notorious+1946', r_ui=5.0, est=3.722112211221122, details={'was_impossible': True, 'reason': 'User and/or item is unknown.'}), Prediction(uid=128782, iid='spl+kill+zone+2005', r_ui=4.0, est=3.722112211221122, details={'was_impossible': True, 'reason': 'User and/or item is unknown.'}), Prediction(uid=186452, iid='dead++buried+1981', r_ui=4.0, est=3.722112211221122, details={'was_impossible': True, 'reason': 'User and/or item is unknown.'}), Prediction(uid=894787, iid='the+princess+diaries+2001', r_ui=3.0, est=3.722112211221122, details={'was_impossible': True, 'reason': 'User and/or item is unknown.'}), Prediction(uid=278627, iid='all+about+my+mother+1999', r_ui=5.0, est=3.722112211221122, details={'was_impossible': True, 'reason': 'User and/or item is unknown.'}), Prediction(uid=237441, iid='alien+1979', r_ui=4.0, est=3.722112211221122, details={'was_impossible': True, 'reason': 'User and/or item is unknown.'}), Prediction(uid=377319, iid='here+comes+the+devil+2012', r_ui=3.0, est=3.722112211221122, details={'was_impossible': True, 'reason': 'User and/or item is unknown.'}), Prediction(uid=547337, iid='reservoir+dogs+1992', r_ui=5.0, est=3.722112211221122, details={'was_impossible': True, 'reason': 'User and/or item is unknown.'}), Prediction(uid=337810, iid='sitcom+1998', r_ui=4.0, est=3.722112211221122, details={'was_impossible': True, 'reason': 'User and/or item is unknown.'}), Prediction(uid=602870, iid='the+protector+1985', r_ui=4.0, est=3.722112211221122, details={'was_impossible': True, 'reason': 'User and/or item is unknown.'}), Prediction(uid=362453, iid='police+academy+2+their+first+assignment+1985', r_ui=2.0, est=3.722112211221122, details={'was_impossible': True, 'reason': 'User and/or item is unknown.'}), Prediction(uid=253681, iid='mccabe++mrs.+miller+1971', r_ui=4.0, est=3.722112211221122, details={'was_impossible': True, 'reason': 'User and/or item is unknown.'}), Prediction(uid=823868, iid='the+yacoubian+building+2006', r_ui=3.0, est=3.722112211221122, details={'was_impossible': True, 'reason': 'User and/or item is unknown.'}), Prediction(uid=859154, iid='bitter+moon+1992', r_ui=3.0, est=3.722112211221122, details={'was_impossible': True, 'reason': 'User and/or item is unknown.'}), Prediction(uid=746130, iid='the+mark+of+zorro+1920', r_ui=3.0, est=3.722112211221122, details={'was_impossible': True, 'reason': 'User and/or item is unknown.'}), Prediction(uid=156803, iid='daughters+of+darkness+1971', r_ui=3.0, est=3.722112211221122, details={'was_impossible': True, 'reason': 'User and/or item is unknown.'}), Prediction(uid=435324, iid='live+nude+girls+1995', r_ui=5.0, est=3.722112211221122, details={'was_impossible': True, 'reason': 'User and/or item is unknown.'}), Prediction(uid=47695, iid='gattaca+1997', r_ui=5.0, est=3.722112211221122, details={'was_impossible': True, 'reason': 'User and/or item is unknown.'}), Prediction(uid=788065, iid='the+medallion+2003', r_ui=3.0, est=3.722112211221122, details={'was_impossible': True, 'reason': 'User and/or item is unknown.'}), Prediction(uid=183368, iid='the+wind+rises+2013', r_ui=4.0, est=3.722112211221122, details={'was_impossible': True, 'reason': 'User and/or item is unknown.'}), Prediction(uid=356745, iid='the+avengers+2012', r_ui=3.0, est=3.722112211221122, details={'was_impossible': True, 'reason': 'User and/or item is unknown.'}), Prediction(uid=502859, iid='master+and+commander+the+far+side+of+the+world+2003', r_ui=3.0, est=3.722112211221122, details={'was_impossible': True, 'reason': 'User and/or item is unknown.'}), Prediction(uid=114003, iid='edge+of+madness+2002', r_ui=5.0, est=3.722112211221122, details={'was_impossible': True, 'reason': 'User and/or item is unknown.'}), Prediction(uid=38530, iid='the+glamorous+life+of+sachiko+hanai+2003', r_ui=4.0, est=3.722112211221122, details={'was_impossible': True, 'reason': 'User and/or item is unknown.'}), Prediction(uid=806712, iid='life+is+rosy+1987', r_ui=3.0, est=3.722112211221122, details={'was_impossible': True, 'reason': 'User and/or item is unknown.'}), Prediction(uid=812376, iid='the+hire+the+follow+2001', r_ui=3.0, est=3.722112211221122, details={'was_impossible': True, 'reason': 'User and/or item is unknown.'}), Prediction(uid=725842, iid='atlas+shrugged+part+ii+2012', r_ui=4.0, est=3.722112211221122, details={'was_impossible': True, 'reason': 'User and/or item is unknown.'})]\n",
            "[Prediction(uid=797121, iid='all+tomorrows+parties+2009', r_ui=4.0, est=3.722112211221122, details={'was_impossible': False}), Prediction(uid=869238, iid='the+wild+child+1970', r_ui=3.0, est=3.722112211221122, details={'was_impossible': False}), Prediction(uid=291814, iid='the+terminator+1984', r_ui=4.0, est=3.7534563980203575, details={'was_impossible': False}), Prediction(uid=534170, iid='a+chinese+ghost+story+1987', r_ui=4.0, est=3.722112211221122, details={'was_impossible': False}), Prediction(uid=518367, iid='exit+2006', r_ui=3.0, est=3.722112211221122, details={'was_impossible': False}), Prediction(uid=607924, iid='about+last+night+2014', r_ui=3.0, est=3.722112211221122, details={'was_impossible': False}), Prediction(uid=642296, iid='the+secret+garden+1993', r_ui=3.0, est=3.722112211221122, details={'was_impossible': False}), Prediction(uid=464932, iid='padre+padrone+1977', r_ui=4.0, est=3.722112211221122, details={'was_impossible': False}), Prediction(uid=315175, iid='quatermass+and+the+pit+1967', r_ui=4.0, est=3.722112211221122, details={'was_impossible': False}), Prediction(uid=498156, iid='futurama+benders+big+score+2007', r_ui=4.0, est=3.722112211221122, details={'was_impossible': False}), Prediction(uid=411708, iid='the+eighth+day+1996', r_ui=4.0, est=3.722112211221122, details={'was_impossible': False}), Prediction(uid=302803, iid='barton+fink+1991', r_ui=4.0, est=3.722112211221122, details={'was_impossible': False}), Prediction(uid=253833, iid='the+equalizer+2014', r_ui=4.0, est=3.748113068312224, details={'was_impossible': False}), Prediction(uid=793782, iid='leon+the+professional+1994', r_ui=4.0, est=3.974079895194361, details={'was_impossible': False}), Prediction(uid=938748, iid='anna+christie+1930', r_ui=3.0, est=3.722112211221122, details={'was_impossible': False}), Prediction(uid=717193, iid='harry+potter+and+the+goblet+of+fire+2005', r_ui=4.0, est=3.7988593543369795, details={'was_impossible': False}), Prediction(uid=110936, iid='the+land+before+time+iv+journey+through+the+mists+1996', r_ui=3.0, est=3.722112211221122, details={'was_impossible': False}), Prediction(uid=452602, iid='the+constant+nymph+1943', r_ui=4.0, est=3.722112211221122, details={'was_impossible': False}), Prediction(uid=874685, iid='hard+boiled+1992', r_ui=4.0, est=3.722112211221122, details={'was_impossible': False}), Prediction(uid=853842, iid='tainted+1998', r_ui=3.0, est=3.722112211221122, details={'was_impossible': False}), Prediction(uid=520683, iid='unbreakable+2000', r_ui=3.0, est=3.722112211221122, details={'was_impossible': False}), Prediction(uid=863277, iid='the+contract+2006', r_ui=3.0, est=3.722112211221122, details={'was_impossible': False}), Prediction(uid=199397, iid='all+the+presidents+men+1976', r_ui=4.0, est=3.722112211221122, details={'was_impossible': False}), Prediction(uid=425863, iid='you+are+so+beautiful+2005', r_ui=4.0, est=3.722112211221122, details={'was_impossible': False}), Prediction(uid=664697, iid='death+line+1972', r_ui=3.0, est=3.7434490996984127, details={'was_impossible': False}), Prediction(uid=613880, iid='the+maid+2009', r_ui=4.0, est=3.722112211221122, details={'was_impossible': False}), Prediction(uid=195816, iid='saving+private+ryan+1998', r_ui=3.0, est=3.877873371090983, details={'was_impossible': False}), Prediction(uid=677440, iid='hawaiian+vacation+2011', r_ui=3.0, est=3.722112211221122, details={'was_impossible': False}), Prediction(uid=105049, iid='inception+2010', r_ui=4.0, est=4.023195024464339, details={'was_impossible': False}), Prediction(uid=358569, iid='interstellar+2014', r_ui=5.0, est=4.028691308416367, details={'was_impossible': False}), Prediction(uid=839900, iid='the+world+of+apu+1959', r_ui=4.0, est=3.722112211221122, details={'was_impossible': False}), Prediction(uid=210793, iid='interstellar+2014', r_ui=5.0, est=4.028691308416367, details={'was_impossible': False}), Prediction(uid=334264, iid='castle+in+the+sky+1986', r_ui=4.0, est=3.724045308079707, details={'was_impossible': False}), Prediction(uid=676240, iid='fight+club+1999', r_ui=4.0, est=3.738141483621938, details={'was_impossible': False}), Prediction(uid=571333, iid='i_+robot+2004', r_ui=3.0, est=3.838707492965979, details={'was_impossible': False}), Prediction(uid=235913, iid='the+omega+man+1971', r_ui=2.0, est=3.722112211221122, details={'was_impossible': False}), Prediction(uid=741902, iid='the+blue+umbrella+2013', r_ui=4.0, est=3.722112211221122, details={'was_impossible': False}), Prediction(uid=353154, iid='louis+c.k.+shameless+2007', r_ui=4.0, est=3.722112211221122, details={'was_impossible': False}), Prediction(uid=67957, iid='harry+potter+and+the+deathly+hallows+part+1+2010', r_ui=5.0, est=3.7354936808110417, details={'was_impossible': False}), Prediction(uid=423602, iid='walle+2008', r_ui=4.0, est=3.7475269511201126, details={'was_impossible': False}), Prediction(uid=362907, iid='still+walking+2008', r_ui=4.0, est=3.722112211221122, details={'was_impossible': False}), Prediction(uid=31013, iid='the+lord+of+the+rings+the+two+towers+2002', r_ui=5.0, est=3.766831933817849, details={'was_impossible': False}), Prediction(uid=692618, iid='the+omen+1976', r_ui=4.0, est=3.722112211221122, details={'was_impossible': False}), Prediction(uid=746035, iid='the+chatterley+affair+2006', r_ui=3.0, est=3.722112211221122, details={'was_impossible': False}), Prediction(uid=422266, iid='the+orphanage+2007', r_ui=5.0, est=3.722112211221122, details={'was_impossible': False}), Prediction(uid=428099, iid='the+matrix+1999', r_ui=4.0, est=3.7890518476545316, details={'was_impossible': False}), Prediction(uid=828287, iid='suing+the+devil+2011', r_ui=4.0, est=3.722112211221122, details={'was_impossible': False}), Prediction(uid=282433, iid='harry+potter+and+the+chamber+of+secrets+2002', r_ui=3.0, est=3.831600376580112, details={'was_impossible': False}), Prediction(uid=257487, iid='youth+of+the+son+1952', r_ui=4.0, est=3.722112211221122, details={'was_impossible': False}), Prediction(uid=88647, iid='my+neighbor+totoro+1988', r_ui=3.0, est=3.9014760342287755, details={'was_impossible': False}), Prediction(uid=859776, iid='reservoir+dogs+1992', r_ui=5.0, est=3.602631630804621, details={'was_impossible': False}), Prediction(uid=321171, iid='ju-on+black+ghost+2009', r_ui=5.0, est=3.722112211221122, details={'was_impossible': False}), Prediction(uid=739067, iid='gone+girl+2014', r_ui=4.0, est=3.722112211221122, details={'was_impossible': False}), Prediction(uid=242281, iid='the+exploding+girl+2009', r_ui=4.0, est=3.722112211221122, details={'was_impossible': False}), Prediction(uid=690838, iid='coraline+2009', r_ui=3.0, est=3.848105229059994, details={'was_impossible': False}), Prediction(uid=305242, iid='the+thin+man+1934', r_ui=4.0, est=3.722112211221122, details={'was_impossible': False}), Prediction(uid=753470, iid='toy+story+1995', r_ui=4.0, est=3.8575828858888745, details={'was_impossible': False}), Prediction(uid=926960, iid='robot+stories+2003', r_ui=3.0, est=3.722112211221122, details={'was_impossible': False}), Prediction(uid=81261, iid='harry+potter+and+the+goblet+of+fire+2005', r_ui=4.0, est=3.7988593543369795, details={'was_impossible': False}), Prediction(uid=848769, iid='fog+over+frisco+1934', r_ui=3.0, est=3.722112211221122, details={'was_impossible': False}), Prediction(uid=659832, iid='hamlet+2000', r_ui=3.0, est=3.722112211221122, details={'was_impossible': False}), Prediction(uid=43174, iid='the+cat+returns+2002', r_ui=4.0, est=3.759961906310659, details={'was_impossible': False}), Prediction(uid=504712, iid='pussy+riot+a+punk+prayer+2013', r_ui=4.0, est=3.722112211221122, details={'was_impossible': False}), Prediction(uid=784653, iid='darling+2007', r_ui=4.0, est=3.824850927886401, details={'was_impossible': False}), Prediction(uid=11769, iid='mutant+chronicles+2008', r_ui=3.0, est=3.722112211221122, details={'was_impossible': False}), Prediction(uid=238936, iid='seven+brides+for+seven+brothers+1954', r_ui=4.0, est=3.722112211221122, details={'was_impossible': False}), Prediction(uid=259660, iid='our+hospitality+1923', r_ui=5.0, est=3.722112211221122, details={'was_impossible': False}), Prediction(uid=509381, iid='a+lot+like+love+2005', r_ui=4.0, est=3.722112211221122, details={'was_impossible': False}), Prediction(uid=687879, iid='bad+day+at+black+rock+1955', r_ui=5.0, est=3.722112211221122, details={'was_impossible': False}), Prediction(uid=873166, iid='addams+family+values+1993', r_ui=3.0, est=3.722112211221122, details={'was_impossible': False}), Prediction(uid=892478, iid='dial+m+for+murder+1954', r_ui=4.0, est=3.722112211221122, details={'was_impossible': False}), Prediction(uid=859780, iid='a+handful+of+dust+1988', r_ui=3.0, est=3.722112211221122, details={'was_impossible': False}), Prediction(uid=934716, iid='the+home+of+dark+butterflies+2008', r_ui=3.0, est=3.722112211221122, details={'was_impossible': False}), Prediction(uid=592420, iid='le+jeu+de+la+mort+2010', r_ui=5.0, est=3.722112211221122, details={'was_impossible': False}), Prediction(uid=533869, iid='constantine+2005', r_ui=2.0, est=3.4690295284685853, details={'was_impossible': False}), Prediction(uid=257505, iid='vertigo+1958', r_ui=4.0, est=3.722112211221122, details={'was_impossible': False}), Prediction(uid=67931, iid='la+jete+1962', r_ui=3.0, est=3.722112211221122, details={'was_impossible': False}), Prediction(uid=205767, iid='walter+defends+sarajevo+1972', r_ui=4.0, est=3.722112211221122, details={'was_impossible': False}), Prediction(uid=525060, iid='titanic+1997', r_ui=3.0, est=3.7521582250099716, details={'was_impossible': False}), Prediction(uid=14470, iid='rambo+iii+1988', r_ui=3.0, est=3.722112211221122, details={'was_impossible': False}), Prediction(uid=671054, iid='night+patrol+1984', r_ui=3.0, est=3.722112211221122, details={'was_impossible': False}), Prediction(uid=279662, iid='battleship+potemkin+1925', r_ui=5.0, est=3.722112211221122, details={'was_impossible': False}), Prediction(uid=440587, iid='shutter+island+2010', r_ui=4.0, est=3.858653268779896, details={'was_impossible': False}), Prediction(uid=333218, iid='battleship+potemkin+1925', r_ui=4.0, est=3.722112211221122, details={'was_impossible': False}), Prediction(uid=507891, iid='the+special+relationship+2010', r_ui=3.0, est=3.722112211221122, details={'was_impossible': False}), Prediction(uid=769232, iid='fist+of+legend+1994', r_ui=4.0, est=3.722112211221122, details={'was_impossible': False}), Prediction(uid=196413, iid='the+burrowers+2008', r_ui=3.0, est=3.824426479744778, details={'was_impossible': False}), Prediction(uid=455973, iid='before+the+fall+2004', r_ui=4.0, est=3.722112211221122, details={'was_impossible': False}), Prediction(uid=927971, iid='melody+time+1948', r_ui=4.0, est=3.722112211221122, details={'was_impossible': False}), Prediction(uid=887587, iid='lady+and+the+tramp+1955', r_ui=2.0, est=3.6874684074214894, details={'was_impossible': False}), Prediction(uid=208413, iid='and+now+my+love+1974', r_ui=4.0, est=3.722112211221122, details={'was_impossible': False}), Prediction(uid=124977, iid='alice+in+wonderland+2010', r_ui=3.0, est=3.722112211221122, details={'was_impossible': False}), Prediction(uid=872073, iid='cars+2006', r_ui=4.0, est=3.722112211221122, details={'was_impossible': False}), Prediction(uid=384633, iid='gattaca+1997', r_ui=4.0, est=3.6511430760610075, details={'was_impossible': False}), Prediction(uid=525073, iid='the+gift+2000', r_ui=4.0, est=3.722112211221122, details={'was_impossible': False}), Prediction(uid=215927, iid='monsters_+inc.+2001', r_ui=4.0, est=3.792964779822624, details={'was_impossible': False}), Prediction(uid=687444, iid='final+fantasy+vii+advent+children+2005', r_ui=3.0, est=3.722112211221122, details={'was_impossible': False}), Prediction(uid=452004, iid='kill+bill+vol.+1+2003', r_ui=5.0, est=3.6841092879504957, details={'was_impossible': False}), Prediction(uid=283551, iid='a+star+is+born+1976', r_ui=3.0, est=3.722112211221122, details={'was_impossible': False}), Prediction(uid=135124, iid='delitto+a+porta+romana+1980', r_ui=3.0, est=3.722112211221122, details={'was_impossible': False}), Prediction(uid=795473, iid='deep+blue+sea+1999', r_ui=2.0, est=3.722112211221122, details={'was_impossible': False}), Prediction(uid=794481, iid='tarzan+the+ape+man+1932', r_ui=3.0, est=3.722112211221122, details={'was_impossible': False}), Prediction(uid=153732, iid='fireproof+2008', r_ui=3.0, est=3.722112211221122, details={'was_impossible': False}), Prediction(uid=513170, iid='mulan+1998', r_ui=5.0, est=3.764309998624311, details={'was_impossible': False}), Prediction(uid=715888, iid='harry+potter+and+the+half-blood+prince+2009', r_ui=4.0, est=3.771544732479487, details={'was_impossible': False}), Prediction(uid=476802, iid='allegheny+uprising+1939', r_ui=4.0, est=3.722112211221122, details={'was_impossible': False}), Prediction(uid=246623, iid='the+play+house+1921', r_ui=3.0, est=3.756008143884044, details={'was_impossible': False}), Prediction(uid=114868, iid='runaway+brain+1995', r_ui=3.0, est=3.722112211221122, details={'was_impossible': False}), Prediction(uid=503147, iid='the+shawshank+redemption+1994', r_ui=5.0, est=4.1796620857428, details={'was_impossible': False}), Prediction(uid=127883, iid='hells+kitchen+1998', r_ui=3.0, est=3.722112211221122, details={'was_impossible': False}), Prediction(uid=839431, iid='i+killed+my+mother+2009', r_ui=4.0, est=3.722112211221122, details={'was_impossible': False}), Prediction(uid=173305, iid='nightcrawler+2014', r_ui=4.0, est=3.851131222500727, details={'was_impossible': False}), Prediction(uid=435910, iid='the+hobbit+an+unexpected+journey+2012', r_ui=4.0, est=3.735694597942112, details={'was_impossible': False}), Prediction(uid=455257, iid='the+hobbit+the+desolation+of+smaug+2013', r_ui=3.0, est=3.722112211221122, details={'was_impossible': False}), Prediction(uid=601700, iid='kings+of+pastry+2009', r_ui=4.0, est=3.722112211221122, details={'was_impossible': False}), Prediction(uid=814267, iid='end+of+watch+2012', r_ui=4.0, est=3.722112211221122, details={'was_impossible': False}), Prediction(uid=237590, iid='from+dusk+till+dawn+1996', r_ui=3.0, est=3.722112211221122, details={'was_impossible': False}), Prediction(uid=896670, iid='the+green+mile+1999', r_ui=3.0, est=3.9353026053457487, details={'was_impossible': False}), Prediction(uid=72253, iid='day++night+2010', r_ui=4.0, est=3.722112211221122, details={'was_impossible': False}), Prediction(uid=229985, iid='harry+potter+and+the+philosophers+stone+2001', r_ui=3.0, est=3.8250354779734415, details={'was_impossible': False}), Prediction(uid=605690, iid='the+in-laws+2003', r_ui=3.0, est=3.722112211221122, details={'was_impossible': False}), Prediction(uid=541342, iid='z+1969', r_ui=5.0, est=3.722112211221122, details={'was_impossible': False}), Prediction(uid=234997, iid='star+wars+1977', r_ui=4.0, est=3.8940428848585986, details={'was_impossible': False}), Prediction(uid=335953, iid='ju-on+the+grudge+2002', r_ui=5.0, est=3.722112211221122, details={'was_impossible': False}), Prediction(uid=684610, iid='u+pana+boga+za+piecem+1998', r_ui=4.0, est=3.722112211221122, details={'was_impossible': False}), Prediction(uid=911867, iid='something+in+the+wind+1947', r_ui=3.0, est=3.722112211221122, details={'was_impossible': False}), Prediction(uid=937467, iid='goliath+awaits+1981', r_ui=4.0, est=3.722112211221122, details={'was_impossible': False}), Prediction(uid=570056, iid='pure+luck+1991', r_ui=3.0, est=3.722112211221122, details={'was_impossible': False}), Prediction(uid=474349, iid='frozen+2013', r_ui=4.0, est=3.8275048809969934, details={'was_impossible': False}), Prediction(uid=224631, iid='100+ways+to+murder+your+wife+1986', r_ui=3.0, est=3.722112211221122, details={'was_impossible': False}), Prediction(uid=731457, iid='terminator+2+judgment+day+1991', r_ui=4.0, est=3.7928641891588777, details={'was_impossible': False}), Prediction(uid=933333, iid='starlet+2012', r_ui=3.0, est=3.722112211221122, details={'was_impossible': False}), Prediction(uid=824000, iid='from+the+life+of+the+marionettes+1980', r_ui=3.0, est=3.722112211221122, details={'was_impossible': False}), Prediction(uid=284288, iid='my+neighbor+totoro+1988', r_ui=3.0, est=3.9014760342287755, details={'was_impossible': False}), Prediction(uid=301122, iid='my+neighbor+totoro+1988', r_ui=4.0, est=3.9014760342287755, details={'was_impossible': False}), Prediction(uid=456550, iid='charlie+and+the+chocolate+factory+2005', r_ui=4.0, est=3.7308178255521507, details={'was_impossible': False}), Prediction(uid=61103, iid='tales+from+the+golden+age+2009', r_ui=4.0, est=3.722112211221122, details={'was_impossible': False}), Prediction(uid=407596, iid='paradise+lost+3+purgatory+2011', r_ui=5.0, est=3.722112211221122, details={'was_impossible': False}), Prediction(uid=684278, iid='willy+wonka++the+chocolate+factory+1971', r_ui=3.0, est=3.760170227968366, details={'was_impossible': False}), Prediction(uid=264150, iid='young+black+stallion+2003', r_ui=3.0, est=3.722112211221122, details={'was_impossible': False}), Prediction(uid=56086, iid='wieners+2008', r_ui=4.0, est=3.722112211221122, details={'was_impossible': False}), Prediction(uid=820954, iid='between+heaven+and+hell+1956', r_ui=3.0, est=3.722112211221122, details={'was_impossible': False}), Prediction(uid=897697, iid='guest+of+cindy+sherman+2008', r_ui=2.0, est=3.722112211221122, details={'was_impossible': False}), Prediction(uid=836641, iid='the+avengers+2012', r_ui=4.0, est=3.6130123526346596, details={'was_impossible': False}), Prediction(uid=780206, iid='the+gospel+according+to+matthew+1964', r_ui=4.0, est=3.722112211221122, details={'was_impossible': False}), Prediction(uid=422115, iid='saving+private+ryan+1998', r_ui=4.0, est=3.877873371090983, details={'was_impossible': False}), Prediction(uid=174491, iid='how+to+train+your+dragon+2010', r_ui=2.0, est=3.8340552135931465, details={'was_impossible': False}), Prediction(uid=927317, iid='trapped+2002', r_ui=3.0, est=3.722112211221122, details={'was_impossible': False}), Prediction(uid=225258, iid='the+beguiled+1971', r_ui=4.0, est=3.722112211221122, details={'was_impossible': False}), Prediction(uid=199692, iid='pirates+of+silicon+valley+1999', r_ui=4.0, est=3.722112211221122, details={'was_impossible': False}), Prediction(uid=251492, iid='mr.+hollands+opus+1995', r_ui=2.0, est=3.722112211221122, details={'was_impossible': False}), Prediction(uid=674698, iid='star+trek+the+motion+picture+1979', r_ui=3.0, est=3.722112211221122, details={'was_impossible': False}), Prediction(uid=703768, iid='the+green+mile+1999', r_ui=5.0, est=3.9353026053457487, details={'was_impossible': False}), Prediction(uid=832403, iid='the+strange+case+of+dr.+jekyll+and+mr.+hyde+1968', r_ui=4.0, est=3.722112211221122, details={'was_impossible': False}), Prediction(uid=217145, iid='the+seventh+seal+1957', r_ui=4.0, est=3.722112211221122, details={'was_impossible': False}), Prediction(uid=293992, iid='the+godfather+1972', r_ui=4.0, est=3.8552169598588857, details={'was_impossible': False}), Prediction(uid=36642, iid='river+queen+2005', r_ui=4.0, est=3.722112211221122, details={'was_impossible': False}), Prediction(uid=25432, iid='crazy+safari+1991', r_ui=4.0, est=3.722112211221122, details={'was_impossible': False}), Prediction(uid=222416, iid='raiders+of+the+lost+ark+1981', r_ui=5.0, est=3.730874120676707, details={'was_impossible': False}), Prediction(uid=115953, iid='the+incredibles+2004', r_ui=4.0, est=3.6689648276007345, details={'was_impossible': False}), Prediction(uid=2082, iid='bambi+1942', r_ui=3.0, est=3.722112211221122, details={'was_impossible': False}), Prediction(uid=258175, iid='snowpiercer+2013', r_ui=4.0, est=3.7407963302095553, details={'was_impossible': False}), Prediction(uid=828914, iid='ward+13+2003', r_ui=4.0, est=3.722112211221122, details={'was_impossible': False}), Prediction(uid=325301, iid='soylent+green+1973', r_ui=5.0, est=3.722112211221122, details={'was_impossible': False}), Prediction(uid=247598, iid='morituri+1965', r_ui=4.0, est=3.722112211221122, details={'was_impossible': False}), Prediction(uid=718405, iid='harry+potter+and+the+philosophers+stone+2001', r_ui=4.0, est=3.8250354779734415, details={'was_impossible': False}), Prediction(uid=97276, iid='the+barretts+of+wimpole+street+1934', r_ui=4.0, est=3.722112211221122, details={'was_impossible': False}), Prediction(uid=920450, iid='stranger+than+fiction+2006', r_ui=4.0, est=3.722112211221122, details={'was_impossible': False}), Prediction(uid=18531, iid='mister+lonely+2008', r_ui=4.0, est=3.722112211221122, details={'was_impossible': False}), Prediction(uid=639838, iid='class+of+1999+1990', r_ui=4.0, est=3.722112211221122, details={'was_impossible': False}), Prediction(uid=99868, iid='siegfried+2005', r_ui=3.0, est=3.722112211221122, details={'was_impossible': False}), Prediction(uid=746555, iid='walle+2008', r_ui=4.0, est=3.7475269511201126, details={'was_impossible': False}), Prediction(uid=481861, iid='go+west+1925', r_ui=5.0, est=3.722112211221122, details={'was_impossible': False}), Prediction(uid=800699, iid='the+lord+of+the+rings+the+two+towers+2002', r_ui=5.0, est=3.766831933817849, details={'was_impossible': False}), Prediction(uid=758475, iid='comet+in+moominland+1992', r_ui=5.0, est=3.722112211221122, details={'was_impossible': False}), Prediction(uid=911230, iid='dial+m+for+murder+1954', r_ui=5.0, est=3.722112211221122, details={'was_impossible': False}), Prediction(uid=101909, iid='that+naughty+girl+1956', r_ui=4.0, est=3.722112211221122, details={'was_impossible': False}), Prediction(uid=467114, iid='stop+making+sense+1984', r_ui=4.0, est=3.722112211221122, details={'was_impossible': False}), Prediction(uid=549145, iid='ruby+sparks+2012', r_ui=3.0, est=3.722112211221122, details={'was_impossible': False}), Prediction(uid=848988, iid='enemy+2013', r_ui=3.0, est=3.722112211221122, details={'was_impossible': False}), Prediction(uid=383775, iid='my+architect+2003', r_ui=5.0, est=3.722112211221122, details={'was_impossible': False}), Prediction(uid=731946, iid='maleficent+2014', r_ui=4.0, est=3.722112211221122, details={'was_impossible': False}), Prediction(uid=669673, iid='zeitgeist+addendum+2008', r_ui=4.0, est=3.722112211221122, details={'was_impossible': False}), Prediction(uid=42768, iid='beetlejuice+1988', r_ui=4.0, est=3.71884742289446, details={'was_impossible': False}), Prediction(uid=209242, iid='terrorstorm+a+history+of+government-sponsored+terrorism+2006', r_ui=4.0, est=3.722112211221122, details={'was_impossible': False}), Prediction(uid=932340, iid='500+days+of+summer+2009', r_ui=4.0, est=3.722112211221122, details={'was_impossible': False}), Prediction(uid=938518, iid='a+nightmare+on+elm+street+1984', r_ui=4.0, est=3.722112211221122, details={'was_impossible': False}), Prediction(uid=299902, iid='new+york+in+the+50s+2001', r_ui=4.0, est=3.722112211221122, details={'was_impossible': False}), Prediction(uid=221989, iid='the+music+room+1958', r_ui=3.0, est=3.722112211221122, details={'was_impossible': False}), Prediction(uid=542395, iid='play+misty+for+me+1971', r_ui=5.0, est=3.722112211221122, details={'was_impossible': False}), Prediction(uid=542893, iid='aftermath+1994', r_ui=4.0, est=3.722112211221122, details={'was_impossible': False}), Prediction(uid=106537, iid='the+power+of+nightmares+2004', r_ui=3.0, est=3.722112211221122, details={'was_impossible': False}), Prediction(uid=802097, iid='exhibition+2013', r_ui=3.0, est=3.722112211221122, details={'was_impossible': False}), Prediction(uid=816342, iid='maurice+1987', r_ui=3.0, est=3.722112211221122, details={'was_impossible': False}), Prediction(uid=937533, iid='sanshiro+sugata+part+two+1945', r_ui=4.0, est=3.722112211221122, details={'was_impossible': False}), Prediction(uid=918890, iid='grajcy+z+talerza+1995', r_ui=4.0, est=3.722112211221122, details={'was_impossible': False}), Prediction(uid=76002, iid='the+island+president+2012', r_ui=3.0, est=3.722112211221122, details={'was_impossible': False}), Prediction(uid=553158, iid='my+cousin+vinny+1992', r_ui=4.0, est=3.722112211221122, details={'was_impossible': False}), Prediction(uid=405897, iid='monsters_+inc.+2001', r_ui=4.0, est=3.792964779822624, details={'was_impossible': False}), Prediction(uid=332206, iid='three+coins+in+the+fountain+1954', r_ui=4.0, est=3.722112211221122, details={'was_impossible': False}), Prediction(uid=127590, iid='seven+up+1964', r_ui=5.0, est=3.722112211221122, details={'was_impossible': False}), Prediction(uid=156794, iid='amateur+1994', r_ui=4.0, est=3.722112211221122, details={'was_impossible': False}), Prediction(uid=392507, iid='amber+alert+2012', r_ui=3.0, est=3.722112211221122, details={'was_impossible': False}), Prediction(uid=244751, iid='princess+yang+kwei+fei+1955', r_ui=4.0, est=3.722112211221122, details={'was_impossible': False}), Prediction(uid=126959, iid='hotel+transylvania+2012', r_ui=5.0, est=3.722112211221122, details={'was_impossible': False}), Prediction(uid=293712, iid='moonlight+mile+2002', r_ui=3.0, est=3.722112211221122, details={'was_impossible': False}), Prediction(uid=870191, iid='batman+the+dark+knight+returns_+part+1+2012', r_ui=5.0, est=3.722112211221122, details={'was_impossible': False}), Prediction(uid=931995, iid='harry+potter+and+the+deathly+hallows+part+2+2011', r_ui=3.0, est=3.845208828197779, details={'was_impossible': False}), Prediction(uid=493764, iid='boys+life+2+1997', r_ui=3.0, est=3.722112211221122, details={'was_impossible': False}), Prediction(uid=571008, iid='them+2006', r_ui=4.0, est=3.722112211221122, details={'was_impossible': False}), Prediction(uid=884563, iid='rome_+open+city+1945', r_ui=4.0, est=3.722112211221122, details={'was_impossible': False}), Prediction(uid=936831, iid='the+equalizer+2014', r_ui=4.0, est=3.748113068312224, details={'was_impossible': False}), Prediction(uid=255528, iid='creation+2009', r_ui=3.0, est=3.722112211221122, details={'was_impossible': False}), Prediction(uid=580501, iid='the+life+of+oharu+1952', r_ui=4.0, est=3.722112211221122, details={'was_impossible': False}), Prediction(uid=353809, iid='se7en+1995', r_ui=5.0, est=3.873937732962173, details={'was_impossible': False}), Prediction(uid=587444, iid='good+bye_+lenin+2003', r_ui=5.0, est=3.722112211221122, details={'was_impossible': False}), Prediction(uid=497255, iid='geronimo+an+american+legend+1993', r_ui=3.0, est=3.658903205699558, details={'was_impossible': False}), Prediction(uid=814987, iid='despicable+me+2+2013', r_ui=4.0, est=3.780577973109877, details={'was_impossible': False}), Prediction(uid=576131, iid='iron+man+3+2013', r_ui=4.0, est=3.7364880415423602, details={'was_impossible': False}), Prediction(uid=776984, iid='the+golden+coach+1952', r_ui=4.0, est=3.722112211221122, details={'was_impossible': False}), Prediction(uid=421248, iid='the+matrix+1999', r_ui=4.0, est=3.7890518476545316, details={'was_impossible': False}), Prediction(uid=90524, iid='bio+slime+2010', r_ui=3.0, est=3.722112211221122, details={'was_impossible': False}), Prediction(uid=109232, iid='the+prime+of+miss+jean+brodie+1969', r_ui=5.0, est=3.722112211221122, details={'was_impossible': False}), Prediction(uid=343756, iid='fantastic+mr.+fox+2009', r_ui=4.0, est=3.722112211221122, details={'was_impossible': False}), Prediction(uid=232434, iid='the+leopard+1963', r_ui=4.0, est=3.722112211221122, details={'was_impossible': False}), Prediction(uid=278852, iid='the+dark+horse+2014', r_ui=4.0, est=3.722112211221122, details={'was_impossible': False}), Prediction(uid=168051, iid='the+whip+and+the+body+1963', r_ui=3.0, est=3.722112211221122, details={'was_impossible': False}), Prediction(uid=844785, iid='the+blank+generation+1976', r_ui=4.0, est=3.722112211221122, details={'was_impossible': False}), Prediction(uid=414709, iid='good+will+hunting+1997', r_ui=4.0, est=3.722112211221122, details={'was_impossible': False}), Prediction(uid=397224, iid='the+night+they+raided+minskys+1968', r_ui=3.0, est=3.722112211221122, details={'was_impossible': False}), Prediction(uid=55942, iid='tangled+2010', r_ui=4.0, est=3.844567181185697, details={'was_impossible': False}), Prediction(uid=550992, iid='confidentially+yours+1983', r_ui=4.0, est=3.722112211221122, details={'was_impossible': False}), Prediction(uid=636673, iid='chicken+run+2000', r_ui=5.0, est=3.8333208490531416, details={'was_impossible': False}), Prediction(uid=596691, iid='the+foul+king+2000', r_ui=4.0, est=3.722112211221122, details={'was_impossible': False}), Prediction(uid=162322, iid='ratatouille+2007', r_ui=4.0, est=3.7331028839746323, details={'was_impossible': False}), Prediction(uid=720147, iid='fat+guy+goes+nutzoid+1986', r_ui=4.0, est=3.722112211221122, details={'was_impossible': False}), Prediction(uid=598852, iid='a+few+good+men+1992', r_ui=4.0, est=3.722112211221122, details={'was_impossible': False}), Prediction(uid=547041, iid='the+incredible+hulk+2008', r_ui=4.0, est=3.7565659436299854, details={'was_impossible': False}), Prediction(uid=892647, iid='kingsman+the+secret+service+2015', r_ui=4.0, est=3.701499100539226, details={'was_impossible': False}), Prediction(uid=135247, iid='trial+on+the+road+1971', r_ui=4.0, est=3.722112211221122, details={'was_impossible': False}), Prediction(uid=847767, iid='death+by+china+2012', r_ui=3.0, est=3.722112211221122, details={'was_impossible': False}), Prediction(uid=37159, iid='red+dog+2011', r_ui=4.0, est=3.722112211221122, details={'was_impossible': False}), Prediction(uid=370573, iid='brain+damage+1988', r_ui=3.0, est=3.722112211221122, details={'was_impossible': False}), Prediction(uid=599239, iid='the+devil+wears+prada+2006', r_ui=4.0, est=3.671365780914882, details={'was_impossible': False}), Prediction(uid=780775, iid='paris+is+burning+1990', r_ui=4.0, est=3.722112211221122, details={'was_impossible': False}), Prediction(uid=44239, iid='pulp+fiction+1994', r_ui=4.0, est=3.8611591734974664, details={'was_impossible': False}), Prediction(uid=73043, iid='toy+story+3+2010', r_ui=4.0, est=3.7660647096734348, details={'was_impossible': False}), Prediction(uid=495406, iid='the+boy+in+the+striped+pyjamas+2008', r_ui=4.0, est=3.757959346329423, details={'was_impossible': False}), Prediction(uid=470237, iid='days+of+glory+2006', r_ui=4.0, est=3.722112211221122, details={'was_impossible': False}), Prediction(uid=853008, iid='the+lord+of+the+rings+the+return+of+the+king+2003', r_ui=5.0, est=3.8444027363868685, details={'was_impossible': False}), Prediction(uid=21358, iid='whiplash+2014', r_ui=5.0, est=4.059406593971229, details={'was_impossible': False}), Prediction(uid=780968, iid='battle+of+the+bulge+1965', r_ui=4.0, est=3.722112211221122, details={'was_impossible': False}), Prediction(uid=461930, iid='this+is+spinal+tap+1984', r_ui=5.0, est=3.722112211221122, details={'was_impossible': False}), Prediction(uid=52313, iid='the+tiger+from+tjampa+1953', r_ui=4.0, est=3.722112211221122, details={'was_impossible': False}), Prediction(uid=131817, iid='forrest+gump+1994', r_ui=4.0, est=3.929788878533388, details={'was_impossible': False}), Prediction(uid=668771, iid='the+lost+thing+2010', r_ui=3.0, est=3.722112211221122, details={'was_impossible': False}), Prediction(uid=587427, iid='close-up+1990', r_ui=4.0, est=3.820925688815644, details={'was_impossible': False}), Prediction(uid=755056, iid='a+man+for+all+seasons+1966', r_ui=4.0, est=3.722112211221122, details={'was_impossible': False}), Prediction(uid=107154, iid='harry+potter+and+the+philosophers+stone+2001', r_ui=3.0, est=3.8250354779734415, details={'was_impossible': False}), Prediction(uid=669918, iid='bang+bang+1971', r_ui=3.0, est=3.722112211221122, details={'was_impossible': False}), Prediction(uid=161759, iid='inglourious+basterds+2009', r_ui=5.0, est=3.912500224191457, details={'was_impossible': False}), Prediction(uid=225795, iid='the+flying+deuces+1939', r_ui=3.0, est=3.722112211221122, details={'was_impossible': False}), Prediction(uid=884535, iid='cold+prey+2006', r_ui=3.0, est=3.722112211221122, details={'was_impossible': False}), Prediction(uid=717515, iid='the+sand+pebbles+1966', r_ui=4.0, est=3.722112211221122, details={'was_impossible': False}), Prediction(uid=522329, iid='the+beach+boys+an+american+family+2000', r_ui=2.0, est=3.722112211221122, details={'was_impossible': False}), Prediction(uid=804174, iid='small+faces+1996', r_ui=4.0, est=3.653047014978245, details={'was_impossible': False}), Prediction(uid=234572, iid='sebastian+maniscalco+whats+wrong+with+people+2012', r_ui=4.0, est=3.722112211221122, details={'was_impossible': False}), Prediction(uid=839935, iid='kidnapping_+caucasian+style+1967', r_ui=4.0, est=3.722112211221122, details={'was_impossible': False}), Prediction(uid=345595, iid='3+godfathers+1948', r_ui=3.0, est=3.722112211221122, details={'was_impossible': False}), Prediction(uid=424577, iid='tentao+1997', r_ui=4.0, est=3.722112211221122, details={'was_impossible': False}), Prediction(uid=553027, iid='food_+inc.+2008', r_ui=5.0, est=3.722112211221122, details={'was_impossible': False}), Prediction(uid=265599, iid='pulp+fiction+1994', r_ui=5.0, est=3.8611591734974664, details={'was_impossible': False}), Prediction(uid=892668, iid='die+weihnachtsklempner+1986', r_ui=4.0, est=3.722112211221122, details={'was_impossible': False}), Prediction(uid=128776, iid='purple+noon+1960', r_ui=4.0, est=3.722112211221122, details={'was_impossible': False}), Prediction(uid=317215, iid='the+marquise+of+o+1976', r_ui=4.0, est=3.722112211221122, details={'was_impossible': False}), Prediction(uid=62986, iid='dead+calm+1989', r_ui=2.0, est=3.722112211221122, details={'was_impossible': False}), Prediction(uid=918832, iid='up+2009', r_ui=5.0, est=3.960258405967658, details={'was_impossible': False}), Prediction(uid=673258, iid='daddys+dyin...+whos+got+the+will+1990', r_ui=2.0, est=3.722112211221122, details={'was_impossible': False}), Prediction(uid=355298, iid='the+dogs+of+war+1980', r_ui=3.0, est=3.722112211221122, details={'was_impossible': False}), Prediction(uid=644807, iid='steel+toes+2006', r_ui=4.0, est=3.722112211221122, details={'was_impossible': False}), Prediction(uid=395116, iid='the+given+word+1962', r_ui=4.0, est=3.722112211221122, details={'was_impossible': False}), Prediction(uid=615532, iid='corto+maltese+in+siberia+2002', r_ui=5.0, est=3.722112211221122, details={'was_impossible': False}), Prediction(uid=342246, iid='la+strada+1954', r_ui=4.0, est=3.722112211221122, details={'was_impossible': False}), Prediction(uid=906843, iid='the+presidents+last+bang+2005', r_ui=3.0, est=3.722112211221122, details={'was_impossible': False}), Prediction(uid=451153, iid='batman+year+one+2011', r_ui=4.0, est=3.722112211221122, details={'was_impossible': False}), Prediction(uid=860869, iid='game+of+death+2010', r_ui=3.0, est=3.722112211221122, details={'was_impossible': False}), Prediction(uid=152628, iid='the+man+of+my+life+2006', r_ui=3.0, est=3.722112211221122, details={'was_impossible': False}), Prediction(uid=334566, iid='the+forsyte+saga+1967', r_ui=4.0, est=3.722112211221122, details={'was_impossible': False}), Prediction(uid=54377, iid='marie+antoinette+1938', r_ui=4.0, est=3.722112211221122, details={'was_impossible': False}), Prediction(uid=317422, iid='unforgiven+1992', r_ui=4.0, est=3.7414231054309792, details={'was_impossible': False}), Prediction(uid=685469, iid='the+fifth+element+1997', r_ui=4.0, est=3.7485206919017564, details={'was_impossible': False}), Prediction(uid=516838, iid='city+of+god+2002', r_ui=4.0, est=3.722112211221122, details={'was_impossible': False}), Prediction(uid=342279, iid='legal+eagles+1986', r_ui=3.0, est=3.722112211221122, details={'was_impossible': False}), Prediction(uid=935056, iid='ice+age+dawn+of+the+dinosaurs+2009', r_ui=3.0, est=3.666106645355146, details={'was_impossible': False}), Prediction(uid=132743, iid='young++beautiful+2013', r_ui=4.0, est=3.722112211221122, details={'was_impossible': False}), Prediction(uid=752322, iid='vision+quest+1985', r_ui=3.0, est=3.722112211221122, details={'was_impossible': False}), Prediction(uid=461714, iid='higher+learning+1995', r_ui=3.0, est=3.582141876808323, details={'was_impossible': False}), Prediction(uid=275643, iid='the+man+with+one+red+shoe+1985', r_ui=3.0, est=3.722112211221122, details={'was_impossible': False}), Prediction(uid=902774, iid='brave+2012', r_ui=3.0, est=3.8252374546124854, details={'was_impossible': False}), Prediction(uid=793534, iid='the+prowler+1951', r_ui=3.0, est=3.722112211221122, details={'was_impossible': False}), Prediction(uid=64308, iid='once+upon+a+warrior+2011', r_ui=3.0, est=3.722112211221122, details={'was_impossible': False}), Prediction(uid=394392, iid='the+hobbit+the+desolation+of+smaug+2013', r_ui=4.0, est=3.722112211221122, details={'was_impossible': False}), Prediction(uid=572198, iid='barrier+1966', r_ui=4.0, est=3.722112211221122, details={'was_impossible': False}), Prediction(uid=351182, iid='harry+potter+and+the+prisoner+of+azkaban+2004', r_ui=4.0, est=3.75184225106528, details={'was_impossible': False}), Prediction(uid=55108, iid='the+wrecking+crew+2008', r_ui=3.0, est=3.722112211221122, details={'was_impossible': False}), Prediction(uid=517946, iid='decoy+1946', r_ui=4.0, est=3.722112211221122, details={'was_impossible': False}), Prediction(uid=520965, iid='patton+1970', r_ui=5.0, est=3.722112211221122, details={'was_impossible': False}), Prediction(uid=562451, iid='p.s.+i+love+you+2007', r_ui=5.0, est=3.722112211221122, details={'was_impossible': False}), Prediction(uid=874196, iid='the+housekeeper+2002', r_ui=4.0, est=3.722112211221122, details={'was_impossible': False}), Prediction(uid=683432, iid='i_+the+jury+1982', r_ui=3.0, est=3.722112211221122, details={'was_impossible': False}), Prediction(uid=870958, iid='regarding+henry+1991', r_ui=3.0, est=3.722112211221122, details={'was_impossible': False}), Prediction(uid=609771, iid='princess+mononoke+1997', r_ui=3.0, est=3.868700639479791, details={'was_impossible': False}), Prediction(uid=694278, iid='the+hunger+games+mockingjay+-+part+1+2014', r_ui=4.0, est=3.7108157428891166, details={'was_impossible': False}), Prediction(uid=708552, iid='harry+potter+and+the+deathly+hallows+part+2+2011', r_ui=4.0, est=3.845208828197779, details={'was_impossible': False}), Prediction(uid=692785, iid='ratatouille+2007', r_ui=5.0, est=3.7331028839746323, details={'was_impossible': False}), Prediction(uid=529941, iid='dial+m+for+murder+1954', r_ui=4.0, est=3.722112211221122, details={'was_impossible': False}), Prediction(uid=795269, iid='runaway+jury+2003', r_ui=3.0, est=3.722112211221122, details={'was_impossible': False}), Prediction(uid=797774, iid='i_+robot+2004', r_ui=5.0, est=3.838707492965979, details={'was_impossible': False}), Prediction(uid=598206, iid='connections+', r_ui=4.0, est=3.722112211221122, details={'was_impossible': False}), Prediction(uid=225892, iid='guardians+of+the+galaxy+2014', r_ui=5.0, est=3.665091195172914, details={'was_impossible': False}), Prediction(uid=317811, iid='carnage+2011', r_ui=3.0, est=3.722112211221122, details={'was_impossible': False}), Prediction(uid=228280, iid='berkeley+in+the+sixties+1990', r_ui=3.0, est=3.722112211221122, details={'was_impossible': False}), Prediction(uid=859274, iid='up+2009', r_ui=4.0, est=3.960258405967658, details={'was_impossible': False}), Prediction(uid=242605, iid='harry+and+tonto+1974', r_ui=4.0, est=3.722112211221122, details={'was_impossible': False}), Prediction(uid=516775, iid='the+monster+club+1981', r_ui=3.0, est=3.722112211221122, details={'was_impossible': False}), Prediction(uid=637843, iid='inception+2010', r_ui=4.0, est=4.023195024464339, details={'was_impossible': False}), Prediction(uid=334562, iid='gardens+of+the+night+2008', r_ui=3.0, est=3.722112211221122, details={'was_impossible': False}), Prediction(uid=455493, iid='blonde+ambition+2007', r_ui=3.0, est=3.722112211221122, details={'was_impossible': False}), Prediction(uid=494958, iid='away+we+go+2009', r_ui=3.0, est=3.722112211221122, details={'was_impossible': False}), Prediction(uid=871787, iid='gorilla+at+large+1954', r_ui=3.0, est=3.722112211221122, details={'was_impossible': False}), Prediction(uid=467314, iid='predator+1987', r_ui=4.0, est=3.7420296623109133, details={'was_impossible': False}), Prediction(uid=143209, iid='a+get2gether+2005', r_ui=3.0, est=3.722112211221122, details={'was_impossible': False}), Prediction(uid=749617, iid='sixteen+candles+1984', r_ui=3.0, est=3.659228786962198, details={'was_impossible': False}), Prediction(uid=490536, iid='naked+ambition+an+r+rated+look+at+an+x+rated+industry+2009', r_ui=3.0, est=3.722112211221122, details={'was_impossible': False}), Prediction(uid=215760, iid='a+perfect+murder+1998', r_ui=4.0, est=3.722112211221122, details={'was_impossible': False}), Prediction(uid=618615, iid='lugares+comunes+2002', r_ui=2.0, est=3.722112211221122, details={'was_impossible': False}), Prediction(uid=885573, iid='silent+souls+2010', r_ui=4.0, est=3.722112211221122, details={'was_impossible': False}), Prediction(uid=609872, iid='who+framed+roger+rabbit+1988', r_ui=5.0, est=3.722112211221122, details={'was_impossible': False}), Prediction(uid=25234, iid='eurotrip+2004', r_ui=3.0, est=3.741502002014001, details={'was_impossible': False}), Prediction(uid=327435, iid='the+rains+came+1939', r_ui=4.0, est=3.722112211221122, details={'was_impossible': False}), Prediction(uid=865068, iid='revenge+1990', r_ui=2.0, est=3.722112211221122, details={'was_impossible': False}), Prediction(uid=104235, iid='oss+117+cairo_+nest+of+spies+2006', r_ui=4.0, est=3.722112211221122, details={'was_impossible': False}), Prediction(uid=285253, iid='the+seven+year+itch+1955', r_ui=4.0, est=3.722112211221122, details={'was_impossible': False}), Prediction(uid=14708, iid='saludos+amigos+1942', r_ui=3.0, est=3.722112211221122, details={'was_impossible': False}), Prediction(uid=124005, iid='local+hero+1983', r_ui=4.0, est=3.722112211221122, details={'was_impossible': False}), Prediction(uid=629422, iid='happiness+is+in+the+field+1995', r_ui=3.0, est=3.722112211221122, details={'was_impossible': False}), Prediction(uid=798129, iid='bruce+almighty+2003', r_ui=3.0, est=3.671600335275958, details={'was_impossible': False}), Prediction(uid=617627, iid='the+incredibles+2004', r_ui=4.0, est=3.6689648276007345, details={'was_impossible': False}), Prediction(uid=705910, iid='dragon+ball+z+broly+-+second+coming+1994', r_ui=3.0, est=3.670748137080988, details={'was_impossible': False}), Prediction(uid=573559, iid='paper+heart+2009', r_ui=3.0, est=3.722112211221122, details={'was_impossible': False}), Prediction(uid=647211, iid='despicable+me+2010', r_ui=5.0, est=3.8432647411862075, details={'was_impossible': False}), Prediction(uid=346474, iid='the+art+of+flight+2011', r_ui=4.0, est=3.722112211221122, details={'was_impossible': False}), Prediction(uid=575997, iid='close+encounters+of+the+third+kind+1977', r_ui=4.0, est=3.829373421148552, details={'was_impossible': False}), Prediction(uid=452626, iid='the+lord+of+the+rings+the+two+towers+2002', r_ui=3.0, est=3.766831933817849, details={'was_impossible': False}), Prediction(uid=543107, iid='days+of+wine+and+roses+1962', r_ui=4.0, est=3.722112211221122, details={'was_impossible': False}), Prediction(uid=634845, iid='big+trouble+in+little+china+1986', r_ui=4.0, est=3.722112211221122, details={'was_impossible': False}), Prediction(uid=422495, iid='nine+queens+2000', r_ui=3.0, est=3.722112211221122, details={'was_impossible': False}), Prediction(uid=694564, iid='the+life+of+oharu+1952', r_ui=4.0, est=3.722112211221122, details={'was_impossible': False}), Prediction(uid=748586, iid='east+is+east+1999', r_ui=3.0, est=3.722112211221122, details={'was_impossible': False}), Prediction(uid=666716, iid='ditirambo+1969', r_ui=3.0, est=3.722112211221122, details={'was_impossible': False}), Prediction(uid=253620, iid='the+handcuff+king+2002', r_ui=3.0, est=3.722112211221122, details={'was_impossible': False}), Prediction(uid=583615, iid='red+river+1948', r_ui=3.0, est=3.722112211221122, details={'was_impossible': False}), Prediction(uid=858521, iid='dinosaur+13+2014', r_ui=2.0, est=3.722112211221122, details={'was_impossible': False}), Prediction(uid=449885, iid='my+darling+clementine+1946', r_ui=2.0, est=3.722112211221122, details={'was_impossible': False}), Prediction(uid=335099, iid='eastern+promises+2007', r_ui=3.0, est=3.8137287296050877, details={'was_impossible': False}), Prediction(uid=706853, iid='aragami+2003', r_ui=4.0, est=3.722112211221122, details={'was_impossible': False}), Prediction(uid=359076, iid='ratatouille+2007', r_ui=5.0, est=3.7331028839746323, details={'was_impossible': False}), Prediction(uid=44170, iid='ice+age+2002', r_ui=4.0, est=3.722112211221122, details={'was_impossible': False}), Prediction(uid=571970, iid='nine+lives+1957', r_ui=5.0, est=3.722112211221122, details={'was_impossible': False}), Prediction(uid=347376, iid='pontypool+2009', r_ui=4.0, est=3.722112211221122, details={'was_impossible': False}), Prediction(uid=866459, iid='a+better+tomorrow+1986', r_ui=2.0, est=3.722112211221122, details={'was_impossible': False}), Prediction(uid=673537, iid='the+sword+in+the+stone+1963', r_ui=2.0, est=3.6047135276511284, details={'was_impossible': False}), Prediction(uid=922011, iid='queen+to+play+2009', r_ui=3.0, est=3.722112211221122, details={'was_impossible': False}), Prediction(uid=125675, iid='who+killed+the+electric+car+2006', r_ui=3.0, est=3.722112211221122, details={'was_impossible': False}), Prediction(uid=112388, iid='the+godfather+1972', r_ui=5.0, est=3.8552169598588857, details={'was_impossible': False}), Prediction(uid=8114, iid='the+goonies+1985', r_ui=4.0, est=3.6992652489323676, details={'was_impossible': False}), Prediction(uid=316642, iid='an+inconvenient+tax+2011', r_ui=4.0, est=3.722112211221122, details={'was_impossible': False}), Prediction(uid=511413, iid='el+cid+1961', r_ui=4.0, est=3.722112211221122, details={'was_impossible': False}), Prediction(uid=567173, iid='batman+mystery+of+the+batwoman+2003', r_ui=4.0, est=3.722112211221122, details={'was_impossible': False}), Prediction(uid=250960, iid='murder+on+the+orient+express+1974', r_ui=3.0, est=3.722112211221122, details={'was_impossible': False}), Prediction(uid=556180, iid='master+and+commander+the+far+side+of+the+world+2003', r_ui=4.0, est=3.6844893479918746, details={'was_impossible': False}), Prediction(uid=675256, iid='500+days+of+summer+2009', r_ui=4.0, est=3.722112211221122, details={'was_impossible': False}), Prediction(uid=180504, iid='how+i+ended+this+summer+2010', r_ui=5.0, est=3.722112211221122, details={'was_impossible': False}), Prediction(uid=731933, iid='something+to+talk+about+1995', r_ui=3.0, est=3.722112211221122, details={'was_impossible': False}), Prediction(uid=870041, iid='iron+man+2+2010', r_ui=5.0, est=3.722112211221122, details={'was_impossible': False}), Prediction(uid=231195, iid='amen.+2002', r_ui=4.0, est=3.722112211221122, details={'was_impossible': False}), Prediction(uid=468516, iid='missing+1982', r_ui=5.0, est=3.722112211221122, details={'was_impossible': False}), Prediction(uid=715910, iid='devils+due+2014', r_ui=4.0, est=3.722112211221122, details={'was_impossible': False}), Prediction(uid=29891, iid='my+boy+jack+2007', r_ui=2.0, est=3.722112211221122, details={'was_impossible': False}), Prediction(uid=661580, iid='total+recall+1990', r_ui=4.0, est=3.7592778680701753, details={'was_impossible': False}), Prediction(uid=524253, iid='zero+for+conduct+1933', r_ui=4.0, est=3.722112211221122, details={'was_impossible': False}), Prediction(uid=542812, iid='the+lavender+hill+mob+1951', r_ui=4.0, est=3.7582233078527523, details={'was_impossible': False}), Prediction(uid=527373, iid='pontypool+2009', r_ui=3.0, est=3.722112211221122, details={'was_impossible': False}), Prediction(uid=603469, iid='the+sacrifice+1986', r_ui=4.0, est=3.722112211221122, details={'was_impossible': False}), Prediction(uid=789017, iid='kill+the+messenger+2014', r_ui=4.0, est=3.722112211221122, details={'was_impossible': False}), Prediction(uid=164729, iid='kiss+of+the+spider+woman+1985', r_ui=4.0, est=3.8334607535547534, details={'was_impossible': False}), Prediction(uid=90083, iid='the+man+who+knew+too+much+1956', r_ui=4.0, est=3.6420326846776674, details={'was_impossible': False}), Prediction(uid=711669, iid='the+day+the+earth+stood+still+1951', r_ui=4.0, est=3.59303004356855, details={'was_impossible': False}), Prediction(uid=482273, iid='the+twilight+samurai+2002', r_ui=4.0, est=3.722112211221122, details={'was_impossible': False}), Prediction(uid=31896, iid='labor+day+2013', r_ui=3.0, est=3.722112211221122, details={'was_impossible': False}), Prediction(uid=63944, iid='mujhse+dosti+karoge+2002', r_ui=3.0, est=3.722112211221122, details={'was_impossible': False}), Prediction(uid=232798, iid='shutter+2004', r_ui=3.0, est=3.722112211221122, details={'was_impossible': False}), Prediction(uid=783426, iid='empire+of+dreams+the+story+of+the+star+wars+trilogy+2004', r_ui=4.0, est=3.722112211221122, details={'was_impossible': False}), Prediction(uid=431908, iid='an+amazing+couple+2002', r_ui=4.0, est=3.722112211221122, details={'was_impossible': False}), Prediction(uid=108994, iid='velvet+goldmine+1998', r_ui=4.0, est=3.722112211221122, details={'was_impossible': False}), Prediction(uid=155457, iid='black+venus+2010', r_ui=4.0, est=3.722112211221122, details={'was_impossible': False}), Prediction(uid=66558, iid='the+raven+1963', r_ui=3.0, est=3.722112211221122, details={'was_impossible': False}), Prediction(uid=338655, iid='dantes+inferno+an+animated+epic+2010', r_ui=3.0, est=3.722112211221122, details={'was_impossible': False}), Prediction(uid=91024, iid='fight+club+1999', r_ui=5.0, est=3.738141483621938, details={'was_impossible': False}), Prediction(uid=845356, iid='my+neighbor+totoro+1988', r_ui=4.0, est=3.9014760342287755, details={'was_impossible': False}), Prediction(uid=745172, iid='swoon+1992', r_ui=4.0, est=3.722112211221122, details={'was_impossible': False}), Prediction(uid=802093, iid='the+lion+king+1994', r_ui=3.0, est=3.7440877886934096, details={'was_impossible': False}), Prediction(uid=64277, iid='the+screaming+skull+1958', r_ui=4.0, est=3.722112211221122, details={'was_impossible': False}), Prediction(uid=871401, iid='the+third+half+2012', r_ui=3.0, est=3.722112211221122, details={'was_impossible': False}), Prediction(uid=390951, iid='lady+jane+1986', r_ui=4.0, est=3.722112211221122, details={'was_impossible': False}), Prediction(uid=402429, iid='dial+m+for+murder+1954', r_ui=4.0, est=3.722112211221122, details={'was_impossible': False}), Prediction(uid=560074, iid='comedian+harmonists+1997', r_ui=4.0, est=3.722112211221122, details={'was_impossible': False}), Prediction(uid=942817, iid='mood+indigo+2013', r_ui=3.0, est=3.722112211221122, details={'was_impossible': False}), Prediction(uid=925388, iid='ten+tall+men+1951', r_ui=3.0, est=3.722112211221122, details={'was_impossible': False}), Prediction(uid=848115, iid='harry+potter+and+the+goblet+of+fire+2005', r_ui=4.0, est=3.7988593543369795, details={'was_impossible': False}), Prediction(uid=486863, iid='the+lorax+2012', r_ui=3.0, est=3.5845276291547985, details={'was_impossible': False}), Prediction(uid=611295, iid='the+pledge+2001', r_ui=4.0, est=3.722112211221122, details={'was_impossible': False}), Prediction(uid=554045, iid='the+avengers+2012', r_ui=4.0, est=3.6130123526346596, details={'was_impossible': False}), Prediction(uid=290392, iid='predator+1987', r_ui=3.0, est=3.7420296623109133, details={'was_impossible': False}), Prediction(uid=832983, iid='unleashed+2005', r_ui=3.0, est=3.722112211221122, details={'was_impossible': False}), Prediction(uid=530462, iid='exit+through+the+gift+shop+2010', r_ui=3.0, est=3.722112211221122, details={'was_impossible': False}), Prediction(uid=234970, iid='fresh+guacamole+2012', r_ui=4.0, est=3.722112211221122, details={'was_impossible': False}), Prediction(uid=546285, iid='big+hero+6+2014', r_ui=3.0, est=3.9693071137885805, details={'was_impossible': False}), Prediction(uid=557506, iid='pinocchio+1940', r_ui=4.0, est=3.722112211221122, details={'was_impossible': False}), Prediction(uid=674096, iid='die+hard+1988', r_ui=3.0, est=3.7644751828842224, details={'was_impossible': False}), Prediction(uid=812779, iid='the+thorn+in+the+heart+2009', r_ui=3.0, est=3.722112211221122, details={'was_impossible': False}), Prediction(uid=19350, iid='frankenstein+1931', r_ui=4.0, est=3.722112211221122, details={'was_impossible': False}), Prediction(uid=540728, iid='geronimo+an+american+legend+1993', r_ui=4.0, est=3.658903205699558, details={'was_impossible': False}), Prediction(uid=813050, iid='we+all+loved+each+other+so+much+1974', r_ui=3.0, est=3.722112211221122, details={'was_impossible': False}), Prediction(uid=884109, iid='robin+hood+1973', r_ui=3.0, est=3.722112211221122, details={'was_impossible': False}), Prediction(uid=234139, iid='winners++sinners+1983', r_ui=4.0, est=3.722112211221122, details={'was_impossible': False}), Prediction(uid=335772, iid='traitor+2008', r_ui=4.0, est=3.722112211221122, details={'was_impossible': False}), Prediction(uid=190506, iid='novo+2002', r_ui=2.0, est=3.722112211221122, details={'was_impossible': False}), Prediction(uid=826371, iid='band+baaja+baaraat+2010', r_ui=4.0, est=3.722112211221122, details={'was_impossible': False}), Prediction(uid=95965, iid='harry+potter+and+the+half-blood+prince+2009', r_ui=5.0, est=3.771544732479487, details={'was_impossible': False}), Prediction(uid=663646, iid='life+of+pi+2012', r_ui=5.0, est=3.722112211221122, details={'was_impossible': False}), Prediction(uid=720275, iid='restless+2011', r_ui=3.0, est=3.722112211221122, details={'was_impossible': False}), Prediction(uid=345365, iid='tell+no+one+2006', r_ui=4.0, est=3.722112211221122, details={'was_impossible': False}), Prediction(uid=799819, iid='twice+upon+a+yesterday+1998', r_ui=3.0, est=3.6644407295321852, details={'was_impossible': False}), Prediction(uid=364985, iid='gattaca+1997', r_ui=5.0, est=3.6511430760610075, details={'was_impossible': False}), Prediction(uid=871342, iid='personal+effects+2009', r_ui=3.0, est=3.6539078384551145, details={'was_impossible': False}), Prediction(uid=160489, iid='good+people+2014', r_ui=4.0, est=3.722112211221122, details={'was_impossible': False}), Prediction(uid=464806, iid='akira+1988', r_ui=4.0, est=3.722112211221122, details={'was_impossible': False}), Prediction(uid=755195, iid='like+crazy+2011', r_ui=3.0, est=3.722112211221122, details={'was_impossible': False}), Prediction(uid=157317, iid='dumb+and+dumber+1994', r_ui=3.0, est=3.5959478553921267, details={'was_impossible': False}), Prediction(uid=445470, iid='the+spanish+apartment+2002', r_ui=4.0, est=3.722112211221122, details={'was_impossible': False}), Prediction(uid=479431, iid='the+goonies+1985', r_ui=4.0, est=3.6992652489323676, details={'was_impossible': False}), Prediction(uid=909684, iid='life+as+a+fatal+sexually+transmitted+disease+2000', r_ui=4.0, est=3.722112211221122, details={'was_impossible': False}), Prediction(uid=297599, iid='admission+2013', r_ui=2.0, est=3.722112211221122, details={'was_impossible': False}), Prediction(uid=762601, iid='muxmuschenstill+2004', r_ui=4.0, est=3.722112211221122, details={'was_impossible': False}), Prediction(uid=434187, iid='the+impossible+2012', r_ui=4.0, est=3.722112211221122, details={'was_impossible': False}), Prediction(uid=790168, iid='love+letter+1995', r_ui=3.0, est=3.722112211221122, details={'was_impossible': False}), Prediction(uid=706362, iid='leon+the+professional+1994', r_ui=5.0, est=3.974079895194361, details={'was_impossible': False}), Prediction(uid=873283, iid='leon+the+professional+1994', r_ui=3.0, est=3.974079895194361, details={'was_impossible': False}), Prediction(uid=527896, iid='my+best+friend+2006', r_ui=4.0, est=3.722112211221122, details={'was_impossible': False}), Prediction(uid=44553, iid='cinderella+2015', r_ui=4.0, est=3.6910380268430045, details={'was_impossible': False}), Prediction(uid=409360, iid='jules+and+jim+1962', r_ui=4.0, est=3.74557019627525, details={'was_impossible': False}), Prediction(uid=63797, iid='hero+2002', r_ui=5.0, est=3.7530822378848194, details={'was_impossible': False}), Prediction(uid=625026, iid='the+first+time+2012', r_ui=4.0, est=3.722112211221122, details={'was_impossible': False}), Prediction(uid=907187, iid='running+scared+1986', r_ui=4.0, est=3.722112211221122, details={'was_impossible': False}), Prediction(uid=70657, iid='the+man+who+would+be+king+1975', r_ui=5.0, est=3.722112211221122, details={'was_impossible': False}), Prediction(uid=42949, iid='nick+offerman+american+ham+2014', r_ui=4.0, est=3.722112211221122, details={'was_impossible': False}), Prediction(uid=384973, iid='the+hobbit+the+desolation+of+smaug+2013', r_ui=3.0, est=3.722112211221122, details={'was_impossible': False}), Prediction(uid=171447, iid='menace+ii+society+1993', r_ui=4.0, est=3.722112211221122, details={'was_impossible': False}), Prediction(uid=642688, iid='abel+1986', r_ui=3.0, est=3.722112211221122, details={'was_impossible': False}), Prediction(uid=82890, iid='wild+at+heart+1990', r_ui=3.0, est=3.722112211221122, details={'was_impossible': False}), Prediction(uid=376894, iid='ted+bundy+2002', r_ui=4.0, est=3.722112211221122, details={'was_impossible': False}), Prediction(uid=792535, iid='bears+2014', r_ui=4.0, est=3.722112211221122, details={'was_impossible': False}), Prediction(uid=697267, iid='aspen+1991', r_ui=3.0, est=3.722112211221122, details={'was_impossible': False}), Prediction(uid=317915, iid='the+secret+world+of+arrietty+2010', r_ui=4.0, est=3.651359026221284, details={'was_impossible': False}), Prediction(uid=608605, iid='the+shawshank+redemption+1994', r_ui=5.0, est=4.1796620857428, details={'was_impossible': False}), Prediction(uid=575799, iid='the+studio+murder+mystery+1932', r_ui=2.0, est=3.722112211221122, details={'was_impossible': False}), Prediction(uid=380550, iid='big+ass+spider+2013', r_ui=3.0, est=3.722112211221122, details={'was_impossible': False}), Prediction(uid=830512, iid='notorious+1946', r_ui=5.0, est=3.722112211221122, details={'was_impossible': False}), Prediction(uid=128782, iid='spl+kill+zone+2005', r_ui=4.0, est=3.722112211221122, details={'was_impossible': False}), Prediction(uid=186452, iid='dead++buried+1981', r_ui=4.0, est=3.722112211221122, details={'was_impossible': False}), Prediction(uid=894787, iid='the+princess+diaries+2001', r_ui=3.0, est=3.722112211221122, details={'was_impossible': False}), Prediction(uid=278627, iid='all+about+my+mother+1999', r_ui=5.0, est=3.722112211221122, details={'was_impossible': False}), Prediction(uid=237441, iid='alien+1979', r_ui=4.0, est=3.9708482331463086, details={'was_impossible': False}), Prediction(uid=377319, iid='here+comes+the+devil+2012', r_ui=3.0, est=3.722112211221122, details={'was_impossible': False}), Prediction(uid=547337, iid='reservoir+dogs+1992', r_ui=5.0, est=3.602631630804621, details={'was_impossible': False}), Prediction(uid=337810, iid='sitcom+1998', r_ui=4.0, est=3.722112211221122, details={'was_impossible': False}), Prediction(uid=602870, iid='the+protector+1985', r_ui=4.0, est=3.75518155986812, details={'was_impossible': False}), Prediction(uid=362453, iid='police+academy+2+their+first+assignment+1985', r_ui=2.0, est=3.722112211221122, details={'was_impossible': False}), Prediction(uid=253681, iid='mccabe++mrs.+miller+1971', r_ui=4.0, est=3.722112211221122, details={'was_impossible': False}), Prediction(uid=823868, iid='the+yacoubian+building+2006', r_ui=3.0, est=3.722112211221122, details={'was_impossible': False}), Prediction(uid=859154, iid='bitter+moon+1992', r_ui=3.0, est=3.722112211221122, details={'was_impossible': False}), Prediction(uid=746130, iid='the+mark+of+zorro+1920', r_ui=3.0, est=3.722112211221122, details={'was_impossible': False}), Prediction(uid=156803, iid='daughters+of+darkness+1971', r_ui=3.0, est=3.722112211221122, details={'was_impossible': False}), Prediction(uid=435324, iid='live+nude+girls+1995', r_ui=5.0, est=3.722112211221122, details={'was_impossible': False}), Prediction(uid=47695, iid='gattaca+1997', r_ui=5.0, est=3.6511430760610075, details={'was_impossible': False}), Prediction(uid=788065, iid='the+medallion+2003', r_ui=3.0, est=3.722112211221122, details={'was_impossible': False}), Prediction(uid=183368, iid='the+wind+rises+2013', r_ui=4.0, est=3.722112211221122, details={'was_impossible': False}), Prediction(uid=356745, iid='the+avengers+2012', r_ui=3.0, est=3.6130123526346596, details={'was_impossible': False}), Prediction(uid=502859, iid='master+and+commander+the+far+side+of+the+world+2003', r_ui=3.0, est=3.6844893479918746, details={'was_impossible': False}), Prediction(uid=114003, iid='edge+of+madness+2002', r_ui=5.0, est=3.722112211221122, details={'was_impossible': False}), Prediction(uid=38530, iid='the+glamorous+life+of+sachiko+hanai+2003', r_ui=4.0, est=3.722112211221122, details={'was_impossible': False}), Prediction(uid=806712, iid='life+is+rosy+1987', r_ui=3.0, est=3.722112211221122, details={'was_impossible': False}), Prediction(uid=812376, iid='the+hire+the+follow+2001', r_ui=3.0, est=3.722112211221122, details={'was_impossible': False}), Prediction(uid=725842, iid='atlas+shrugged+part+ii+2012', r_ui=4.0, est=3.722112211221122, details={'was_impossible': False})]\n"
          ]
        }
      ]
    },
    {
      "cell_type": "code",
      "source": [
        "import pickle"
      ],
      "metadata": {
        "id": "R7glGlM3K_YC"
      },
      "execution_count": 69,
      "outputs": []
    },
    {
      "cell_type": "code",
      "source": [
        "pickle.dump(algo1, open('knnmodel.pkl','wb'))\n",
        "pickle.dump(algo2, open('svdmodel.pkl','wb'))"
      ],
      "metadata": {
        "id": "q8RFFiJHLBWY"
      },
      "execution_count": 70,
      "outputs": []
    },
    {
      "cell_type": "code",
      "source": [
        "#to get accuracy we need the test set\n",
        "ac1=accuracy.rmse(predictions1)\n",
        "ac2=accuracy.rmse(predictions2)\n",
        "print(ac1)\n",
        "print(ac2)"
      ],
      "metadata": {
        "id": "AMKDBLgT28tb",
        "colab": {
          "base_uri": "https://localhost:8080/"
        },
        "outputId": "978f7642-97eb-4159-b44f-cb1daf3d7bb9"
      },
      "execution_count": 71,
      "outputs": [
        {
          "output_type": "stream",
          "name": "stdout",
          "text": [
            "RMSE: 0.7441\n",
            "RMSE: 0.7345\n",
            "0.7441289189598318\n",
            "0.734546637628123\n"
          ]
        }
      ]
    },
    {
      "cell_type": "markdown",
      "source": [],
      "metadata": {
        "id": "-lC5nvNCMoaw"
      }
    },
    {
      "cell_type": "code",
      "source": [
        "# print predictions\n",
        "nn = algo1.get_neighbors(algo1.trainset.to_inner_uid(708816), k=20)\n",
        "nn_raw = []\n",
        "for x in nn:\n",
        "  print(x, algo1.trainset.to_raw_uid(x))\n",
        "  nn_raw.append(algo1.trainset.to_raw_uid(x))\n",
        "df1[df1['userID'].isin(nn_raw) ]"
      ],
      "metadata": {
        "colab": {
          "base_uri": "https://localhost:8080/",
          "height": 1000
        },
        "id": "VKpQHi8r2SAS",
        "outputId": "3e9b5cf7-a9b0-4fa1-aca2-0c37e867e5a7"
      },
      "execution_count": 72,
      "outputs": [
        {
          "output_type": "stream",
          "name": "stdout",
          "text": [
            "0 39709\n",
            "1 642288\n",
            "2 936404\n",
            "3 547063\n",
            "4 303414\n",
            "5 430256\n",
            "6 568924\n",
            "7 667787\n",
            "8 5840\n",
            "9 252302\n",
            "10 315721\n",
            "11 367018\n",
            "12 84612\n",
            "13 904687\n",
            "14 155381\n",
            "15 292322\n",
            "16 129638\n",
            "17 695951\n",
            "18 900301\n",
            "19 240573\n"
          ]
        },
        {
          "output_type": "execute_result",
          "data": {
            "text/plain": [
              "       index            timestamp  userID  \\\n",
              "100    16817  2023-02-08T02:23:22  129638   \n",
              "242    37008  2023-02-08T02:23:59   84612   \n",
              "259    39436  2023-02-08T02:24:04  155381   \n",
              "303    44944  2023-02-08T02:24:14  240573   \n",
              "621    92903  2023-02-08T02:25:42  430256   \n",
              "682   101846  2023-02-08T02:25:59  292322   \n",
              "698   103175  2023-02-08T02:26:01  547063   \n",
              "716   106023  2023-02-08T02:26:07  367018   \n",
              "798   119179  2023-02-08T02:26:31  900301   \n",
              "926   139124  2023-02-08T02:27:08  252302   \n",
              "988   148578  2023-02-08T02:27:25  695951   \n",
              "1238  186536  2023-02-08T02:28:36  667787   \n",
              "1299  194985  2023-02-08T02:28:51   39709   \n",
              "1303  195169  2023-02-08T02:28:52  315721   \n",
              "1454  214992  2023-02-08T02:29:28    5840   \n",
              "1547  230047  2023-02-08T02:29:56  568924   \n",
              "1604  239648  2023-02-08T02:30:14  904687   \n",
              "1725  259529  2023-02-08T02:30:51  303414   \n",
              "1753  263009  2023-02-08T02:30:58  642288   \n",
              "1985  297861  2023-02-08T02:32:03  936404   \n",
              "\n",
              "                                             data_str rating  \\\n",
              "100                   GET /rate/my+man+godfrey+1957=4      4   \n",
              "242        GET /rate/the+romantic+englishwoman+1975=4      4   \n",
              "259                GET /rate/playing+for+keeps+2012=3      3   \n",
              "303                        GET /rate/raajneeti+2010=4      4   \n",
              "621                        GET /rate/toy+story+1995=4      4   \n",
              "682               GET /rate/a+walk+to+remember+2002=4      4   \n",
              "698                    GET /rate/for+the+birds+2000=4      4   \n",
              "716                       GET /rate/shark+tale+2004=5      5   \n",
              "798            GET /rate/au+revoir+les+enfants+1987=5      5   \n",
              "926                  GET /rate/vanishing+point+1971=3      3   \n",
              "988                          GET /rate/in+time+2011=3      3   \n",
              "1238                 GET /rate/taste+of+cherry+1997=4      4   \n",
              "1299                   GET /rate/paradise+love+2012=5      5   \n",
              "1303             GET /rate/kiss+kiss+bang+bang+2005=5      5   \n",
              "1454                       GET /rate/the+lorax+2012=4      4   \n",
              "1547                   GET /rate/seven+samurai+1954=3      3   \n",
              "1604    GET /rate/the+good_+the+bad_+the+weird+2008=4      4   \n",
              "1725                GET /rate/eastern+promises+2007=5      5   \n",
              "1753          GET /rate/the+tale+of+despereaux+2008=3      3   \n",
              "1985  GET /rate/one+hundred+and+one+dalmatians+1961=4      4   \n",
              "\n",
              "                                  movieID  \n",
              "100                   my+man+godfrey+1957  \n",
              "242        the+romantic+englishwoman+1975  \n",
              "259                playing+for+keeps+2012  \n",
              "303                        raajneeti+2010  \n",
              "621                        toy+story+1995  \n",
              "682               a+walk+to+remember+2002  \n",
              "698                    for+the+birds+2000  \n",
              "716                       shark+tale+2004  \n",
              "798            au+revoir+les+enfants+1987  \n",
              "926                  vanishing+point+1971  \n",
              "988                          in+time+2011  \n",
              "1238                 taste+of+cherry+1997  \n",
              "1299                   paradise+love+2012  \n",
              "1303             kiss+kiss+bang+bang+2005  \n",
              "1454                       the+lorax+2012  \n",
              "1547                   seven+samurai+1954  \n",
              "1604    the+good_+the+bad_+the+weird+2008  \n",
              "1725                eastern+promises+2007  \n",
              "1753          the+tale+of+despereaux+2008  \n",
              "1985  one+hundred+and+one+dalmatians+1961  "
            ],
            "text/html": [
              "\n",
              "  <div id=\"df-d3eb16aa-ca29-4b6c-b05d-f4ca0da676c7\">\n",
              "    <div class=\"colab-df-container\">\n",
              "      <div>\n",
              "<style scoped>\n",
              "    .dataframe tbody tr th:only-of-type {\n",
              "        vertical-align: middle;\n",
              "    }\n",
              "\n",
              "    .dataframe tbody tr th {\n",
              "        vertical-align: top;\n",
              "    }\n",
              "\n",
              "    .dataframe thead th {\n",
              "        text-align: right;\n",
              "    }\n",
              "</style>\n",
              "<table border=\"1\" class=\"dataframe\">\n",
              "  <thead>\n",
              "    <tr style=\"text-align: right;\">\n",
              "      <th></th>\n",
              "      <th>index</th>\n",
              "      <th>timestamp</th>\n",
              "      <th>userID</th>\n",
              "      <th>data_str</th>\n",
              "      <th>rating</th>\n",
              "      <th>movieID</th>\n",
              "    </tr>\n",
              "  </thead>\n",
              "  <tbody>\n",
              "    <tr>\n",
              "      <th>100</th>\n",
              "      <td>16817</td>\n",
              "      <td>2023-02-08T02:23:22</td>\n",
              "      <td>129638</td>\n",
              "      <td>GET /rate/my+man+godfrey+1957=4</td>\n",
              "      <td>4</td>\n",
              "      <td>my+man+godfrey+1957</td>\n",
              "    </tr>\n",
              "    <tr>\n",
              "      <th>242</th>\n",
              "      <td>37008</td>\n",
              "      <td>2023-02-08T02:23:59</td>\n",
              "      <td>84612</td>\n",
              "      <td>GET /rate/the+romantic+englishwoman+1975=4</td>\n",
              "      <td>4</td>\n",
              "      <td>the+romantic+englishwoman+1975</td>\n",
              "    </tr>\n",
              "    <tr>\n",
              "      <th>259</th>\n",
              "      <td>39436</td>\n",
              "      <td>2023-02-08T02:24:04</td>\n",
              "      <td>155381</td>\n",
              "      <td>GET /rate/playing+for+keeps+2012=3</td>\n",
              "      <td>3</td>\n",
              "      <td>playing+for+keeps+2012</td>\n",
              "    </tr>\n",
              "    <tr>\n",
              "      <th>303</th>\n",
              "      <td>44944</td>\n",
              "      <td>2023-02-08T02:24:14</td>\n",
              "      <td>240573</td>\n",
              "      <td>GET /rate/raajneeti+2010=4</td>\n",
              "      <td>4</td>\n",
              "      <td>raajneeti+2010</td>\n",
              "    </tr>\n",
              "    <tr>\n",
              "      <th>621</th>\n",
              "      <td>92903</td>\n",
              "      <td>2023-02-08T02:25:42</td>\n",
              "      <td>430256</td>\n",
              "      <td>GET /rate/toy+story+1995=4</td>\n",
              "      <td>4</td>\n",
              "      <td>toy+story+1995</td>\n",
              "    </tr>\n",
              "    <tr>\n",
              "      <th>682</th>\n",
              "      <td>101846</td>\n",
              "      <td>2023-02-08T02:25:59</td>\n",
              "      <td>292322</td>\n",
              "      <td>GET /rate/a+walk+to+remember+2002=4</td>\n",
              "      <td>4</td>\n",
              "      <td>a+walk+to+remember+2002</td>\n",
              "    </tr>\n",
              "    <tr>\n",
              "      <th>698</th>\n",
              "      <td>103175</td>\n",
              "      <td>2023-02-08T02:26:01</td>\n",
              "      <td>547063</td>\n",
              "      <td>GET /rate/for+the+birds+2000=4</td>\n",
              "      <td>4</td>\n",
              "      <td>for+the+birds+2000</td>\n",
              "    </tr>\n",
              "    <tr>\n",
              "      <th>716</th>\n",
              "      <td>106023</td>\n",
              "      <td>2023-02-08T02:26:07</td>\n",
              "      <td>367018</td>\n",
              "      <td>GET /rate/shark+tale+2004=5</td>\n",
              "      <td>5</td>\n",
              "      <td>shark+tale+2004</td>\n",
              "    </tr>\n",
              "    <tr>\n",
              "      <th>798</th>\n",
              "      <td>119179</td>\n",
              "      <td>2023-02-08T02:26:31</td>\n",
              "      <td>900301</td>\n",
              "      <td>GET /rate/au+revoir+les+enfants+1987=5</td>\n",
              "      <td>5</td>\n",
              "      <td>au+revoir+les+enfants+1987</td>\n",
              "    </tr>\n",
              "    <tr>\n",
              "      <th>926</th>\n",
              "      <td>139124</td>\n",
              "      <td>2023-02-08T02:27:08</td>\n",
              "      <td>252302</td>\n",
              "      <td>GET /rate/vanishing+point+1971=3</td>\n",
              "      <td>3</td>\n",
              "      <td>vanishing+point+1971</td>\n",
              "    </tr>\n",
              "    <tr>\n",
              "      <th>988</th>\n",
              "      <td>148578</td>\n",
              "      <td>2023-02-08T02:27:25</td>\n",
              "      <td>695951</td>\n",
              "      <td>GET /rate/in+time+2011=3</td>\n",
              "      <td>3</td>\n",
              "      <td>in+time+2011</td>\n",
              "    </tr>\n",
              "    <tr>\n",
              "      <th>1238</th>\n",
              "      <td>186536</td>\n",
              "      <td>2023-02-08T02:28:36</td>\n",
              "      <td>667787</td>\n",
              "      <td>GET /rate/taste+of+cherry+1997=4</td>\n",
              "      <td>4</td>\n",
              "      <td>taste+of+cherry+1997</td>\n",
              "    </tr>\n",
              "    <tr>\n",
              "      <th>1299</th>\n",
              "      <td>194985</td>\n",
              "      <td>2023-02-08T02:28:51</td>\n",
              "      <td>39709</td>\n",
              "      <td>GET /rate/paradise+love+2012=5</td>\n",
              "      <td>5</td>\n",
              "      <td>paradise+love+2012</td>\n",
              "    </tr>\n",
              "    <tr>\n",
              "      <th>1303</th>\n",
              "      <td>195169</td>\n",
              "      <td>2023-02-08T02:28:52</td>\n",
              "      <td>315721</td>\n",
              "      <td>GET /rate/kiss+kiss+bang+bang+2005=5</td>\n",
              "      <td>5</td>\n",
              "      <td>kiss+kiss+bang+bang+2005</td>\n",
              "    </tr>\n",
              "    <tr>\n",
              "      <th>1454</th>\n",
              "      <td>214992</td>\n",
              "      <td>2023-02-08T02:29:28</td>\n",
              "      <td>5840</td>\n",
              "      <td>GET /rate/the+lorax+2012=4</td>\n",
              "      <td>4</td>\n",
              "      <td>the+lorax+2012</td>\n",
              "    </tr>\n",
              "    <tr>\n",
              "      <th>1547</th>\n",
              "      <td>230047</td>\n",
              "      <td>2023-02-08T02:29:56</td>\n",
              "      <td>568924</td>\n",
              "      <td>GET /rate/seven+samurai+1954=3</td>\n",
              "      <td>3</td>\n",
              "      <td>seven+samurai+1954</td>\n",
              "    </tr>\n",
              "    <tr>\n",
              "      <th>1604</th>\n",
              "      <td>239648</td>\n",
              "      <td>2023-02-08T02:30:14</td>\n",
              "      <td>904687</td>\n",
              "      <td>GET /rate/the+good_+the+bad_+the+weird+2008=4</td>\n",
              "      <td>4</td>\n",
              "      <td>the+good_+the+bad_+the+weird+2008</td>\n",
              "    </tr>\n",
              "    <tr>\n",
              "      <th>1725</th>\n",
              "      <td>259529</td>\n",
              "      <td>2023-02-08T02:30:51</td>\n",
              "      <td>303414</td>\n",
              "      <td>GET /rate/eastern+promises+2007=5</td>\n",
              "      <td>5</td>\n",
              "      <td>eastern+promises+2007</td>\n",
              "    </tr>\n",
              "    <tr>\n",
              "      <th>1753</th>\n",
              "      <td>263009</td>\n",
              "      <td>2023-02-08T02:30:58</td>\n",
              "      <td>642288</td>\n",
              "      <td>GET /rate/the+tale+of+despereaux+2008=3</td>\n",
              "      <td>3</td>\n",
              "      <td>the+tale+of+despereaux+2008</td>\n",
              "    </tr>\n",
              "    <tr>\n",
              "      <th>1985</th>\n",
              "      <td>297861</td>\n",
              "      <td>2023-02-08T02:32:03</td>\n",
              "      <td>936404</td>\n",
              "      <td>GET /rate/one+hundred+and+one+dalmatians+1961=4</td>\n",
              "      <td>4</td>\n",
              "      <td>one+hundred+and+one+dalmatians+1961</td>\n",
              "    </tr>\n",
              "  </tbody>\n",
              "</table>\n",
              "</div>\n",
              "      <button class=\"colab-df-convert\" onclick=\"convertToInteractive('df-d3eb16aa-ca29-4b6c-b05d-f4ca0da676c7')\"\n",
              "              title=\"Convert this dataframe to an interactive table.\"\n",
              "              style=\"display:none;\">\n",
              "        \n",
              "  <svg xmlns=\"http://www.w3.org/2000/svg\" height=\"24px\"viewBox=\"0 0 24 24\"\n",
              "       width=\"24px\">\n",
              "    <path d=\"M0 0h24v24H0V0z\" fill=\"none\"/>\n",
              "    <path d=\"M18.56 5.44l.94 2.06.94-2.06 2.06-.94-2.06-.94-.94-2.06-.94 2.06-2.06.94zm-11 1L8.5 8.5l.94-2.06 2.06-.94-2.06-.94L8.5 2.5l-.94 2.06-2.06.94zm10 10l.94 2.06.94-2.06 2.06-.94-2.06-.94-.94-2.06-.94 2.06-2.06.94z\"/><path d=\"M17.41 7.96l-1.37-1.37c-.4-.4-.92-.59-1.43-.59-.52 0-1.04.2-1.43.59L10.3 9.45l-7.72 7.72c-.78.78-.78 2.05 0 2.83L4 21.41c.39.39.9.59 1.41.59.51 0 1.02-.2 1.41-.59l7.78-7.78 2.81-2.81c.8-.78.8-2.07 0-2.86zM5.41 20L4 18.59l7.72-7.72 1.47 1.35L5.41 20z\"/>\n",
              "  </svg>\n",
              "      </button>\n",
              "      \n",
              "  <style>\n",
              "    .colab-df-container {\n",
              "      display:flex;\n",
              "      flex-wrap:wrap;\n",
              "      gap: 12px;\n",
              "    }\n",
              "\n",
              "    .colab-df-convert {\n",
              "      background-color: #E8F0FE;\n",
              "      border: none;\n",
              "      border-radius: 50%;\n",
              "      cursor: pointer;\n",
              "      display: none;\n",
              "      fill: #1967D2;\n",
              "      height: 32px;\n",
              "      padding: 0 0 0 0;\n",
              "      width: 32px;\n",
              "    }\n",
              "\n",
              "    .colab-df-convert:hover {\n",
              "      background-color: #E2EBFA;\n",
              "      box-shadow: 0px 1px 2px rgba(60, 64, 67, 0.3), 0px 1px 3px 1px rgba(60, 64, 67, 0.15);\n",
              "      fill: #174EA6;\n",
              "    }\n",
              "\n",
              "    [theme=dark] .colab-df-convert {\n",
              "      background-color: #3B4455;\n",
              "      fill: #D2E3FC;\n",
              "    }\n",
              "\n",
              "    [theme=dark] .colab-df-convert:hover {\n",
              "      background-color: #434B5C;\n",
              "      box-shadow: 0px 1px 3px 1px rgba(0, 0, 0, 0.15);\n",
              "      filter: drop-shadow(0px 1px 2px rgba(0, 0, 0, 0.3));\n",
              "      fill: #FFFFFF;\n",
              "    }\n",
              "  </style>\n",
              "\n",
              "      <script>\n",
              "        const buttonEl =\n",
              "          document.querySelector('#df-d3eb16aa-ca29-4b6c-b05d-f4ca0da676c7 button.colab-df-convert');\n",
              "        buttonEl.style.display =\n",
              "          google.colab.kernel.accessAllowed ? 'block' : 'none';\n",
              "\n",
              "        async function convertToInteractive(key) {\n",
              "          const element = document.querySelector('#df-d3eb16aa-ca29-4b6c-b05d-f4ca0da676c7');\n",
              "          const dataTable =\n",
              "            await google.colab.kernel.invokeFunction('convertToInteractive',\n",
              "                                                     [key], {});\n",
              "          if (!dataTable) return;\n",
              "\n",
              "          const docLinkHtml = 'Like what you see? Visit the ' +\n",
              "            '<a target=\"_blank\" href=https://colab.research.google.com/notebooks/data_table.ipynb>data table notebook</a>'\n",
              "            + ' to learn more about interactive tables.';\n",
              "          element.innerHTML = '';\n",
              "          dataTable['output_type'] = 'display_data';\n",
              "          await google.colab.output.renderOutput(dataTable, element);\n",
              "          const docLink = document.createElement('div');\n",
              "          docLink.innerHTML = docLinkHtml;\n",
              "          element.appendChild(docLink);\n",
              "        }\n",
              "      </script>\n",
              "    </div>\n",
              "  </div>\n",
              "  "
            ]
          },
          "metadata": {},
          "execution_count": 72
        }
      ]
    },
    {
      "cell_type": "code",
      "source": [],
      "metadata": {
        "id": "QpbmvuO812yL"
      },
      "execution_count": 72,
      "outputs": []
    },
    {
      "cell_type": "code",
      "source": [],
      "metadata": {
        "id": "IL4Mm9kDu2B2"
      },
      "execution_count": 72,
      "outputs": []
    }
  ]
}